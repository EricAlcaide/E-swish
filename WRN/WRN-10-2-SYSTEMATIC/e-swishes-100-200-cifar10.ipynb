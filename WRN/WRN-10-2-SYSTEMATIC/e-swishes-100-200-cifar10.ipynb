{
 "cells": [
  {
   "cell_type": "code",
   "execution_count": null,
   "metadata": {},
   "outputs": [],
   "source": [
    "import keras\n",
    "import keras.backend as K\n",
    "from keras.models import Sequential\n",
    "from keras.utils import np_utils\n",
    "from keras.preprocessing.image import ImageDataGenerator\n",
    "from keras.layers import Dense, Activation, Flatten, Dropout, BatchNormalization\n",
    "from keras.layers import Conv2D, MaxPooling2D\n",
    "from keras.datasets import cifar10\n",
    "from keras import regularizers, optimizers\n",
    "import numpy as np\n",
    "import wide_residual_network as wrn\n",
    "import keras.callbacks as callbacks\n",
    "\n",
    "(x_train, y_train), (x_test, y_test) = cifar10.load_data()\n",
    "x_train = x_train.astype('float32')\n",
    "x_test = x_test.astype('float32')\n",
    "\n",
    "#z-score\n",
    "mean = np.mean(x_train,axis=(0,1,2,3))\n",
    "std = np.std(x_train,axis=(0,1,2,3))\n",
    "x_train = (x_train-mean)/(std+1e-7)\n",
    "x_test = (x_test-mean)/(std+1e-7)\n",
    "\n",
    "num_classes = 10\n",
    "y_train = np_utils.to_categorical(y_train,num_classes)\n",
    "y_test = np_utils.to_categorical(y_test,num_classes)"
   ]
  },
  {
   "cell_type": "code",
   "execution_count": null,
   "metadata": {
    "collapsed": true
   },
   "outputs": [],
   "source": [
    "# Configure logs\n",
    "import logging\n",
    "\n",
    "# Record settings\n",
    "LOG_FORMAT = \"%(levelname)s %(asctime)s - %(message)s\"\n",
    "logging.basicConfig(filename=\"wrn_10_2_systematically.txt\",format = LOG_FORMAT, level = logging.DEBUG, filemode = \"a\")\n",
    "logs = logging.getLogger()"
   ]
  },
  {
   "cell_type": "code",
   "execution_count": null,
   "metadata": {
    "collapsed": true
   },
   "outputs": [],
   "source": [
    "def swish(x):\n",
    "    return x*K.sigmoid(x)\n",
    "\n",
    "def swish_125(x):\n",
    "    return 1.125*x*K.sigmoid(x)\n",
    "\n",
    "def swish_250(x):\n",
    "    return 1.25*x*K.sigmoid(x)\n",
    "\n",
    "def swish_375(x):\n",
    "    return 1.375*x*K.sigmoid(x)\n",
    "\n",
    "def swish_500(x):\n",
    "    return 1.5*x*K.sigmoid(x)\n",
    "\n",
    "def swish_625(x):\n",
    "    return 1.625*x*K.sigmoid(x)\n",
    "\n",
    "def swish_750(x):\n",
    "    return 1.75*x*K.sigmoid(x)\n",
    "\n",
    "def swish_875(x):\n",
    "    return 1.875*x*K.sigmoid(x)\n",
    "\n",
    "def swish_200(x):\n",
    "    return 2*x*K.sigmoid(x)"
   ]
  },
  {
   "cell_type": "code",
   "execution_count": null,
   "metadata": {},
   "outputs": [],
   "source": [
    "activations = [\"relu\", swish, swish_125, swish_250, swish_375, swish_500, swish_625, swish_750, swish_875, swish_200]\n",
    "names = activations[:]\n",
    "for i,a in enumerate(names):\n",
    "    if not isinstance(a, str):\n",
    "        names[i] = a.__name__\n",
    "print(names)"
   ]
  },
  {
   "cell_type": "code",
   "execution_count": null,
   "metadata": {
    "collapsed": true
   },
   "outputs": [],
   "source": [
    "#data augmentation\n",
    "datagen = ImageDataGenerator(width_shift_range=0.125,\n",
    "                             height_shift_range=0.125,\n",
    "                             horizontal_flip=True,\n",
    "                             fill_mode=\"reflect\")\n",
    "datagen.fit(x_train)"
   ]
  },
  {
   "cell_type": "code",
   "execution_count": null,
   "metadata": {
    "collapsed": true
   },
   "outputs": [],
   "source": [
    "def schedule(x):\n",
    "    if x < 45:\n",
    "        return 0.125\n",
    "    elif x < 85:\n",
    "        return 0.125*0.2\n",
    "    elif x < 105:\n",
    "        return 0.125*0.2*0.2\n",
    "    elif x < 125:\n",
    "        return 0.125*0.2*0.2*0.2\n",
    "    else:\n",
    "        return 0.125*0.2*0.2*0.2*0.5"
   ]
  },
  {
   "cell_type": "code",
   "execution_count": null,
   "metadata": {
    "collapsed": true,
    "scrolled": true
   },
   "outputs": [],
   "source": [
    "def run(act):# SWISH - 125\n",
    "    init_shape = (3, 32, 32) if K.image_dim_ordering() == 'th' else (32, 32, 3)\n",
    "    # For WRN-16-8 put N = 2, k = 8\n",
    "    # For WRN-28-10 put N = 4, k = 10\n",
    "    # For WRN-40-4 put N = 6, k = 4\n",
    "    model = wrn.create_wide_residual_network(act, init_shape, nb_classes=num_classes, N=1, k=2)\n",
    "\n",
    "    print(\"Model Created\")\n",
    "    batch_size  = 128\n",
    "    epochs = 125\n",
    "\n",
    "    opt = keras.optimizers.SGD(lr=0.2, momentum=0.9, decay=0.0, nesterov=False)\n",
    "    lr_1 = keras.callbacks.LearningRateScheduler(schedule)\n",
    "    model.compile(loss=\"categorical_crossentropy\", optimizer=opt, metrics=[\"accuracy\"])\n",
    "    print(\"Finished compiling\")\n",
    "\n",
    "    ####################\n",
    "    # Network training #\n",
    "    ####################\n",
    "\n",
    "    print(\"Gonna fit the model\")\n",
    "    his = model.fit_generator(datagen.flow(x_train, y_train, batch_size=batch_size),steps_per_epoch=x_train.shape[0] // batch_size,epochs=epochs,verbose=1,validation_data=(x_test,y_test), callbacks=[lr_1])\n",
    "#     print(his.history)\n",
    "    return his.history"
   ]
  },
  {
   "cell_type": "code",
   "execution_count": null,
   "metadata": {
    "scrolled": true
   },
   "outputs": [],
   "source": [
    "for i, act in enumerate(activations):\n",
    "    logs.info(\"\\n \\n Starting training for \"+names[i])\n",
    "    first = run(act)\n",
    "    logs.info(\"First: \"+str(first[\"val_acc\"][-1]))\n",
    "    second = run(act)\n",
    "    logs.info(\"Second: \"+str(second[\"val_acc\"][-1]))\n",
    "    third = run(act)\n",
    "    logs.info(\"Third: \"+str(third[\"val_acc\"][-1]))\n",
    "    print(\"\\n \\n \\n \\n\")"
   ]
  },
  {
   "cell_type": "code",
   "execution_count": null,
   "metadata": {},
   "outputs": [],
   "source": [
    "new_activations = activations[-2:]\n",
    "new_names = names[-2:]\n",
    "for i, act in enumerate(new_activations):\n",
    "    logs.info(\"\\n \\n Starting training for \"+new_names[i])\n",
    "    first = run(act)\n",
    "    logs.info(\"First: \"+str(first[\"val_acc\"][-1]))\n",
    "    second = run(act)\n",
    "    logs.info(\"Second: \"+str(second[\"val_acc\"][-1]))\n",
    "    third = run(act)\n",
    "    logs.info(\"Third: \"+str(third[\"val_acc\"][-1]))\n",
    "    print(\"\\n \\n \\n \\n\")"
   ]
  },
  {
   "cell_type": "code",
   "execution_count": null,
   "metadata": {
    "collapsed": true
   },
   "outputs": [],
   "source": [
    "\n",
    "\n",
    "\n",
    "\n",
    "\n",
    "\n",
    "\n",
    "\n",
    "\n",
    "\n",
    "\n",
    "\n",
    "\n",
    "\n",
    "\n",
    "\n",
    "\n",
    "\n",
    "\n",
    "\n",
    "\n",
    "\n",
    "\n",
    "\n",
    "\n",
    "\n",
    "\n",
    "\n",
    "\n",
    "\n",
    "\n",
    "\n",
    "\n",
    "\n",
    "\n",
    "\n",
    "\n",
    "\n",
    "\n",
    "\n"
   ]
  },
  {
   "cell_type": "code",
   "execution_count": null,
   "metadata": {
    "collapsed": true
   },
   "outputs": [],
   "source": []
  },
  {
   "cell_type": "code",
   "execution_count": null,
   "metadata": {
    "collapsed": true
   },
   "outputs": [],
   "source": []
  },
  {
   "cell_type": "code",
   "execution_count": null,
   "metadata": {
    "collapsed": true
   },
   "outputs": [],
   "source": []
  },
  {
   "cell_type": "code",
   "execution_count": null,
   "metadata": {
    "collapsed": true
   },
   "outputs": [],
   "source": []
  }
 ],
 "metadata": {
  "kernelspec": {
   "display_name": "Python 3",
   "language": "python",
   "name": "python3"
  },
  "language_info": {
   "codemirror_mode": {
    "name": "ipython",
    "version": 3
   },
   "file_extension": ".py",
   "mimetype": "text/x-python",
   "name": "python",
   "nbconvert_exporter": "python",
   "pygments_lexer": "ipython3",
   "version": "3.5.3"
  }
 },
 "nbformat": 4,
 "nbformat_minor": 2
}
