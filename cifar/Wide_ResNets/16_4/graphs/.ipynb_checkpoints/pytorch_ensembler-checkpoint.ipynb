{
 "cells": [
  {
   "cell_type": "code",
   "execution_count": 1,
   "metadata": {},
   "outputs": [
    {
     "name": "stderr",
     "output_type": "stream",
     "text": [
      "Using TensorFlow backend.\n",
      "/Library/Frameworks/Python.framework/Versions/3.6/lib/python3.6/importlib/_bootstrap.py:205: RuntimeWarning: compiletime version 3.5 of module 'tensorflow.python.framework.fast_tensor_util' does not match runtime version 3.6\n",
      "  return f(*args, **kwds)\n"
     ]
    }
   ],
   "source": [
    "import numpy as np\n",
    "from keras.datasets import cifar10"
   ]
  },
  {
   "cell_type": "code",
   "execution_count": null,
   "metadata": {
    "collapsed": true
   },
   "outputs": [],
   "source": []
  },
  {
   "cell_type": "code",
   "execution_count": 2,
   "metadata": {
    "collapsed": true
   },
   "outputs": [],
   "source": [
    "def softmax(x):\n",
    "    e_x = np.exp(x) - np.amax(x)\n",
    "    return e_x / e_x.sum(axis=0)"
   ]
  },
  {
   "cell_type": "code",
   "execution_count": null,
   "metadata": {
    "collapsed": true
   },
   "outputs": [],
   "source": []
  },
  {
   "cell_type": "code",
   "execution_count": null,
   "metadata": {
    "collapsed": true
   },
   "outputs": [],
   "source": []
  },
  {
   "cell_type": "code",
   "execution_count": 3,
   "metadata": {
    "scrolled": true
   },
   "outputs": [
    {
     "name": "stdout",
     "output_type": "stream",
     "text": [
      "1000 more\n",
      "1000 more\n",
      "1000 more\n",
      "1000 more\n",
      "1000 more\n",
      "1000 more\n",
      "1000 more\n",
      "1000 more\n",
      "1000 more\n",
      "1000 more\n",
      "1000 more\n",
      "1000 more\n",
      "1000 more\n",
      "1000 more\n",
      "1000 more\n",
      "1000 more\n",
      "1000 more\n",
      "1000 more\n",
      "1000 more\n",
      "1000 more\n",
      "1000 more\n",
      "(10000, 10)\n",
      "[[ -4.90083042e-06  -4.49831680e-06  -4.81777193e-06 ...,  -4.91496108e-06\n",
      "   -4.86961810e-06  -4.92445519e-06]\n",
      " [ -4.88604739e-08   8.74079187e-07  -2.49583755e-07 ...,  -2.49658926e-07\n",
      "    1.00000092e+00  -2.47317021e-07]\n",
      " [ -4.98662597e-05   8.86949022e-03  -9.17242644e-05 ...,  -9.12299545e-05\n",
      "    9.91811430e-01  -8.20444685e-05]\n",
      " ..., \n",
      " [ -7.29081978e-05  -7.25324876e-05  -1.25106549e-05 ...,  -6.97059817e-05\n",
      "   -7.22895147e-05  -7.24782733e-05]\n",
      " [ -9.70507635e-06   1.00008639e+00  -8.69566493e-06 ...,  -9.81943587e-06\n",
      "   -9.91263143e-06  -9.94954674e-06]\n",
      " [ -2.94160565e-05  -2.87808958e-05  -2.93322451e-05 ...,   1.00026233e+00\n",
      "   -2.90999918e-05  -2.96926985e-05]]\n"
     ]
    }
   ],
   "source": [
    "with open(\"cifar_10_logs_1.txt\") as f:\n",
    "    content = f.readlines()\n",
    "    \n",
    "new_content = []\n",
    "for i, l in enumerate(content):\n",
    "    # Merge lines\n",
    "    if l[:4] == \"INFO\":\n",
    "        try:\n",
    "            l = content[i]\n",
    "            l = l[33:-2]\n",
    "            if i+2 < len(content):\n",
    "                if content[i+2][:4] == \"INFO\":\n",
    "    #             print(\"hey\")\n",
    "                    l += content[i+1][:-2]\n",
    "                else:\n",
    "                    l += content[i+1][:-2]\n",
    "                    l += content[i+2][:-2]\n",
    "            else:\n",
    "                    l += content[i+1][:-2]\n",
    "\n",
    "            # Clean unwanted characters\n",
    "            for char in [\"[\", \"]\", \",\"]:\n",
    "    #             print(\"replacing: \"+ char, l)\n",
    "                l.replace(char, \" \")\n",
    "    #             print(l)\n",
    "\n",
    "            parts = l.split(\" \")\n",
    "    #         print(parts)\n",
    "            # Convert to array\n",
    "            lol = []\n",
    "            for p in parts:\n",
    "                try:\n",
    "                    lol.append(float(p))\n",
    "                except:pass\n",
    "    #         print(lol)\n",
    "            hello = np.array(lol)\n",
    "    #         print(hello, hello.shape)\n",
    "            if hello.shape[0] != 10:\n",
    "                print(\"LOL\")\n",
    "                break\n",
    "            new_content.append(softmax(hello))\n",
    "            \n",
    "        except:pass\n",
    "            \n",
    "    else: pass\n",
    "    \n",
    "    if i%1000 == 0: print(\"1000 more\")\n",
    "        \n",
    "print(np.array(new_content).shape)\n",
    "cleaned = np.array(new_content)\n",
    "print(cleaned)"
   ]
  },
  {
   "cell_type": "code",
   "execution_count": 4,
   "metadata": {
    "collapsed": true
   },
   "outputs": [],
   "source": [
    "ensembler = 0"
   ]
  },
  {
   "cell_type": "code",
   "execution_count": 5,
   "metadata": {
    "collapsed": true
   },
   "outputs": [],
   "source": [
    "ensembler += cleaned"
   ]
  },
  {
   "cell_type": "code",
   "execution_count": 6,
   "metadata": {},
   "outputs": [
    {
     "name": "stdout",
     "output_type": "stream",
     "text": [
      "1000 more\n",
      "1000 more\n",
      "1000 more\n",
      "1000 more\n",
      "1000 more\n",
      "1000 more\n",
      "1000 more\n",
      "1000 more\n",
      "1000 more\n",
      "1000 more\n",
      "1000 more\n",
      "1000 more\n",
      "1000 more\n",
      "1000 more\n",
      "1000 more\n",
      "1000 more\n",
      "1000 more\n",
      "1000 more\n",
      "1000 more\n",
      "1000 more\n",
      "1000 more\n",
      "(10000, 10)\n",
      "[[ -6.88311285e-09  -6.82021809e-09  -6.71568857e-09 ...,  -6.90769316e-09\n",
      "   -6.89457826e-09  -6.91148780e-09]\n",
      " [ -4.51994275e-08   2.82880900e-07  -6.16410693e-08 ...,  -6.16259045e-08\n",
      "    1.00000019e+00  -6.14057739e-08]\n",
      " [ -5.23434323e-04   1.54378808e-02  -6.01702816e-04 ...,  -5.83987867e-04\n",
      "    9.89013143e-01  -3.33328514e-04]\n",
      " ..., \n",
      " [ -6.93338813e-06  -6.80913658e-06  -6.74814784e-06 ...,   1.72600785e-03\n",
      "   -6.88697996e-06  -6.84799566e-06]\n",
      " [ -6.54411366e-06   1.00004902e+00   3.78909490e-06 ...,  -6.53696053e-06\n",
      "   -6.65006164e-06  -6.64101143e-06]\n",
      " [ -1.03540179e-05  -1.01708944e-05  -1.03501255e-05 ...,   1.00008875e+00\n",
      "   -1.03910003e-05  -9.84605584e-06]]\n"
     ]
    }
   ],
   "source": [
    "with open(\"cifar_10_logs_2.txt\") as f:\n",
    "    content = f.readlines()\n",
    "    \n",
    "new_content_2 = []\n",
    "for i, l in enumerate(content):\n",
    "    # Merge lines\n",
    "    if l[:4] == \"INFO\":\n",
    "        try:\n",
    "            l = content[i]\n",
    "            l = l[33:-2]\n",
    "            if i+2 < len(content):\n",
    "                if content[i+2][:4] == \"INFO\":\n",
    "    #             print(\"hey\")\n",
    "                    l += content[i+1][:-2]\n",
    "                else:\n",
    "                    l += content[i+1][:-2]\n",
    "                    l += content[i+2][:-2]\n",
    "            else:\n",
    "                    l += content[i+1][:-2]\n",
    "\n",
    "            # Clean unwanted characters\n",
    "            for char in [\"[\", \"]\", \",\"]:\n",
    "    #             print(\"replacing: \"+ char, l)\n",
    "                l.replace(char, \" \")\n",
    "    #             print(l)\n",
    "\n",
    "            parts = l.split(\" \")\n",
    "    #         print(parts)\n",
    "            # Convert to array\n",
    "            lol = []\n",
    "            for p in parts:\n",
    "                try:\n",
    "                    lol.append(float(p))\n",
    "                except:pass\n",
    "    #         print(lol)\n",
    "            hello = np.array(lol)\n",
    "    #         print(hello, hello.shape)\n",
    "            if hello.shape[0] != 10:\n",
    "                print(\"LOL\")\n",
    "                break\n",
    "            new_content_2.append(softmax(hello))\n",
    "            \n",
    "        except:pass\n",
    "            \n",
    "    else: pass\n",
    "    \n",
    "    if i%1000 == 0: print(\"1000 more\")\n",
    "        \n",
    "print(np.array(new_content_2).shape)\n",
    "cleaned_2 = np.array(new_content_2)\n",
    "print(cleaned_2)"
   ]
  },
  {
   "cell_type": "code",
   "execution_count": 7,
   "metadata": {
    "collapsed": true
   },
   "outputs": [],
   "source": [
    "ensembler += cleaned_2"
   ]
  },
  {
   "cell_type": "code",
   "execution_count": 8,
   "metadata": {},
   "outputs": [
    {
     "name": "stdout",
     "output_type": "stream",
     "text": [
      "1000 more\n",
      "1000 more\n",
      "1000 more\n",
      "1000 more\n",
      "1000 more\n",
      "1000 more\n",
      "1000 more\n",
      "1000 more\n",
      "1000 more\n",
      "1000 more\n",
      "1000 more\n",
      "1000 more\n",
      "1000 more\n",
      "1000 more\n",
      "1000 more\n",
      "1000 more\n",
      "1000 more\n",
      "1000 more\n",
      "1000 more\n",
      "1000 more\n",
      "1000 more\n",
      "(10000, 10)\n",
      "[[ -1.57441159e-06  -1.57772741e-06  -1.45891873e-06 ...,  -1.59082624e-06\n",
      "   -1.58431145e-06  -1.59152312e-06]\n",
      " [  3.35313626e-07   2.62089756e-05  -1.70342628e-06 ...,  -1.70323368e-06\n",
      "    9.99985350e-01  -1.69302179e-06]\n",
      " [  6.57110095e-04   6.19226593e-03  -3.55112923e-04 ...,  -3.51745563e-04\n",
      "    9.95548429e-01  -2.72781988e-04]\n",
      " ..., \n",
      " [ -6.46500489e-06  -6.44906528e-06  -6.08788953e-06 ...,  -5.89226992e-06\n",
      "   -6.45000146e-06  -6.44374483e-06]\n",
      " [ -4.90078489e-05   1.00040277e+00  -1.11118866e-05 ...,  -4.76586889e-05\n",
      "   -4.91237558e-05  -4.93641643e-05]\n",
      " [ -2.99193856e-06  -2.99422431e-06  -2.96956578e-06 ...,   1.00002660e+00\n",
      "   -3.02093184e-06  -2.95644880e-06]]\n"
     ]
    }
   ],
   "source": [
    "with open(\"cifar_10_logs_3.txt\") as f:\n",
    "    content = f.readlines()\n",
    "    \n",
    "new_content_3 = []\n",
    "for i, l in enumerate(content):\n",
    "    # Merge lines\n",
    "    if l[:4] == \"INFO\":\n",
    "        try:\n",
    "            l = content[i]\n",
    "            l = l[33:-2]\n",
    "            if i+2 < len(content):\n",
    "                if content[i+2][:4] == \"INFO\":\n",
    "    #             print(\"hey\")\n",
    "                    l += content[i+1][:-2]\n",
    "                else:\n",
    "                    l += content[i+1][:-2]\n",
    "                    l += content[i+2][:-2]\n",
    "            else:\n",
    "                    l += content[i+1][:-2]\n",
    "\n",
    "            # Clean unwanted characters\n",
    "            for char in [\"[\", \"]\", \",\"]:\n",
    "    #             print(\"replacing: \"+ char, l)\n",
    "                l.replace(char, \" \")\n",
    "    #             print(l)\n",
    "\n",
    "            parts = l.split(\" \")\n",
    "    #         print(parts)\n",
    "            # Convert to array\n",
    "            lol = []\n",
    "            for p in parts:\n",
    "                try:\n",
    "                    lol.append(float(p))\n",
    "                except:pass\n",
    "    #         print(lol)\n",
    "            hello = np.array(lol)\n",
    "    #         print(hello, hello.shape)\n",
    "            if hello.shape[0] != 10:\n",
    "                print(\"LOL\")\n",
    "                break\n",
    "            new_content_3.append(softmax(hello))\n",
    "            \n",
    "        except:pass\n",
    "            \n",
    "    else: pass\n",
    "    \n",
    "    if i%1000 == 0: print(\"1000 more\")\n",
    "        \n",
    "print(np.array(new_content_3).shape)\n",
    "cleaned_3 = np.array(new_content_3)\n",
    "print(cleaned_3)"
   ]
  },
  {
   "cell_type": "code",
   "execution_count": 9,
   "metadata": {
    "collapsed": true
   },
   "outputs": [],
   "source": [
    "ensembler += cleaned_3"
   ]
  },
  {
   "cell_type": "code",
   "execution_count": 10,
   "metadata": {},
   "outputs": [
    {
     "name": "stdout",
     "output_type": "stream",
     "text": [
      "1000 more\n",
      "1000 more\n",
      "1000 more\n",
      "1000 more\n",
      "1000 more\n",
      "1000 more\n",
      "1000 more\n",
      "1000 more\n",
      "1000 more\n",
      "1000 more\n",
      "1000 more\n",
      "1000 more\n",
      "1000 more\n",
      "1000 more\n",
      "1000 more\n",
      "1000 more\n",
      "1000 more\n",
      "1000 more\n",
      "1000 more\n",
      "1000 more\n",
      "1000 more\n",
      "(10000, 10)\n",
      "[[ -1.61031776e-06  -1.57999949e-06  -1.47885537e-06 ...,  -1.61145076e-06\n",
      "   -1.59693400e-06  -1.61415272e-06]\n",
      " [ -8.93514509e-07   9.21749650e-06  -9.55381190e-07 ...,  -9.55941850e-07\n",
      "    9.99998325e-01  -9.44531811e-07]\n",
      " [ -1.30832186e-05   1.39098117e-04  -1.39199934e-05 ...,  -1.38905197e-05\n",
      "    9.99969839e-01  -1.23690552e-05]\n",
      " ..., \n",
      " [ -7.42248002e-06  -7.37042783e-06  -6.69785813e-06 ...,  -6.63722754e-06\n",
      "   -7.38086397e-06  -7.37749568e-06]\n",
      " [ -1.82307294e-04   1.00139259e+00   1.60950997e-04 ...,  -2.00064307e-04\n",
      "   -1.99131945e-04  -1.93583899e-04]\n",
      " [ -2.66235687e-06  -2.64394052e-06  -2.68672693e-06 ...,   1.00002362e+00\n",
      "   -2.70357056e-06  -2.61416855e-06]]\n"
     ]
    }
   ],
   "source": [
    "with open(\"cifar_10_logs_4.txt\") as f:\n",
    "    content = f.readlines()\n",
    "    \n",
    "new_content_4 = []\n",
    "for i, l in enumerate(content):\n",
    "    # Merge lines\n",
    "    if l[:4] == \"INFO\":\n",
    "        try:\n",
    "            l = content[i]\n",
    "            l = l[33:-2]\n",
    "            if i+2 < len(content):\n",
    "                if content[i+2][:4] == \"INFO\":\n",
    "    #             print(\"hey\")\n",
    "                    l += content[i+1][:-2]\n",
    "                else:\n",
    "                    l += content[i+1][:-2]\n",
    "                    l += content[i+2][:-2]\n",
    "            else:\n",
    "                    l += content[i+1][:-2]\n",
    "\n",
    "            # Clean unwanted characters\n",
    "            for char in [\"[\", \"]\", \",\"]:\n",
    "    #             print(\"replacing: \"+ char, l)\n",
    "                l.replace(char, \" \")\n",
    "    #             print(l)\n",
    "\n",
    "            parts = l.split(\" \")\n",
    "    #         print(parts)\n",
    "            # Convert to array\n",
    "            lol = []\n",
    "            for p in parts:\n",
    "                try:\n",
    "                    lol.append(float(p))\n",
    "                except:pass\n",
    "    #         print(lol)\n",
    "            hello = np.array(lol)\n",
    "    #         print(hello, hello.shape)\n",
    "            if hello.shape[0] != 10:\n",
    "                print(\"LOL\")\n",
    "                break\n",
    "            new_content_4.append(softmax(hello))\n",
    "            \n",
    "        except:pass\n",
    "            \n",
    "    else: pass\n",
    "    \n",
    "    if i%1000 == 0: print(\"1000 more\")\n",
    "        \n",
    "print(np.array(new_content_4).shape)\n",
    "cleaned_4 = np.array(new_content_4)\n",
    "print(cleaned_4)"
   ]
  },
  {
   "cell_type": "code",
   "execution_count": 11,
   "metadata": {
    "collapsed": true
   },
   "outputs": [],
   "source": [
    "ensembler += cleaned_4"
   ]
  },
  {
   "cell_type": "code",
   "execution_count": null,
   "metadata": {
    "collapsed": true
   },
   "outputs": [],
   "source": [
    "with open(\"cifar_10_logs_5.txt\") as f:\n",
    "    content = f.readlines()\n",
    "    \n",
    "new_content_5 = []\n",
    "for i, l in enumerate(content):\n",
    "    # Merge lines\n",
    "    if l[:4] == \"INFO\":\n",
    "        try:\n",
    "            l = content[i]\n",
    "            l = l[33:-2]\n",
    "            if i+2 < len(content):\n",
    "                if content[i+2][:4] == \"INFO\":\n",
    "    #             print(\"hey\")\n",
    "                    l += content[i+1][:-2]\n",
    "                else:\n",
    "                    l += content[i+1][:-2]\n",
    "                    l += content[i+2][:-2]\n",
    "            else:\n",
    "                    l += content[i+1][:-2]\n",
    "\n",
    "            # Clean unwanted characters\n",
    "            for char in [\"[\", \"]\", \",\"]:\n",
    "    #             print(\"replacing: \"+ char, l)\n",
    "                l.replace(char, \" \")\n",
    "    #             print(l)\n",
    "\n",
    "            parts = l.split(\" \")\n",
    "    #         print(parts)\n",
    "            # Convert to array\n",
    "            lol = []\n",
    "            for p in parts:\n",
    "                try:\n",
    "                    lol.append(float(p))\n",
    "                except:pass\n",
    "    #         print(lol)\n",
    "            hello = np.array(lol)\n",
    "    #         print(hello, hello.shape)\n",
    "            if hello.shape[0] != 10:\n",
    "                print(\"LOL\")\n",
    "                break\n",
    "            new_content_5.append(softmax(hello))\n",
    "            \n",
    "        except:pass\n",
    "            \n",
    "    else: pass\n",
    "    \n",
    "    if i%1000 == 0: print(\"1000 more\")\n",
    "        \n",
    "print(np.array(new_content_5).shape)\n",
    "cleaned_5 = np.array(new_content_5)\n",
    "print(cleaned_5)"
   ]
  },
  {
   "cell_type": "code",
   "execution_count": null,
   "metadata": {
    "collapsed": true
   },
   "outputs": [],
   "source": [
    "ensembler += cleaned_5"
   ]
  },
  {
   "cell_type": "code",
   "execution_count": 12,
   "metadata": {
    "collapsed": true
   },
   "outputs": [],
   "source": [
    "def accuracy(ensembled, y_test):\n",
    "    y_hat = np.argmax(ensembled/3, axis=1)\n",
    "    y = np.argmax(y_test, axis=1)\n",
    "\n",
    "    good = np.sum(np.equal(y, y_hat))\n",
    "    return float(good/len(y_test))"
   ]
  },
  {
   "cell_type": "code",
   "execution_count": 13,
   "metadata": {},
   "outputs": [],
   "source": [
    "from keras.utils import np_utils\n",
    "num_classes = 10\n",
    "(x_train, y_train), (x_test, y_test) = cifar10.load_data()\n",
    "y_test = np_utils.to_categorical(y_test,num_classes)"
   ]
  },
  {
   "cell_type": "code",
   "execution_count": 14,
   "metadata": {},
   "outputs": [
    {
     "name": "stdout",
     "output_type": "stream",
     "text": [
      "0.9505\n"
     ]
    }
   ],
   "source": [
    "print(accuracy(ensembler, y_test))"
   ]
  },
  {
   "cell_type": "code",
   "execution_count": 15,
   "metadata": {},
   "outputs": [
    {
     "name": "stdout",
     "output_type": "stream",
     "text": [
      "0.9483\n"
     ]
    }
   ],
   "source": [
    "print(accuracy(ensembler-cleaned, y_test))"
   ]
  },
  {
   "cell_type": "code",
   "execution_count": 16,
   "metadata": {},
   "outputs": [
    {
     "name": "stdout",
     "output_type": "stream",
     "text": [
      "0.9482\n"
     ]
    }
   ],
   "source": [
    "print(accuracy(ensembler-cleaned_2, y_test))"
   ]
  },
  {
   "cell_type": "code",
   "execution_count": 17,
   "metadata": {},
   "outputs": [
    {
     "name": "stdout",
     "output_type": "stream",
     "text": [
      "0.9486\n"
     ]
    }
   ],
   "source": [
    "print(accuracy(ensembler-cleaned_3, y_test))"
   ]
  },
  {
   "cell_type": "code",
   "execution_count": 18,
   "metadata": {},
   "outputs": [
    {
     "name": "stdout",
     "output_type": "stream",
     "text": [
      "0.9496\n"
     ]
    }
   ],
   "source": [
    "print(accuracy(ensembler-cleaned_4, y_test))"
   ]
  },
  {
   "cell_type": "code",
   "execution_count": null,
   "metadata": {
    "collapsed": true
   },
   "outputs": [],
   "source": [
    "print(accuracy(ensembler-cleaned_5, y_test))"
   ]
  }
 ],
 "metadata": {
  "kernelspec": {
   "display_name": "Python 3",
   "language": "python",
   "name": "python3"
  },
  "language_info": {
   "codemirror_mode": {
    "name": "ipython",
    "version": 3
   },
   "file_extension": ".py",
   "mimetype": "text/x-python",
   "name": "python",
   "nbconvert_exporter": "python",
   "pygments_lexer": "ipython3",
   "version": "3.6.1"
  }
 },
 "nbformat": 4,
 "nbformat_minor": 2
}
