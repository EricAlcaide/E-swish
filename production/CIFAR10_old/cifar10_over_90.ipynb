{
 "cells": [
  {
   "cell_type": "code",
   "execution_count": 1,
   "metadata": {},
   "outputs": [
    {
     "name": "stderr",
     "output_type": "stream",
     "text": [
      "Using TensorFlow backend.\n"
     ]
    }
   ],
   "source": [
    "\"\"\" First attempt to build a ConvNet in Keras\n",
    "\tfor CV (Computer Vision), more specifically for \n",
    "\tImage Recognition (classification problem).\n",
    "\"\"\"\n",
    "\n",
    "# Import libraries\n",
    "import numpy as np\n",
    "import matplotlib.pyplot as plt\n",
    "import keras\n",
    "import keras.backend as K \n",
    "from keras.utils import np_utils\n",
    "from keras.datasets import cifar10\n",
    "from keras.models import Sequential\n",
    "from keras import optimizers\n",
    "from keras.layers.core import Dense, Dropout, Activation, Flatten\n",
    "from keras.layers import Conv2D, MaxPooling2D, GlobalAveragePooling2D, AveragePooling2D\n",
    "from keras.layers.normalization import BatchNormalization\n",
    "from keras.callbacks import EarlyStopping, LearningRateScheduler, TensorBoard\n",
    "from keras.preprocessing.image import ImageDataGenerator\n",
    "from keras.initializers import RandomNormal  \n",
    "\n",
    "# For reproducibility\n",
    "np.random.seed(42)"
   ]
  },
  {
   "cell_type": "code",
   "execution_count": 2,
   "metadata": {
    "collapsed": true
   },
   "outputs": [],
   "source": [
    "batch_size    = 128\n",
    "epochs        = 200\n",
    "iterations    = 391\n",
    "num_classes   = 10\n",
    "dropout       = 0.5\n",
    "log_filepath  = './nin_bn'"
   ]
  },
  {
   "cell_type": "code",
   "execution_count": 3,
   "metadata": {
    "collapsed": true
   },
   "outputs": [],
   "source": [
    "def color_preprocessing(x_train,x_test):\n",
    "    x_train = x_train.astype('float32')\n",
    "    x_test = x_test.astype('float32')\n",
    "    mean = [125.307, 122.95, 113.865]\n",
    "    std  = [62.9932, 62.0887, 66.7048]\n",
    "    for i in range(3):\n",
    "        x_train[:,:,:,i] = (x_train[:,:,:,i] - mean[i]) / std[i]\n",
    "        x_test[:,:,:,i] = (x_test[:,:,:,i] - mean[i]) / std[i]\n",
    "\n",
    "    return x_train, x_test"
   ]
  },
  {
   "cell_type": "code",
   "execution_count": 4,
   "metadata": {
    "collapsed": true
   },
   "outputs": [],
   "source": [
    "def scheduler(epoch):\n",
    "    if epoch <= 60:\n",
    "        return 0.05\n",
    "    if epoch <= 120:\n",
    "        return 0.01\n",
    "    if epoch <= 160:    \n",
    "        return 0.002\n",
    "    return 0.0004"
   ]
  },
  {
   "cell_type": "code",
   "execution_count": 5,
   "metadata": {
    "collapsed": true
   },
   "outputs": [],
   "source": [
    "def build_model(act):\n",
    "    model = Sequential()\n",
    "\n",
    "    model.add(Conv2D(192, (5, 5), padding='same', kernel_regularizer=keras.regularizers.l2(0.0001), activation=act, input_shape=x_train.shape[1:]))\n",
    "    model.add(Conv2D(160, (1, 1), padding='same', kernel_regularizer=keras.regularizers.l2(0.0001), activation=act))\n",
    "    model.add(Conv2D(96, (1, 1), padding='same', kernel_regularizer=keras.regularizers.l2(0.0001)))\n",
    "    model.add(BatchNormalization())\n",
    "    model.add(Activation(act))\n",
    "    model.add(MaxPooling2D(pool_size=(3, 3),strides=(2,2),padding = 'same'))\n",
    "\n",
    "    model.add(Dropout(dropout))\n",
    "\n",
    "    model.add(Conv2D(192, (5, 5), padding='same', kernel_regularizer=keras.regularizers.l2(0.0001), activation=act))\n",
    "    model.add(Conv2D(192, (1, 1),padding='same', kernel_regularizer=keras.regularizers.l2(0.0001), activation=act))\n",
    "    model.add(Conv2D(192, (1, 1),padding='same', kernel_regularizer=keras.regularizers.l2(0.0001)))\n",
    "    model.add(BatchNormalization())\n",
    "    model.add(Activation(act))\n",
    "    model.add(MaxPooling2D(pool_size=(3, 3),strides=(2,2),padding = 'same'))\n",
    "\n",
    "    model.add(Dropout(dropout))\n",
    "\n",
    "    model.add(Conv2D(192, (3, 3), padding='same', kernel_regularizer=keras.regularizers.l2(0.0001), activation=act))\n",
    "    model.add(Conv2D(192, (1, 1), padding='same', kernel_regularizer=keras.regularizers.l2(0.0001), activation=act))\n",
    "    model.add(Conv2D(10, (1, 1), padding='same', kernel_regularizer=keras.regularizers.l2(0.0001)))\n",
    "    model.add(BatchNormalization())\n",
    "    model.add(Activation(act))\n",
    "\n",
    "    model.add(GlobalAveragePooling2D())\n",
    "    model.add(Activation('softmax'))\n",
    "\n",
    "    sgd = optimizers.SGD(lr=.1, momentum=0.9, nesterov=True)\n",
    "    model.compile(loss='categorical_crossentropy', optimizer=sgd, metrics=['accuracy'])\n",
    "    \n",
    "    return model"
   ]
  },
  {
   "cell_type": "code",
   "execution_count": 6,
   "metadata": {},
   "outputs": [],
   "source": [
    "# load data\n",
    "(x_train, y_train), (x_test, y_test) = cifar10.load_data()\n",
    "y_train = np_utils.to_categorical(y_train, num_classes)\n",
    "y_test = np_utils.to_categorical(y_test, num_classes)\n",
    "\n",
    "x_train, x_test = color_preprocessing(x_train, x_test)\n",
    "\n",
    "# set callback\n",
    "tb_cb = TensorBoard(log_dir=log_filepath, histogram_freq=0)\n",
    "change_lr = LearningRateScheduler(scheduler)\n",
    "cbks = [change_lr,tb_cb]\n",
    "\n",
    "# set data augmentation\n",
    "# print('Using real-time data augmentation.')\n",
    "# datagen = ImageDataGenerator(horizontal_flip=True,width_shift_range=0.125,height_shift_range=0.125,fill_mode='constant',cval=0.)\n",
    "# datagen.fit(x_train)\n",
    "\n",
    "#     # start training\n",
    "#     model.fit_generator(datagen.flow(x_train, y_train,batch_size=batch_size),steps_per_epoch=iterations,epochs=epochs,callbacks=cbks,validation_data=(x_test, y_test))\n",
    "#     model.save('nin_bn.h5')"
   ]
  },
  {
   "cell_type": "code",
   "execution_count": 7,
   "metadata": {
    "collapsed": true
   },
   "outputs": [],
   "source": [
    "# Swish activation function\n",
    "# x*sigmoid(x)\n",
    "def swish(x):\n",
    "    return x*K.sigmoid(x)\n",
    "\n",
    "# Custom activation function 1\n",
    "# mix between relu and positive part of swish mirrored across x=1\n",
    "def e_swish_1(x):\n",
    "    return K.maximum(0.0, x*(2-K.sigmoid(x)))\n",
    "\n",
    "# Custom activation function 2\n",
    "# positive part of swish mirrored across x=1\n",
    "def e_swish_2(x):\n",
    "    return K.maximum(x*K.sigmoid(x), x*(2-K.sigmoid(x)))"
   ]
  },
  {
   "cell_type": "code",
   "execution_count": 8,
   "metadata": {},
   "outputs": [
    {
     "name": "stdout",
     "output_type": "stream",
     "text": [
      "['e_swish_1', 'e_swish_2', 'swish', 'relu', 'sigmoid', 'tanh']\n"
     ]
    }
   ],
   "source": [
    "activations = [e_swish_1, e_swish_2, swish, \"relu\", \"sigmoid\", \"tanh\"]\n",
    "names = activations[:]\n",
    "for i,a in enumerate(names):\n",
    "    if not isinstance(a, str):\n",
    "        names[i] = a.__name__\n",
    "print(names)"
   ]
  },
  {
   "cell_type": "code",
   "execution_count": 9,
   "metadata": {},
   "outputs": [
    {
     "name": "stdout",
     "output_type": "stream",
     "text": [
      "_________________________________________________________________\n",
      "Layer (type)                 Output Shape              Param #   \n",
      "=================================================================\n",
      "conv2d_1 (Conv2D)            (None, 32, 32, 192)       14592     \n",
      "_________________________________________________________________\n",
      "conv2d_2 (Conv2D)            (None, 32, 32, 160)       30880     \n",
      "_________________________________________________________________\n",
      "conv2d_3 (Conv2D)            (None, 32, 32, 96)        15456     \n",
      "_________________________________________________________________\n",
      "batch_normalization_1 (Batch (None, 32, 32, 96)        384       \n",
      "_________________________________________________________________\n",
      "activation_1 (Activation)    (None, 32, 32, 96)        0         \n",
      "_________________________________________________________________\n",
      "max_pooling2d_1 (MaxPooling2 (None, 16, 16, 96)        0         \n",
      "_________________________________________________________________\n",
      "dropout_1 (Dropout)          (None, 16, 16, 96)        0         \n",
      "_________________________________________________________________\n",
      "conv2d_4 (Conv2D)            (None, 16, 16, 192)       460992    \n",
      "_________________________________________________________________\n",
      "conv2d_5 (Conv2D)            (None, 16, 16, 192)       37056     \n",
      "_________________________________________________________________\n",
      "conv2d_6 (Conv2D)            (None, 16, 16, 192)       37056     \n",
      "_________________________________________________________________\n",
      "batch_normalization_2 (Batch (None, 16, 16, 192)       768       \n",
      "_________________________________________________________________\n",
      "activation_2 (Activation)    (None, 16, 16, 192)       0         \n",
      "_________________________________________________________________\n",
      "max_pooling2d_2 (MaxPooling2 (None, 8, 8, 192)         0         \n",
      "_________________________________________________________________\n",
      "dropout_2 (Dropout)          (None, 8, 8, 192)         0         \n",
      "_________________________________________________________________\n",
      "conv2d_7 (Conv2D)            (None, 8, 8, 192)         331968    \n",
      "_________________________________________________________________\n",
      "conv2d_8 (Conv2D)            (None, 8, 8, 192)         37056     \n",
      "_________________________________________________________________\n",
      "conv2d_9 (Conv2D)            (None, 8, 8, 10)          1930      \n",
      "_________________________________________________________________\n",
      "batch_normalization_3 (Batch (None, 8, 8, 10)          40        \n",
      "_________________________________________________________________\n",
      "activation_3 (Activation)    (None, 8, 8, 10)          0         \n",
      "_________________________________________________________________\n",
      "global_average_pooling2d_1 ( (None, 10)                0         \n",
      "_________________________________________________________________\n",
      "activation_4 (Activation)    (None, 10)                0         \n",
      "=================================================================\n",
      "Total params: 968,178\n",
      "Trainable params: 967,582\n",
      "Non-trainable params: 596\n",
      "_________________________________________________________________\n"
     ]
    }
   ],
   "source": [
    "act, act_name = activations[1], names[1]\n",
    "model = build_model(act)\n",
    "model.summary()"
   ]
  },
  {
   "cell_type": "code",
   "execution_count": null,
   "metadata": {
    "scrolled": false
   },
   "outputs": [
    {
     "name": "stdout",
     "output_type": "stream",
     "text": [
      "Train on 50000 samples, validate on 10000 samples\n",
      "Epoch 1/200\n",
      "50000/50000 [==============================] - 934s - loss: 1.5441 - acc: 0.4869 - val_loss: 1.4116 - val_acc: 0.5342\n",
      "Epoch 2/200\n",
      "50000/50000 [==============================] - 622s - loss: 1.2377 - acc: 0.6118 - val_loss: 1.3852 - val_acc: 0.5653\n",
      "Epoch 3/200\n",
      "50000/50000 [==============================] - 623s - loss: 1.1267 - acc: 0.6575 - val_loss: 1.1117 - val_acc: 0.6649\n",
      "Epoch 4/200\n",
      "50000/50000 [==============================] - 615s - loss: 1.0516 - acc: 0.6904 - val_loss: 1.0278 - val_acc: 0.7000\n",
      "Epoch 5/200\n",
      "50000/50000 [==============================] - 613s - loss: 0.9840 - acc: 0.7212 - val_loss: 1.0472 - val_acc: 0.7010\n",
      "Epoch 6/200\n",
      "50000/50000 [==============================] - 619s - loss: 0.9457 - acc: 0.7438 - val_loss: 0.9088 - val_acc: 0.7573\n",
      "Epoch 7/200\n",
      "50000/50000 [==============================] - 619s - loss: 0.9207 - acc: 0.7579 - val_loss: 0.9153 - val_acc: 0.7613\n",
      "Epoch 8/200\n",
      "50000/50000 [==============================] - 619s - loss: 0.8984 - acc: 0.7711 - val_loss: 1.0725 - val_acc: 0.7201\n",
      "Epoch 9/200\n",
      "50000/50000 [==============================] - 619s - loss: 0.8911 - acc: 0.7779 - val_loss: 0.9126 - val_acc: 0.7710\n",
      "Epoch 10/200\n",
      "50000/50000 [==============================] - 621s - loss: 0.8775 - acc: 0.7884 - val_loss: 0.9721 - val_acc: 0.7673\n",
      "Epoch 11/200\n",
      "50000/50000 [==============================] - 621s - loss: 0.8715 - acc: 0.7946 - val_loss: 0.8720 - val_acc: 0.7995\n",
      "Epoch 12/200\n",
      "50000/50000 [==============================] - 615s - loss: 0.8709 - acc: 0.7986 - val_loss: 0.9346 - val_acc: 0.7819\n",
      "Epoch 13/200\n",
      "50000/50000 [==============================] - 613s - loss: 0.8690 - acc: 0.7989 - val_loss: 0.8465 - val_acc: 0.8155\n",
      "Epoch 14/200\n",
      "50000/50000 [==============================] - 619s - loss: 0.8544 - acc: 0.8097 - val_loss: 0.9416 - val_acc: 0.7870\n",
      "Epoch 15/200\n",
      "50000/50000 [==============================] - 614s - loss: 0.8610 - acc: 0.8097 - val_loss: 1.0063 - val_acc: 0.7794\n",
      "Epoch 16/200\n",
      "50000/50000 [==============================] - 624s - loss: 0.8608 - acc: 0.8141 - val_loss: 1.0007 - val_acc: 0.7660\n",
      "Epoch 17/200\n",
      "50000/50000 [==============================] - 623s - loss: 0.8567 - acc: 0.8166 - val_loss: 1.3550 - val_acc: 0.6752\n",
      "Epoch 18/200\n",
      "50000/50000 [==============================] - 622s - loss: 0.8556 - acc: 0.8204 - val_loss: 0.9154 - val_acc: 0.8055\n",
      "Epoch 19/200\n",
      "30112/50000 [=================>............] - ETA: 233s - loss: 0.8536 - acc: 0.8235"
     ]
    }
   ],
   "source": [
    "his = model.fit(x_train, y_train, epochs=epochs, callbacks=cbks, validation_data=(x_test, y_test), verbose=1)\n",
    "model.save('nin_bn_e_swish_2.h5')"
   ]
  },
  {
   "cell_type": "code",
   "execution_count": null,
   "metadata": {
    "collapsed": true
   },
   "outputs": [],
   "source": [
    "keras.backend.get_session().close()\n",
    "keras.backend.set_session(keras.backend.tf.Session())"
   ]
  }
 ],
 "metadata": {
  "kernelspec": {
   "display_name": "Python 3",
   "language": "python",
   "name": "python3"
  },
  "language_info": {
   "codemirror_mode": {
    "name": "ipython",
    "version": 3
   },
   "file_extension": ".py",
   "mimetype": "text/x-python",
   "name": "python",
   "nbconvert_exporter": "python",
   "pygments_lexer": "ipython3",
   "version": "3.5.3"
  }
 },
 "nbformat": 4,
 "nbformat_minor": 2
}
