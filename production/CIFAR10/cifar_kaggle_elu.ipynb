{
 "cells": [
  {
   "cell_type": "code",
   "execution_count": 1,
   "metadata": {},
   "outputs": [
    {
     "name": "stderr",
     "output_type": "stream",
     "text": [
      "Using TensorFlow backend.\n"
     ]
    }
   ],
   "source": [
    "import keras\n",
    "import keras.backend as K\n",
    "from keras.models import Sequential\n",
    "from keras.utils import np_utils\n",
    "from keras.preprocessing.image import ImageDataGenerator\n",
    "from keras.layers import Dense, Activation, Flatten, Dropout, BatchNormalization\n",
    "from keras.layers import Conv2D, MaxPooling2D\n",
    "from keras.datasets import cifar10\n",
    "from keras import regularizers, optimizers\n",
    "import numpy as np\n",
    "\n",
    "\n",
    "(x_train, y_train), (x_test, y_test) = cifar10.load_data()\n",
    "x_train = x_train.astype('float32')\n",
    "x_test = x_test.astype('float32')\n",
    "\n",
    "#z-score\n",
    "mean = np.mean(x_train,axis=(0,1,2,3))\n",
    "std = np.std(x_train,axis=(0,1,2,3))\n",
    "x_train = (x_train-mean)/(std+1e-7)\n",
    "x_test = (x_test-mean)/(std+1e-7)\n",
    "\n",
    "num_classes = 10\n",
    "y_train = np_utils.to_categorical(y_train,num_classes)\n",
    "y_test = np_utils.to_categorical(y_test,num_classes)"
   ]
  },
  {
   "cell_type": "code",
   "execution_count": 2,
   "metadata": {},
   "outputs": [
    {
     "name": "stdout",
     "output_type": "stream",
     "text": [
      "elu\n",
      "_________________________________________________________________\n",
      "Layer (type)                 Output Shape              Param #   \n",
      "=================================================================\n",
      "conv2d_1 (Conv2D)            (None, 32, 32, 32)        896       \n",
      "_________________________________________________________________\n",
      "activation_1 (Activation)    (None, 32, 32, 32)        0         \n",
      "_________________________________________________________________\n",
      "batch_normalization_1 (Batch (None, 32, 32, 32)        128       \n",
      "_________________________________________________________________\n",
      "conv2d_2 (Conv2D)            (None, 32, 32, 32)        9248      \n",
      "_________________________________________________________________\n",
      "activation_2 (Activation)    (None, 32, 32, 32)        0         \n",
      "_________________________________________________________________\n",
      "batch_normalization_2 (Batch (None, 32, 32, 32)        128       \n",
      "_________________________________________________________________\n",
      "max_pooling2d_1 (MaxPooling2 (None, 16, 16, 32)        0         \n",
      "_________________________________________________________________\n",
      "dropout_1 (Dropout)          (None, 16, 16, 32)        0         \n",
      "_________________________________________________________________\n",
      "conv2d_3 (Conv2D)            (None, 16, 16, 64)        18496     \n",
      "_________________________________________________________________\n",
      "activation_3 (Activation)    (None, 16, 16, 64)        0         \n",
      "_________________________________________________________________\n",
      "batch_normalization_3 (Batch (None, 16, 16, 64)        256       \n",
      "_________________________________________________________________\n",
      "conv2d_4 (Conv2D)            (None, 16, 16, 64)        36928     \n",
      "_________________________________________________________________\n",
      "activation_4 (Activation)    (None, 16, 16, 64)        0         \n",
      "_________________________________________________________________\n",
      "batch_normalization_4 (Batch (None, 16, 16, 64)        256       \n",
      "_________________________________________________________________\n",
      "max_pooling2d_2 (MaxPooling2 (None, 8, 8, 64)          0         \n",
      "_________________________________________________________________\n",
      "dropout_2 (Dropout)          (None, 8, 8, 64)          0         \n",
      "_________________________________________________________________\n",
      "conv2d_5 (Conv2D)            (None, 8, 8, 128)         73856     \n",
      "_________________________________________________________________\n",
      "activation_5 (Activation)    (None, 8, 8, 128)         0         \n",
      "_________________________________________________________________\n",
      "batch_normalization_5 (Batch (None, 8, 8, 128)         512       \n",
      "_________________________________________________________________\n",
      "conv2d_6 (Conv2D)            (None, 8, 8, 128)         147584    \n",
      "_________________________________________________________________\n",
      "activation_6 (Activation)    (None, 8, 8, 128)         0         \n",
      "_________________________________________________________________\n",
      "batch_normalization_6 (Batch (None, 8, 8, 128)         512       \n",
      "_________________________________________________________________\n",
      "max_pooling2d_3 (MaxPooling2 (None, 4, 4, 128)         0         \n",
      "_________________________________________________________________\n",
      "dropout_3 (Dropout)          (None, 4, 4, 128)         0         \n",
      "_________________________________________________________________\n",
      "flatten_1 (Flatten)          (None, 2048)              0         \n",
      "_________________________________________________________________\n",
      "dense_1 (Dense)              (None, 10)                20490     \n",
      "=================================================================\n",
      "Total params: 309,290\n",
      "Trainable params: 308,394\n",
      "Non-trainable params: 896\n",
      "_________________________________________________________________\n"
     ]
    }
   ],
   "source": [
    "baseMapNum = 32\n",
    "weight_decay = 1e-4\n",
    "\n",
    "act, act_name = \"elu\", \"elu\"\n",
    "print(act_name)\n",
    "\n",
    "\n",
    "model = Sequential()\n",
    "model.add(Conv2D(baseMapNum, (3,3), padding='same', kernel_regularizer=regularizers.l2(weight_decay), input_shape=x_train.shape[1:]))\n",
    "model.add(Activation(act))\n",
    "model.add(BatchNormalization())\n",
    "model.add(Conv2D(baseMapNum, (3,3), padding='same', kernel_regularizer=regularizers.l2(weight_decay)))\n",
    "model.add(Activation(act))\n",
    "model.add(BatchNormalization())\n",
    "model.add(MaxPooling2D(pool_size=(2,2)))\n",
    "model.add(Dropout(0.2))\n",
    "\n",
    "model.add(Conv2D(2*baseMapNum, (3,3), padding='same', kernel_regularizer=regularizers.l2(weight_decay)))\n",
    "model.add(Activation(act))\n",
    "model.add(BatchNormalization())\n",
    "model.add(Conv2D(2*baseMapNum, (3,3), padding='same', kernel_regularizer=regularizers.l2(weight_decay)))\n",
    "model.add(Activation(act))\n",
    "model.add(BatchNormalization())\n",
    "model.add(MaxPooling2D(pool_size=(2,2)))\n",
    "model.add(Dropout(0.3))\n",
    "\n",
    "model.add(Conv2D(4*baseMapNum, (3,3), padding='same', kernel_regularizer=regularizers.l2(weight_decay)))\n",
    "model.add(Activation(act))\n",
    "model.add(BatchNormalization())\n",
    "model.add(Conv2D(4*baseMapNum, (3,3), padding='same', kernel_regularizer=regularizers.l2(weight_decay)))\n",
    "model.add(Activation(act))\n",
    "model.add(BatchNormalization())\n",
    "model.add(MaxPooling2D(pool_size=(2,2)))\n",
    "model.add(Dropout(0.4))\n",
    "\n",
    "model.add(Flatten())\n",
    "model.add(Dense(num_classes, activation='softmax'))\n",
    "\n",
    "model.summary()"
   ]
  },
  {
   "cell_type": "code",
   "execution_count": 3,
   "metadata": {
    "collapsed": true
   },
   "outputs": [],
   "source": [
    "#data augmentation\n",
    "datagen = ImageDataGenerator(\n",
    "    featurewise_center=False,\n",
    "    samplewise_center=False,\n",
    "    featurewise_std_normalization=False,\n",
    "    samplewise_std_normalization=False,\n",
    "    zca_whitening=False,\n",
    "    rotation_range=15,\n",
    "    width_shift_range=0.1,\n",
    "    height_shift_range=0.1,\n",
    "    horizontal_flip=True,\n",
    "    vertical_flip=False\n",
    "    )\n",
    "datagen.fit(x_train)"
   ]
  },
  {
   "cell_type": "code",
   "execution_count": 4,
   "metadata": {
    "scrolled": false
   },
   "outputs": [
    {
     "name": "stdout",
     "output_type": "stream",
     "text": [
      "Epoch 1/75\n",
      "390/390 [==============================] - 150s - loss: 2.0000 - acc: 0.4003 - val_loss: 1.2756 - val_acc: 0.5809\n",
      "Epoch 2/75\n",
      "390/390 [==============================] - 146s - loss: 1.3452 - acc: 0.5663 - val_loss: 1.0213 - val_acc: 0.6612\n",
      "Epoch 3/75\n",
      "390/390 [==============================] - 145s - loss: 1.1550 - acc: 0.6271 - val_loss: 0.8808 - val_acc: 0.7187\n",
      "Epoch 4/75\n",
      "390/390 [==============================] - 145s - loss: 1.0330 - acc: 0.6665 - val_loss: 0.8787 - val_acc: 0.7343\n",
      "Epoch 5/75\n",
      "390/390 [==============================] - 145s - loss: 0.9604 - acc: 0.6900 - val_loss: 0.8497 - val_acc: 0.7369\n",
      "Epoch 6/75\n",
      "390/390 [==============================] - 144s - loss: 0.9011 - acc: 0.7148 - val_loss: 0.7278 - val_acc: 0.7696\n",
      "Epoch 7/75\n",
      "390/390 [==============================] - 144s - loss: 0.8629 - acc: 0.7277 - val_loss: 0.7254 - val_acc: 0.7826\n",
      "Epoch 8/75\n",
      "390/390 [==============================] - 144s - loss: 0.8293 - acc: 0.7398 - val_loss: 0.6596 - val_acc: 0.8051\n",
      "Epoch 9/75\n",
      "390/390 [==============================] - 144s - loss: 0.8055 - acc: 0.7504 - val_loss: 0.6845 - val_acc: 0.7966\n",
      "Epoch 10/75\n",
      "390/390 [==============================] - 144s - loss: 0.7809 - acc: 0.7616 - val_loss: 0.6124 - val_acc: 0.8233\n",
      "Epoch 11/75\n",
      "390/390 [==============================] - 144s - loss: 0.7690 - acc: 0.7674 - val_loss: 0.6363 - val_acc: 0.8166\n",
      "Epoch 12/75\n",
      "390/390 [==============================] - 144s - loss: 0.7506 - acc: 0.7738 - val_loss: 0.6349 - val_acc: 0.8134\n",
      "Epoch 13/75\n",
      "390/390 [==============================] - 144s - loss: 0.7368 - acc: 0.7789 - val_loss: 0.6011 - val_acc: 0.8279\n",
      "Epoch 14/75\n",
      "390/390 [==============================] - 144s - loss: 0.7210 - acc: 0.7841 - val_loss: 0.5771 - val_acc: 0.8368\n",
      "Epoch 15/75\n",
      "390/390 [==============================] - 144s - loss: 0.7064 - acc: 0.7910 - val_loss: 0.5959 - val_acc: 0.8321\n",
      "Epoch 16/75\n",
      "390/390 [==============================] - 144s - loss: 0.7018 - acc: 0.7922 - val_loss: 0.5698 - val_acc: 0.8426\n",
      "Epoch 17/75\n",
      "390/390 [==============================] - 144s - loss: 0.6956 - acc: 0.7947 - val_loss: 0.5759 - val_acc: 0.8422\n",
      "Epoch 18/75\n",
      "390/390 [==============================] - 144s - loss: 0.6884 - acc: 0.7983 - val_loss: 0.5758 - val_acc: 0.8370\n",
      "Epoch 19/75\n",
      "390/390 [==============================] - 144s - loss: 0.6753 - acc: 0.8023 - val_loss: 0.6018 - val_acc: 0.8333\n",
      "Epoch 20/75\n",
      "390/390 [==============================] - 144s - loss: 0.6732 - acc: 0.8042 - val_loss: 0.5619 - val_acc: 0.8503\n",
      "Epoch 21/75\n",
      "390/390 [==============================] - 144s - loss: 0.6628 - acc: 0.8093 - val_loss: 0.5696 - val_acc: 0.8462\n",
      "Epoch 22/75\n",
      "390/390 [==============================] - 144s - loss: 0.6597 - acc: 0.8090 - val_loss: 0.5416 - val_acc: 0.8511\n",
      "Epoch 23/75\n",
      "390/390 [==============================] - 145s - loss: 0.6497 - acc: 0.8153 - val_loss: 0.5484 - val_acc: 0.8511\n",
      "Epoch 24/75\n",
      "390/390 [==============================] - 146s - loss: 0.6503 - acc: 0.8151 - val_loss: 0.5322 - val_acc: 0.8568\n",
      "Epoch 25/75\n",
      "390/390 [==============================] - 145s - loss: 0.6461 - acc: 0.8162 - val_loss: 0.5205 - val_acc: 0.8610\n",
      "Epoch 26/75\n",
      "390/390 [==============================] - 145s - loss: 0.6359 - acc: 0.8193 - val_loss: 0.5487 - val_acc: 0.8544\n",
      "Epoch 27/75\n",
      "390/390 [==============================] - 145s - loss: 0.6348 - acc: 0.8191 - val_loss: 0.5765 - val_acc: 0.8441\n",
      "Epoch 28/75\n",
      "390/390 [==============================] - 146s - loss: 0.6306 - acc: 0.8223 - val_loss: 0.5323 - val_acc: 0.8585\n",
      "Epoch 29/75\n",
      "390/390 [==============================] - 145s - loss: 0.6262 - acc: 0.8263 - val_loss: 0.5540 - val_acc: 0.8494\n",
      "Epoch 30/75\n",
      "390/390 [==============================] - 145s - loss: 0.6200 - acc: 0.8268 - val_loss: 0.5336 - val_acc: 0.8600\n",
      "Epoch 31/75\n",
      "390/390 [==============================] - 145s - loss: 0.6220 - acc: 0.8283 - val_loss: 0.5137 - val_acc: 0.8660\n",
      "Epoch 32/75\n",
      "390/390 [==============================] - 145s - loss: 0.6167 - acc: 0.8268 - val_loss: 0.5199 - val_acc: 0.8647\n",
      "Epoch 33/75\n",
      "390/390 [==============================] - 144s - loss: 0.6063 - acc: 0.8289 - val_loss: 0.5156 - val_acc: 0.8620\n",
      "Epoch 34/75\n",
      "390/390 [==============================] - 144s - loss: 0.6111 - acc: 0.8301 - val_loss: 0.5476 - val_acc: 0.8538\n",
      "Epoch 35/75\n",
      "390/390 [==============================] - 145s - loss: 0.6099 - acc: 0.8314 - val_loss: 0.5057 - val_acc: 0.8667\n",
      "Epoch 36/75\n",
      "390/390 [==============================] - 146s - loss: 0.6025 - acc: 0.8320 - val_loss: 0.5066 - val_acc: 0.8725\n",
      "Epoch 37/75\n",
      "390/390 [==============================] - 145s - loss: 0.6036 - acc: 0.8326 - val_loss: 0.5507 - val_acc: 0.8554\n",
      "Epoch 38/75\n",
      "390/390 [==============================] - 145s - loss: 0.5958 - acc: 0.8357 - val_loss: 0.5175 - val_acc: 0.8625\n",
      "Epoch 39/75\n",
      "390/390 [==============================] - 145s - loss: 0.5948 - acc: 0.8374 - val_loss: 0.5155 - val_acc: 0.8637\n",
      "Epoch 40/75\n",
      "390/390 [==============================] - 145s - loss: 0.5992 - acc: 0.8348 - val_loss: 0.5294 - val_acc: 0.8611\n",
      "Epoch 41/75\n",
      "390/390 [==============================] - 144s - loss: 0.5928 - acc: 0.8378 - val_loss: 0.5104 - val_acc: 0.8705\n",
      "Epoch 42/75\n",
      "390/390 [==============================] - 144s - loss: 0.5923 - acc: 0.8372 - val_loss: 0.5107 - val_acc: 0.8689\n",
      "Epoch 43/75\n",
      "390/390 [==============================] - 144s - loss: 0.5907 - acc: 0.8393 - val_loss: 0.5228 - val_acc: 0.8674\n",
      "Epoch 44/75\n",
      "390/390 [==============================] - 144s - loss: 0.5854 - acc: 0.8399 - val_loss: 0.5172 - val_acc: 0.8657\n",
      "Epoch 45/75\n",
      "390/390 [==============================] - 144s - loss: 0.5849 - acc: 0.8399 - val_loss: 0.5021 - val_acc: 0.8726\n",
      "Epoch 46/75\n",
      "390/390 [==============================] - 144s - loss: 0.5846 - acc: 0.8417 - val_loss: 0.5288 - val_acc: 0.8644\n",
      "Epoch 47/75\n",
      "390/390 [==============================] - 144s - loss: 0.5838 - acc: 0.8423 - val_loss: 0.5088 - val_acc: 0.8669\n",
      "Epoch 48/75\n",
      "390/390 [==============================] - 144s - loss: 0.5800 - acc: 0.8445 - val_loss: 0.5019 - val_acc: 0.8741\n",
      "Epoch 49/75\n",
      "390/390 [==============================] - 144s - loss: 0.5742 - acc: 0.8450 - val_loss: 0.5122 - val_acc: 0.8696\n",
      "Epoch 50/75\n",
      "390/390 [==============================] - 144s - loss: 0.5758 - acc: 0.8457 - val_loss: 0.5389 - val_acc: 0.8575\n",
      "Epoch 51/75\n",
      "390/390 [==============================] - 144s - loss: 0.5752 - acc: 0.8458 - val_loss: 0.5407 - val_acc: 0.8616\n",
      "Epoch 52/75\n",
      "390/390 [==============================] - 144s - loss: 0.5681 - acc: 0.8473 - val_loss: 0.5107 - val_acc: 0.8692\n",
      "Epoch 53/75\n",
      "390/390 [==============================] - 144s - loss: 0.5683 - acc: 0.8472 - val_loss: 0.5260 - val_acc: 0.8674\n",
      "Epoch 54/75\n",
      "390/390 [==============================] - 144s - loss: 0.5761 - acc: 0.8438 - val_loss: 0.4956 - val_acc: 0.8775\n",
      "Epoch 55/75\n",
      "390/390 [==============================] - 144s - loss: 0.5719 - acc: 0.8465 - val_loss: 0.4864 - val_acc: 0.8774\n",
      "Epoch 56/75\n",
      "390/390 [==============================] - 144s - loss: 0.5689 - acc: 0.8464 - val_loss: 0.5043 - val_acc: 0.8745\n",
      "Epoch 57/75\n",
      "390/390 [==============================] - 144s - loss: 0.5643 - acc: 0.8492 - val_loss: 0.5489 - val_acc: 0.8596\n",
      "Epoch 58/75\n",
      "390/390 [==============================] - 144s - loss: 0.5638 - acc: 0.8483 - val_loss: 0.4945 - val_acc: 0.8791\n",
      "Epoch 59/75\n",
      "390/390 [==============================] - 145s - loss: 0.5680 - acc: 0.8477 - val_loss: 0.5222 - val_acc: 0.8648\n",
      "Epoch 60/75\n",
      "390/390 [==============================] - 146s - loss: 0.5645 - acc: 0.8502 - val_loss: 0.5148 - val_acc: 0.8694\n",
      "Epoch 61/75\n",
      "390/390 [==============================] - 147s - loss: 0.5645 - acc: 0.8491 - val_loss: 0.4899 - val_acc: 0.8776\n",
      "Epoch 62/75\n",
      "390/390 [==============================] - 145s - loss: 0.5613 - acc: 0.8493 - val_loss: 0.4952 - val_acc: 0.8745\n",
      "Epoch 63/75\n",
      "390/390 [==============================] - 145s - loss: 0.5606 - acc: 0.8516 - val_loss: 0.5186 - val_acc: 0.8708\n",
      "Epoch 64/75\n",
      "390/390 [==============================] - 145s - loss: 0.5544 - acc: 0.8517 - val_loss: 0.4872 - val_acc: 0.8799\n",
      "Epoch 65/75\n",
      "390/390 [==============================] - 145s - loss: 0.5591 - acc: 0.8532 - val_loss: 0.4868 - val_acc: 0.8775\n",
      "Epoch 66/75\n"
     ]
    },
    {
     "name": "stdout",
     "output_type": "stream",
     "text": [
      "390/390 [==============================] - 145s - loss: 0.5555 - acc: 0.8543 - val_loss: 0.4779 - val_acc: 0.8811\n",
      "Epoch 67/75\n",
      "390/390 [==============================] - 144s - loss: 0.5564 - acc: 0.8534 - val_loss: 0.4847 - val_acc: 0.8787\n",
      "Epoch 68/75\n",
      "390/390 [==============================] - 144s - loss: 0.5599 - acc: 0.8512 - val_loss: 0.4975 - val_acc: 0.8769\n",
      "Epoch 69/75\n",
      "390/390 [==============================] - 144s - loss: 0.5549 - acc: 0.8518 - val_loss: 0.5069 - val_acc: 0.8750\n",
      "Epoch 70/75\n",
      "390/390 [==============================] - 144s - loss: 0.5546 - acc: 0.8534 - val_loss: 0.5100 - val_acc: 0.8732\n",
      "Epoch 71/75\n",
      "390/390 [==============================] - 144s - loss: 0.5569 - acc: 0.8516 - val_loss: 0.4740 - val_acc: 0.8809\n",
      "Epoch 72/75\n",
      "390/390 [==============================] - 144s - loss: 0.5538 - acc: 0.8530 - val_loss: 0.4925 - val_acc: 0.8750\n",
      "Epoch 73/75\n",
      "390/390 [==============================] - 144s - loss: 0.5515 - acc: 0.8543 - val_loss: 0.4988 - val_acc: 0.8760\n",
      "Epoch 74/75\n",
      "390/390 [==============================] - 144s - loss: 0.5454 - acc: 0.8554 - val_loss: 0.4977 - val_acc: 0.8766\n",
      "Epoch 75/75\n",
      "390/390 [==============================] - 144s - loss: 0.5525 - acc: 0.8542 - val_loss: 0.4845 - val_acc: 0.8833\n"
     ]
    }
   ],
   "source": [
    "#training\n",
    "batch_size = 128\n",
    "epochs=25\n",
    "opt_rms = keras.optimizers.rmsprop(lr=0.001,decay=1e-6)\n",
    "model.compile(loss='categorical_crossentropy',\n",
    "        optimizer=opt_rms,\n",
    "        metrics=['accuracy'])\n",
    "model.fit_generator(datagen.flow(x_train, y_train, batch_size=batch_size),steps_per_epoch=x_train.shape[0] // batch_size,epochs=3*epochs,verbose=1,validation_data=(x_test,y_test))\n",
    "model.save_weights('cifar10_normal_rms_ep75'+act_name+'.h5')"
   ]
  },
  {
   "cell_type": "code",
   "execution_count": 5,
   "metadata": {},
   "outputs": [
    {
     "name": "stdout",
     "output_type": "stream",
     "text": [
      "Epoch 1/25\n",
      "390/390 [==============================] - 145s - loss: 0.5143 - acc: 0.8684 - val_loss: 0.4442 - val_acc: 0.8918\n",
      "Epoch 2/25\n",
      "390/390 [==============================] - 144s - loss: 0.5016 - acc: 0.8704 - val_loss: 0.4430 - val_acc: 0.8942\n",
      "Epoch 3/25\n",
      "390/390 [==============================] - 144s - loss: 0.4926 - acc: 0.8720 - val_loss: 0.4419 - val_acc: 0.8918\n",
      "Epoch 4/25\n",
      "390/390 [==============================] - 144s - loss: 0.4883 - acc: 0.8714 - val_loss: 0.4331 - val_acc: 0.8953\n",
      "Epoch 5/25\n",
      "390/390 [==============================] - 144s - loss: 0.4854 - acc: 0.8748 - val_loss: 0.4411 - val_acc: 0.8953\n",
      "Epoch 6/25\n",
      "390/390 [==============================] - 144s - loss: 0.4805 - acc: 0.8761 - val_loss: 0.4323 - val_acc: 0.8959\n",
      "Epoch 7/25\n",
      "390/390 [==============================] - 144s - loss: 0.4801 - acc: 0.8754 - val_loss: 0.4325 - val_acc: 0.8965\n",
      "Epoch 8/25\n",
      "390/390 [==============================] - 144s - loss: 0.4738 - acc: 0.8757 - val_loss: 0.4279 - val_acc: 0.8954\n",
      "Epoch 9/25\n",
      "390/390 [==============================] - 144s - loss: 0.4706 - acc: 0.8775 - val_loss: 0.4246 - val_acc: 0.8935\n",
      "Epoch 10/25\n",
      "390/390 [==============================] - 144s - loss: 0.4721 - acc: 0.8770 - val_loss: 0.4150 - val_acc: 0.8999\n",
      "Epoch 11/25\n",
      "390/390 [==============================] - 144s - loss: 0.4654 - acc: 0.8757 - val_loss: 0.4258 - val_acc: 0.8950\n",
      "Epoch 12/25\n",
      "390/390 [==============================] - 144s - loss: 0.4692 - acc: 0.8781 - val_loss: 0.4336 - val_acc: 0.8906\n",
      "Epoch 13/25\n",
      "390/390 [==============================] - 144s - loss: 0.4649 - acc: 0.8773 - val_loss: 0.4314 - val_acc: 0.8921\n",
      "Epoch 14/25\n",
      "390/390 [==============================] - 144s - loss: 0.4645 - acc: 0.8774 - val_loss: 0.4249 - val_acc: 0.8964\n",
      "Epoch 15/25\n",
      "390/390 [==============================] - 144s - loss: 0.4637 - acc: 0.8772 - val_loss: 0.4141 - val_acc: 0.8956\n",
      "Epoch 16/25\n",
      "390/390 [==============================] - 144s - loss: 0.4597 - acc: 0.8783 - val_loss: 0.4263 - val_acc: 0.8941\n",
      "Epoch 17/25\n",
      "390/390 [==============================] - 144s - loss: 0.4562 - acc: 0.8804 - val_loss: 0.4198 - val_acc: 0.8972\n",
      "Epoch 18/25\n",
      "390/390 [==============================] - 144s - loss: 0.4547 - acc: 0.8799 - val_loss: 0.4060 - val_acc: 0.9000\n",
      "Epoch 19/25\n",
      "390/390 [==============================] - 144s - loss: 0.4548 - acc: 0.8795 - val_loss: 0.4191 - val_acc: 0.8968\n",
      "Epoch 20/25\n",
      "390/390 [==============================] - 144s - loss: 0.4554 - acc: 0.8792 - val_loss: 0.4085 - val_acc: 0.8976\n",
      "Epoch 21/25\n",
      "390/390 [==============================] - 144s - loss: 0.4527 - acc: 0.8801 - val_loss: 0.4205 - val_acc: 0.8964\n",
      "Epoch 22/25\n",
      "390/390 [==============================] - 144s - loss: 0.4509 - acc: 0.8797 - val_loss: 0.4200 - val_acc: 0.8935\n",
      "Epoch 23/25\n",
      "390/390 [==============================] - 144s - loss: 0.4495 - acc: 0.8810 - val_loss: 0.4156 - val_acc: 0.8969\n",
      "Epoch 24/25\n",
      "390/390 [==============================] - 144s - loss: 0.4473 - acc: 0.8822 - val_loss: 0.4034 - val_acc: 0.8977\n",
      "Epoch 25/25\n",
      "390/390 [==============================] - 144s - loss: 0.4513 - acc: 0.8793 - val_loss: 0.4086 - val_acc: 0.8977\n"
     ]
    }
   ],
   "source": [
    "opt_rms = keras.optimizers.rmsprop(lr=0.0005,decay=1e-6)\n",
    "model.compile(loss='categorical_crossentropy',\n",
    "        optimizer=opt_rms,\n",
    "        metrics=['accuracy'])\n",
    "model.fit_generator(datagen.flow(x_train, y_train, batch_size=batch_size),steps_per_epoch=x_train.shape[0] // batch_size,epochs=epochs,verbose=1,validation_data=(x_test,y_test))\n",
    "model.save_weights('cifar10_normal_rms_ep100'+act_name+'.h5')"
   ]
  },
  {
   "cell_type": "code",
   "execution_count": 6,
   "metadata": {},
   "outputs": [
    {
     "name": "stdout",
     "output_type": "stream",
     "text": [
      "Epoch 1/25\n",
      "390/390 [==============================] - 145s - loss: 0.4287 - acc: 0.8871 - val_loss: 0.4106 - val_acc: 0.9000\n",
      "Epoch 2/25\n",
      "390/390 [==============================] - 144s - loss: 0.4255 - acc: 0.8881 - val_loss: 0.4011 - val_acc: 0.8995\n",
      "Epoch 3/25\n",
      "390/390 [==============================] - 144s - loss: 0.4241 - acc: 0.8894 - val_loss: 0.4021 - val_acc: 0.8995\n",
      "Epoch 4/25\n",
      "390/390 [==============================] - 144s - loss: 0.4199 - acc: 0.8898 - val_loss: 0.3929 - val_acc: 0.9006\n",
      "Epoch 5/25\n",
      "390/390 [==============================] - 144s - loss: 0.4139 - acc: 0.8911 - val_loss: 0.3921 - val_acc: 0.9027\n",
      "Epoch 6/25\n",
      "390/390 [==============================] - 144s - loss: 0.4165 - acc: 0.8892 - val_loss: 0.3947 - val_acc: 0.9020\n",
      "Epoch 7/25\n",
      "390/390 [==============================] - 144s - loss: 0.4111 - acc: 0.8906 - val_loss: 0.4055 - val_acc: 0.8982\n",
      "Epoch 8/25\n",
      "390/390 [==============================] - 144s - loss: 0.4097 - acc: 0.8926 - val_loss: 0.4050 - val_acc: 0.8970\n",
      "Epoch 9/25\n",
      "390/390 [==============================] - 144s - loss: 0.4080 - acc: 0.8931 - val_loss: 0.3991 - val_acc: 0.8986\n",
      "Epoch 10/25\n",
      "390/390 [==============================] - 144s - loss: 0.4119 - acc: 0.8910 - val_loss: 0.3948 - val_acc: 0.9010\n",
      "Epoch 11/25\n",
      "390/390 [==============================] - 144s - loss: 0.4047 - acc: 0.8951 - val_loss: 0.3959 - val_acc: 0.9005\n",
      "Epoch 12/25\n",
      "390/390 [==============================] - 144s - loss: 0.4049 - acc: 0.8933 - val_loss: 0.3939 - val_acc: 0.9024\n",
      "Epoch 13/25\n",
      "390/390 [==============================] - 144s - loss: 0.4051 - acc: 0.8928 - val_loss: 0.3968 - val_acc: 0.9010\n",
      "Epoch 14/25\n",
      "390/390 [==============================] - 144s - loss: 0.4045 - acc: 0.8945 - val_loss: 0.3963 - val_acc: 0.8990\n",
      "Epoch 15/25\n",
      "390/390 [==============================] - 144s - loss: 0.4013 - acc: 0.8941 - val_loss: 0.3876 - val_acc: 0.9025\n",
      "Epoch 16/25\n",
      "390/390 [==============================] - 144s - loss: 0.4025 - acc: 0.8938 - val_loss: 0.3959 - val_acc: 0.9021\n",
      "Epoch 17/25\n",
      "390/390 [==============================] - 144s - loss: 0.4011 - acc: 0.8927 - val_loss: 0.3825 - val_acc: 0.9062\n",
      "Epoch 18/25\n",
      "390/390 [==============================] - 144s - loss: 0.4046 - acc: 0.8918 - val_loss: 0.3867 - val_acc: 0.9051\n",
      "Epoch 19/25\n",
      "390/390 [==============================] - 144s - loss: 0.3961 - acc: 0.8940 - val_loss: 0.3963 - val_acc: 0.9005\n",
      "Epoch 20/25\n",
      "390/390 [==============================] - 144s - loss: 0.3995 - acc: 0.8935 - val_loss: 0.3851 - val_acc: 0.9004\n",
      "Epoch 21/25\n",
      "390/390 [==============================] - 144s - loss: 0.4011 - acc: 0.8919 - val_loss: 0.3818 - val_acc: 0.9041\n",
      "Epoch 22/25\n",
      "390/390 [==============================] - 144s - loss: 0.3963 - acc: 0.8934 - val_loss: 0.3871 - val_acc: 0.9029\n",
      "Epoch 23/25\n",
      "390/390 [==============================] - 144s - loss: 0.3991 - acc: 0.8936 - val_loss: 0.3916 - val_acc: 0.9011\n",
      "Epoch 24/25\n",
      "390/390 [==============================] - 144s - loss: 0.3965 - acc: 0.8945 - val_loss: 0.3978 - val_acc: 0.8976\n",
      "Epoch 25/25\n",
      "390/390 [==============================] - 144s - loss: 0.3924 - acc: 0.8946 - val_loss: 0.3812 - val_acc: 0.9020\n"
     ]
    }
   ],
   "source": [
    "opt_rms = keras.optimizers.rmsprop(lr=0.0003,decay=1e-6)\n",
    "model.compile(loss='categorical_crossentropy',\n",
    "        optimizer=opt_rms,\n",
    "        metrics=['accuracy'])\n",
    "model.fit_generator(datagen.flow(x_train, y_train, batch_size=batch_size),steps_per_epoch=x_train.shape[0] // batch_size,epochs=epochs,verbose=1,validation_data=(x_test,y_test))\n",
    "model.save_weights('cifar10_normal_rms_ep125'+act_name+'.h5')"
   ]
  },
  {
   "cell_type": "code",
   "execution_count": 7,
   "metadata": {},
   "outputs": [
    {
     "name": "stdout",
     "output_type": "stream",
     "text": [
      " 9984/10000 [============================>.] - ETA: 0s\n",
      "Test result: 90.200 loss: 0.381\n"
     ]
    }
   ],
   "source": [
    "#testing - no kaggle eval\n",
    "scores = model.evaluate(x_test, y_test, batch_size=128, verbose=1)\n",
    "print('\\nTest result: %.3f loss: %.3f' % (scores[1]*100,scores[0]))"
   ]
  },
  {
   "cell_type": "code",
   "execution_count": null,
   "metadata": {
    "collapsed": true
   },
   "outputs": [],
   "source": []
  },
  {
   "cell_type": "code",
   "execution_count": 17,
   "metadata": {
    "collapsed": true
   },
   "outputs": [],
   "source": [
    "baseMapNum = 32\n",
    "weight_decay = 1e-4\n",
    "\n",
    "model = Sequential()\n",
    "model.add(Conv2D(baseMapNum, (3,3), padding='same', kernel_regularizer=regularizers.l2(weight_decay), input_shape=x_train.shape[1:]))\n",
    "model.add(Activation(act))\n",
    "model.add(BatchNormalization())\n",
    "model.add(Conv2D(baseMapNum, (3,3), padding='same', kernel_regularizer=regularizers.l2(weight_decay)))\n",
    "model.add(Activation(act))\n",
    "model.add(BatchNormalization())\n",
    "model.add(MaxPooling2D(pool_size=(2,2)))\n",
    "model.add(Dropout(0.2))\n",
    "\n",
    "model.add(Conv2D(2*baseMapNum, (3,3), padding='same', kernel_regularizer=regularizers.l2(weight_decay)))\n",
    "model.add(Activation(act))\n",
    "model.add(BatchNormalization())\n",
    "model.add(Conv2D(2*baseMapNum, (3,3), padding='same', kernel_regularizer=regularizers.l2(weight_decay)))\n",
    "model.add(Activation(act))\n",
    "model.add(BatchNormalization())\n",
    "model.add(MaxPooling2D(pool_size=(2,2)))\n",
    "model.add(Dropout(0.3))\n",
    "\n",
    "model.add(Conv2D(4*baseMapNum, (3,3), padding='same', kernel_regularizer=regularizers.l2(weight_decay)))\n",
    "model.add(Activation(act))\n",
    "model.add(BatchNormalization())\n",
    "model.add(Conv2D(4*baseMapNum, (3,3), padding='same', kernel_regularizer=regularizers.l2(weight_decay)))\n",
    "model.add(Activation(act))\n",
    "model.add(BatchNormalization())\n",
    "model.add(MaxPooling2D(pool_size=(2,2)))\n",
    "model.add(Dropout(0.4))\n",
    "\n",
    "model.add(Flatten())\n",
    "model.add(Dense(num_classes, activation='softmax'))\n",
    "\n",
    "model.load_weights(\"models/cifar10_normal_rms_ep125elu.h5\")"
   ]
  },
  {
   "cell_type": "code",
   "execution_count": 18,
   "metadata": {},
   "outputs": [
    {
     "name": "stdout",
     "output_type": "stream",
     "text": [
      "Epoch 1/25\n",
      "390/390 [==============================] - 145s - loss: 0.3850 - acc: 0.8969 - val_loss: 0.3781 - val_acc: 0.9039\n",
      "Epoch 2/25\n",
      "390/390 [==============================] - 144s - loss: 0.3770 - acc: 0.9001 - val_loss: 0.3763 - val_acc: 0.9039\n",
      "Epoch 3/25\n",
      "390/390 [==============================] - 144s - loss: 0.3713 - acc: 0.9020 - val_loss: 0.3741 - val_acc: 0.9060\n",
      "Epoch 4/25\n",
      "390/390 [==============================] - 144s - loss: 0.3667 - acc: 0.9029 - val_loss: 0.3736 - val_acc: 0.9074\n",
      "Epoch 5/25\n",
      "390/390 [==============================] - 144s - loss: 0.3694 - acc: 0.9024 - val_loss: 0.3798 - val_acc: 0.9048\n",
      "Epoch 6/25\n",
      "390/390 [==============================] - 144s - loss: 0.3664 - acc: 0.9036 - val_loss: 0.3756 - val_acc: 0.9052\n",
      "Epoch 7/25\n",
      "390/390 [==============================] - 144s - loss: 0.3667 - acc: 0.9031 - val_loss: 0.3764 - val_acc: 0.9033\n",
      "Epoch 8/25\n",
      "390/390 [==============================] - 144s - loss: 0.3684 - acc: 0.9020 - val_loss: 0.3688 - val_acc: 0.9069\n",
      "Epoch 9/25\n",
      "390/390 [==============================] - 144s - loss: 0.3638 - acc: 0.9023 - val_loss: 0.3751 - val_acc: 0.9061\n",
      "Epoch 10/25\n",
      "390/390 [==============================] - 144s - loss: 0.3640 - acc: 0.9036 - val_loss: 0.3720 - val_acc: 0.9060\n",
      "Epoch 11/25\n",
      "390/390 [==============================] - 144s - loss: 0.3626 - acc: 0.9038 - val_loss: 0.3720 - val_acc: 0.9070\n",
      "Epoch 12/25\n",
      "390/390 [==============================] - 144s - loss: 0.3632 - acc: 0.9040 - val_loss: 0.3746 - val_acc: 0.9034\n",
      "Epoch 13/25\n",
      "390/390 [==============================] - 144s - loss: 0.3580 - acc: 0.9042 - val_loss: 0.3680 - val_acc: 0.9058\n",
      "Epoch 14/25\n",
      "390/390 [==============================] - 144s - loss: 0.3619 - acc: 0.9030 - val_loss: 0.3717 - val_acc: 0.9053\n",
      "Epoch 15/25\n",
      "390/390 [==============================] - 144s - loss: 0.3599 - acc: 0.9034 - val_loss: 0.3769 - val_acc: 0.9023\n",
      "Epoch 16/25\n",
      "390/390 [==============================] - 144s - loss: 0.3632 - acc: 0.9037 - val_loss: 0.3643 - val_acc: 0.9072\n",
      "Epoch 17/25\n",
      "390/390 [==============================] - 144s - loss: 0.3624 - acc: 0.9021 - val_loss: 0.3722 - val_acc: 0.9035\n",
      "Epoch 18/25\n",
      "390/390 [==============================] - 144s - loss: 0.3537 - acc: 0.9064 - val_loss: 0.3715 - val_acc: 0.9071\n",
      "Epoch 19/25\n",
      "390/390 [==============================] - 144s - loss: 0.3590 - acc: 0.9044 - val_loss: 0.3731 - val_acc: 0.9045\n",
      "Epoch 20/25\n",
      "390/390 [==============================] - 144s - loss: 0.3557 - acc: 0.9059 - val_loss: 0.3739 - val_acc: 0.9042\n",
      "Epoch 21/25\n",
      "390/390 [==============================] - 144s - loss: 0.3559 - acc: 0.9041 - val_loss: 0.3708 - val_acc: 0.9036\n",
      "Epoch 22/25\n",
      "390/390 [==============================] - 144s - loss: 0.3595 - acc: 0.9019 - val_loss: 0.3703 - val_acc: 0.9057\n",
      "Epoch 23/25\n",
      "390/390 [==============================] - 144s - loss: 0.3503 - acc: 0.9058 - val_loss: 0.3762 - val_acc: 0.9048\n",
      "Epoch 24/25\n",
      "390/390 [==============================] - 144s - loss: 0.3539 - acc: 0.9048 - val_loss: 0.3681 - val_acc: 0.9087\n",
      "Epoch 25/25\n",
      "390/390 [==============================] - 144s - loss: 0.3565 - acc: 0.9037 - val_loss: 0.3765 - val_acc: 0.9029\n"
     ]
    }
   ],
   "source": [
    "# Continue for 25 epochs more\n",
    "batch_size = 128\n",
    "epochs=25\n",
    "\n",
    "opt_rms = keras.optimizers.rmsprop(lr=0.00015,decay=1e-6)\n",
    "model.compile(loss='categorical_crossentropy',\n",
    "        optimizer=opt_rms,\n",
    "        metrics=['accuracy'])\n",
    "his = model.fit_generator(datagen.flow(x_train, y_train, batch_size=batch_size),steps_per_epoch=x_train.shape[0] // batch_size,epochs=epochs,verbose=1,validation_data=(x_test,y_test))\n",
    "model.save_weights('cifar10_normal_rms_ep150'+act_name+'.h5')"
   ]
  },
  {
   "cell_type": "code",
   "execution_count": 19,
   "metadata": {},
   "outputs": [
    {
     "name": "stdout",
     "output_type": "stream",
     "text": [
      "{'acc': [0.89689503205128207, 0.9000641642987518, 0.90198909205659139, 0.90285129934539765, 0.90243022138582119, 0.90365335254436663, 0.90313201800423781, 0.90198909207571387, 0.90230991341649325, 0.90355309596381439, 0.90383381460353196, 0.90407443054218806, 0.90421478982380199, 0.90305181260211442, 0.90341273662483301, 0.90371350661508154, 0.9020692973631026, 0.90642043629784896, 0.90441530313788598, 0.90583894772525009, 0.90407443050394309, 0.90194898941289703, 0.90575874234224918, 0.90481632978517657, 0.90367340395226481], 'val_loss': [0.37810574879646303, 0.37627739319801329, 0.37409518642425538, 0.37360683350563051, 0.37978106174468995, 0.37556017384529111, 0.37636747665405273, 0.36877086877822873, 0.37507552075386047, 0.3720274420261383, 0.37201234216690066, 0.37461900806427001, 0.3679748847961426, 0.37166594042778017, 0.37686232585906981, 0.36433514051437377, 0.37217071504592897, 0.37146086997985839, 0.37311287226676942, 0.37386523008346556, 0.3708099145889282, 0.37034315271377566, 0.37624493007659909, 0.36814627571105957, 0.37648827271461488], 'loss': [0.38498126394473592, 0.37704815206177389, 0.37129187069529712, 0.36678102120092598, 0.36932100360883824, 0.36643515350843875, 0.36671515133735039, 0.3684171500078256, 0.3638605420544318, 0.36407206203450293, 0.36256095613085537, 0.36318406627122357, 0.35794832096828039, 0.36188764342865504, 0.35980592381697951, 0.36326198673301835, 0.36234596581997536, 0.35370617951955174, 0.35893408466999371, 0.35570882683883387, 0.35585471072715563, 0.35934189135040806, 0.35022214784582417, 0.35387099054060878, 0.35658943378699681], 'val_acc': [0.90390000000000004, 0.90390000000000004, 0.90600000000000003, 0.90739999999999998, 0.90480000000000005, 0.9052, 0.90329999999999999, 0.90690000000000004, 0.90610000000000002, 0.90600000000000003, 0.90700000000000003, 0.90339999999999998, 0.90580000000000005, 0.90529999999999999, 0.90229999999999999, 0.90720000000000001, 0.90349999999999997, 0.90710000000000002, 0.90449999999999997, 0.9042, 0.90359999999999996, 0.90569999999999995, 0.90480000000000005, 0.90869999999999995, 0.90290000000000004]}\n"
     ]
    }
   ],
   "source": [
    "print(his.history)"
   ]
  },
  {
   "cell_type": "code",
   "execution_count": 20,
   "metadata": {},
   "outputs": [
    {
     "name": "stdout",
     "output_type": "stream",
     "text": [
      "Epoch 1/25\n",
      "390/390 [==============================] - 145s - loss: 0.3418 - acc: 0.9090 - val_loss: 0.3619 - val_acc: 0.9075\n",
      "Epoch 2/25\n",
      "390/390 [==============================] - 143s - loss: 0.3443 - acc: 0.9081 - val_loss: 0.3609 - val_acc: 0.9078\n",
      "Epoch 3/25\n",
      "390/390 [==============================] - 144s - loss: 0.3423 - acc: 0.9089 - val_loss: 0.3585 - val_acc: 0.9077\n",
      "Epoch 4/25\n",
      "390/390 [==============================] - 144s - loss: 0.3408 - acc: 0.9094 - val_loss: 0.3645 - val_acc: 0.9085\n",
      "Epoch 5/25\n",
      "390/390 [==============================] - 143s - loss: 0.3384 - acc: 0.9098 - val_loss: 0.3577 - val_acc: 0.9096\n",
      "Epoch 6/25\n",
      "390/390 [==============================] - 144s - loss: 0.3405 - acc: 0.9087 - val_loss: 0.3637 - val_acc: 0.9072\n",
      "Epoch 7/25\n",
      "390/390 [==============================] - 144s - loss: 0.3375 - acc: 0.9110 - val_loss: 0.3628 - val_acc: 0.9071\n",
      "Epoch 8/25\n",
      "390/390 [==============================] - 144s - loss: 0.3439 - acc: 0.9086 - val_loss: 0.3651 - val_acc: 0.9062\n",
      "Epoch 9/25\n",
      "390/390 [==============================] - 144s - loss: 0.3401 - acc: 0.9092 - val_loss: 0.3608 - val_acc: 0.9075\n",
      "Epoch 10/25\n",
      "390/390 [==============================] - 143s - loss: 0.3355 - acc: 0.9116 - val_loss: 0.3650 - val_acc: 0.9071\n",
      "Epoch 11/25\n",
      "390/390 [==============================] - 144s - loss: 0.3367 - acc: 0.9108 - val_loss: 0.3639 - val_acc: 0.9061\n",
      "Epoch 12/25\n",
      "390/390 [==============================] - 144s - loss: 0.3374 - acc: 0.9099 - val_loss: 0.3629 - val_acc: 0.9072\n",
      "Epoch 13/25\n",
      "390/390 [==============================] - 144s - loss: 0.3356 - acc: 0.9107 - val_loss: 0.3605 - val_acc: 0.9092\n",
      "Epoch 14/25\n",
      "390/390 [==============================] - 144s - loss: 0.3382 - acc: 0.9089 - val_loss: 0.3637 - val_acc: 0.9072\n",
      "Epoch 15/25\n",
      "390/390 [==============================] - 144s - loss: 0.3330 - acc: 0.9121 - val_loss: 0.3638 - val_acc: 0.9068\n",
      "Epoch 16/25\n",
      "390/390 [==============================] - 144s - loss: 0.3278 - acc: 0.9137 - val_loss: 0.3596 - val_acc: 0.9085\n",
      "Epoch 17/25\n",
      "390/390 [==============================] - 144s - loss: 0.3347 - acc: 0.9108 - val_loss: 0.3557 - val_acc: 0.9101\n",
      "Epoch 18/25\n",
      "390/390 [==============================] - 144s - loss: 0.3336 - acc: 0.9096 - val_loss: 0.3573 - val_acc: 0.9093\n",
      "Epoch 19/25\n",
      "390/390 [==============================] - 144s - loss: 0.3294 - acc: 0.9115 - val_loss: 0.3595 - val_acc: 0.9078\n",
      "Epoch 20/25\n",
      "390/390 [==============================] - 144s - loss: 0.3301 - acc: 0.9114 - val_loss: 0.3580 - val_acc: 0.9092\n",
      "Epoch 21/25\n",
      "390/390 [==============================] - 143s - loss: 0.3271 - acc: 0.9125 - val_loss: 0.3596 - val_acc: 0.9082\n",
      "Epoch 22/25\n",
      "390/390 [==============================] - 143s - loss: 0.3313 - acc: 0.9117 - val_loss: 0.3599 - val_acc: 0.9090\n",
      "Epoch 23/25\n",
      "390/390 [==============================] - 144s - loss: 0.3324 - acc: 0.9101 - val_loss: 0.3533 - val_acc: 0.9120\n",
      "Epoch 24/25\n",
      "390/390 [==============================] - 144s - loss: 0.3289 - acc: 0.9126 - val_loss: 0.3555 - val_acc: 0.9097\n",
      "Epoch 25/25\n",
      "390/390 [==============================] - 144s - loss: 0.3294 - acc: 0.9123 - val_loss: 0.3552 - val_acc: 0.9086\n"
     ]
    }
   ],
   "source": [
    "# Continue for 25 epochs more\n",
    "batch_size = 128\n",
    "epochs=25\n",
    "\n",
    "opt_rms = keras.optimizers.rmsprop(lr=0.000075,decay=1e-6)\n",
    "model.compile(loss='categorical_crossentropy',\n",
    "        optimizer=opt_rms,\n",
    "        metrics=['accuracy'])\n",
    "his = model.fit_generator(datagen.flow(x_train, y_train, batch_size=batch_size),steps_per_epoch=x_train.shape[0] // batch_size,epochs=epochs,verbose=1,validation_data=(x_test,y_test))\n",
    "model.save_weights('cifar10_normal_rms_ep175'+act_name+'.h5')"
   ]
  },
  {
   "cell_type": "code",
   "execution_count": 21,
   "metadata": {},
   "outputs": [
    {
     "name": "stdout",
     "output_type": "stream",
     "text": [
      "{'acc': [0.90897435897435896, 0.90812479950580838, 0.90892685270477724, 0.90938803332717055, 0.90980911132499198, 0.9086461341224269, 0.91095203725351592, 0.90858598008995684, 0.90914741738851457, 0.91167388510772884, 0.91081167793365714, 0.90988931666974804, 0.91065126726326751, 0.90880654471632683, 0.912155117080653, 0.91367901824856934, 0.91079162658312629, 0.90968880335566393, 0.91157362850805412, 0.91145332048135874, 0.91243583573949305, 0.91167388516509618, 0.91012993266577136, 0.91253609237741273, 0.91231552771279778], 'val_loss': [0.36187692437171937, 0.36088648214340208, 0.35854447045326232, 0.36446169748306273, 0.35768763680458071, 0.36367765750885012, 0.36282546310424807, 0.36511099023818971, 0.36076046829223635, 0.36497328929901124, 0.36386575880050659, 0.36292336893081667, 0.3604862789154053, 0.3636804880142212, 0.36379329409599304, 0.35955747680664063, 0.35565124478340149, 0.35730977706909178, 0.3595226854324341, 0.35796147594451905, 0.3595506537437439, 0.35990539774894714, 0.35330403728485105, 0.35550824794769287, 0.35515119161605835], 'loss': [0.34181851175351019, 0.34435376213229463, 0.34222914999901272, 0.34083315908889722, 0.3384122355725469, 0.34068510590798207, 0.33751732037355781, 0.34386847269317067, 0.34005783625929487, 0.33528376589381315, 0.33657220169485935, 0.33742673090340275, 0.33565181024303259, 0.33834105568950207, 0.33303368564863639, 0.32777440376797279, 0.33471844487554336, 0.33351612456303054, 0.32926838222818189, 0.33009361514190011, 0.32719830324395865, 0.33149275343350043, 0.33237552709750806, 0.32887923868566055, 0.32933167281883591], 'val_acc': [0.90749999999999997, 0.90780000000000005, 0.90769999999999995, 0.90849999999999997, 0.90959999999999996, 0.90720000000000001, 0.90710000000000002, 0.90620000000000001, 0.90749999999999997, 0.90710000000000002, 0.90610000000000002, 0.90720000000000001, 0.90920000000000001, 0.90720000000000001, 0.90680000000000005, 0.90849999999999997, 0.91010000000000002, 0.9093, 0.90780000000000005, 0.90920000000000001, 0.90820000000000001, 0.90900000000000003, 0.91200000000000003, 0.90969999999999995, 0.90859999999999996]}\n"
     ]
    }
   ],
   "source": [
    "print(his.history)"
   ]
  },
  {
   "cell_type": "code",
   "execution_count": 22,
   "metadata": {},
   "outputs": [
    {
     "name": "stdout",
     "output_type": "stream",
     "text": [
      "Epoch 1/5\n",
      "390/390 [==============================] - 148s - loss: 0.3253 - acc: 0.9133 - val_loss: 0.3552 - val_acc: 0.9095\n",
      "Epoch 2/5\n",
      "390/390 [==============================] - 145s - loss: 0.3194 - acc: 0.9153 - val_loss: 0.3544 - val_acc: 0.9100\n",
      "Epoch 3/5\n",
      "390/390 [==============================] - 145s - loss: 0.3254 - acc: 0.9144 - val_loss: 0.3541 - val_acc: 0.9099\n",
      "Epoch 4/5\n",
      "390/390 [==============================] - 145s - loss: 0.3235 - acc: 0.9137 - val_loss: 0.3564 - val_acc: 0.9090\n",
      "Epoch 5/5\n",
      "390/390 [==============================] - 145s - loss: 0.3229 - acc: 0.9128 - val_loss: 0.3559 - val_acc: 0.9086\n"
     ]
    }
   ],
   "source": [
    "# Continue for 5 epochs more\n",
    "batch_size = 128\n",
    "epochs=25\n",
    "\n",
    "opt_rms = keras.optimizers.rmsprop(lr=0.000035,decay=1e-6)\n",
    "model.compile(loss='categorical_crossentropy',\n",
    "        optimizer=opt_rms,\n",
    "        metrics=['accuracy'])\n",
    "his = model.fit_generator(datagen.flow(x_train, y_train, batch_size=batch_size),steps_per_epoch=x_train.shape[0] // batch_size,epochs=epochs/5,verbose=1,validation_data=(x_test,y_test))\n",
    "model.save_weights('cifar10_normal_rms_ep180'+act_name+'.h5')"
   ]
  },
  {
   "cell_type": "code",
   "execution_count": 23,
   "metadata": {},
   "outputs": [
    {
     "name": "stdout",
     "output_type": "stream",
     "text": [
      "{'acc': [0.91332131410256412, 0.91528312476124185, 0.91440086625576167, 0.91367901826769182, 0.91281681103625278], 'val_loss': [0.35519334955215454, 0.35437487621307373, 0.35411906323432923, 0.35642164855003355, 0.35585872044563294], 'loss': [0.32531605038123251, 0.31935959300973454, 0.32541894047429326, 0.32343480167841737, 0.32285918094119775], 'val_acc': [0.90949999999999998, 0.91000000000000003, 0.90990000000000004, 0.90900000000000003, 0.90859999999999996]}\n"
     ]
    }
   ],
   "source": [
    "print(his.history)"
   ]
  },
  {
   "cell_type": "code",
   "execution_count": 24,
   "metadata": {},
   "outputs": [
    {
     "name": "stdout",
     "output_type": "stream",
     "text": [
      "Epoch 1/5\n",
      "390/390 [==============================] - 145s - loss: 0.3269 - acc: 0.9126 - val_loss: 0.3538 - val_acc: 0.9094\n",
      "Epoch 2/5\n",
      "390/390 [==============================] - 144s - loss: 0.3184 - acc: 0.9141 - val_loss: 0.3514 - val_acc: 0.9102\n",
      "Epoch 3/5\n",
      "390/390 [==============================] - 144s - loss: 0.3157 - acc: 0.9165 - val_loss: 0.3531 - val_acc: 0.9099\n",
      "Epoch 4/5\n",
      "390/390 [==============================] - 144s - loss: 0.3233 - acc: 0.9138 - val_loss: 0.3534 - val_acc: 0.9095\n",
      "Epoch 5/5\n",
      "390/390 [==============================] - 144s - loss: 0.3233 - acc: 0.9141 - val_loss: 0.3529 - val_acc: 0.9101\n"
     ]
    }
   ],
   "source": [
    "# Continue for 5 epochs more\n",
    "batch_size = 128\n",
    "epochs=25\n",
    "\n",
    "opt_rms = keras.optimizers.rmsprop(lr=0.000017,decay=1e-6)\n",
    "model.compile(loss='categorical_crossentropy',\n",
    "        optimizer=opt_rms,\n",
    "        metrics=['accuracy'])\n",
    "his = model.fit_generator(datagen.flow(x_train, y_train, batch_size=batch_size),steps_per_epoch=x_train.shape[0] // batch_size,epochs=epochs/5,verbose=1,validation_data=(x_test,y_test))\n",
    "model.save_weights('cifar10_normal_rms_ep185'+act_name+'.h5')"
   ]
  },
  {
   "cell_type": "code",
   "execution_count": 25,
   "metadata": {},
   "outputs": [
    {
     "name": "stdout",
     "output_type": "stream",
     "text": [
      "{'acc': [0.91264022435897441, 0.9141201476160441, 0.91652630736593022, 0.91381937762579557, 0.91405999358357393], 'val_loss': [0.3538467577934265, 0.35142908020019531, 0.35314376525878904, 0.35344503831863405, 0.35289660987854005], 'loss': [0.32687588570973813, 0.31842460483551638, 0.31569306115940438, 0.32334118961025821, 0.3232502385634507], 'val_acc': [0.90939999999999999, 0.91020000000000001, 0.90990000000000004, 0.90949999999999998, 0.91010000000000002]}\n"
     ]
    }
   ],
   "source": [
    "print(his.history)"
   ]
  },
  {
   "cell_type": "code",
   "execution_count": 26,
   "metadata": {},
   "outputs": [
    {
     "name": "stdout",
     "output_type": "stream",
     "text": [
      "Epoch 1/5\n",
      "390/390 [==============================] - 145s - loss: 0.3217 - acc: 0.9155 - val_loss: 0.3536 - val_acc: 0.9100\n",
      "Epoch 2/5\n",
      "390/390 [==============================] - 144s - loss: 0.3211 - acc: 0.9151 - val_loss: 0.3530 - val_acc: 0.9090\n",
      "Epoch 3/5\n",
      "390/390 [==============================] - 144s - loss: 0.3178 - acc: 0.9158 - val_loss: 0.3531 - val_acc: 0.9101\n",
      "Epoch 4/5\n",
      "390/390 [==============================] - 144s - loss: 0.3147 - acc: 0.9171 - val_loss: 0.3530 - val_acc: 0.9094\n",
      "Epoch 5/5\n",
      "390/390 [==============================] - 144s - loss: 0.3195 - acc: 0.9155 - val_loss: 0.3523 - val_acc: 0.9098\n"
     ]
    }
   ],
   "source": [
    "# Continue for 5 epochs more\n",
    "batch_size = 128\n",
    "epochs=25\n",
    "\n",
    "opt_rms = keras.optimizers.rmsprop(lr=0.000012,decay=1e-6)\n",
    "model.compile(loss='categorical_crossentropy',\n",
    "        optimizer=opt_rms,\n",
    "        metrics=['accuracy'])\n",
    "his = model.fit_generator(datagen.flow(x_train, y_train, batch_size=batch_size),steps_per_epoch=x_train.shape[0] // batch_size,epochs=epochs/5,verbose=1,validation_data=(x_test,y_test))\n",
    "model.save_weights('cifar10_normal_rms_ep190'+act_name+'.h5')"
   ]
  },
  {
   "cell_type": "code",
   "execution_count": 27,
   "metadata": {},
   "outputs": [
    {
     "name": "stdout",
     "output_type": "stream",
     "text": [
      "{'acc': [0.91548477564102559, 0.91506256015399423, 0.91582451078575855, 0.91708774458799835, 0.91550368946410154], 'val_loss': [0.35359545803070069, 0.35298236584663389, 0.35310207810401917, 0.35297208704948424, 0.35232336378097534], 'loss': [0.32171604285637539, 0.32113615497779419, 0.31780275674748965, 0.3146676657136373, 0.31954576012451069], 'val_acc': [0.91000000000000003, 0.90900000000000003, 0.91010000000000002, 0.90939999999999999, 0.90980000000000005]}\n"
     ]
    }
   ],
   "source": [
    "print(his.history)"
   ]
  }
 ],
 "metadata": {
  "kernelspec": {
   "display_name": "Python 3",
   "language": "python",
   "name": "python3"
  },
  "language_info": {
   "codemirror_mode": {
    "name": "ipython",
    "version": 3
   },
   "file_extension": ".py",
   "mimetype": "text/x-python",
   "name": "python",
   "nbconvert_exporter": "python",
   "pygments_lexer": "ipython3",
   "version": "3.5.3"
  }
 },
 "nbformat": 4,
 "nbformat_minor": 2
}
