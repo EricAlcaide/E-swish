{
 "cells": [
  {
   "cell_type": "code",
   "execution_count": 1,
   "metadata": {},
   "outputs": [
    {
     "name": "stderr",
     "output_type": "stream",
     "text": [
      "Using TensorFlow backend.\n"
     ]
    }
   ],
   "source": [
    "import keras\n",
    "import keras.backend as K\n",
    "from keras.models import Sequential\n",
    "from keras.utils import np_utils\n",
    "from keras.preprocessing.image import ImageDataGenerator\n",
    "from keras.layers import Dense, Activation, Flatten, Dropout, BatchNormalization\n",
    "from keras.layers import Conv2D, MaxPooling2D\n",
    "from keras.datasets import cifar10\n",
    "from keras import regularizers, optimizers\n",
    "import numpy as np\n",
    "\n",
    "\n",
    "(x_train, y_train), (x_test, y_test) = cifar10.load_data()\n",
    "x_train = x_train.astype('float32')\n",
    "x_test = x_test.astype('float32')\n",
    "\n",
    "#z-score\n",
    "mean = np.mean(x_train,axis=(0,1,2,3))\n",
    "std = np.std(x_train,axis=(0,1,2,3))\n",
    "x_train = (x_train-mean)/(std+1e-7)\n",
    "x_test = (x_test-mean)/(std+1e-7)\n",
    "\n",
    "num_classes = 10\n",
    "y_train = np_utils.to_categorical(y_train,num_classes)\n",
    "y_test = np_utils.to_categorical(y_test,num_classes)"
   ]
  },
  {
   "cell_type": "code",
   "execution_count": 2,
   "metadata": {
    "collapsed": true
   },
   "outputs": [],
   "source": [
    "# Swish activation function\n",
    "# x*sigmoid(x)\n",
    "def swish(x):\n",
    "    return x*K.sigmoid(x)"
   ]
  },
  {
   "cell_type": "code",
   "execution_count": 3,
   "metadata": {},
   "outputs": [
    {
     "name": "stdout",
     "output_type": "stream",
     "text": [
      "swish\n"
     ]
    }
   ],
   "source": [
    "act, act_name = swish, \"swish\"\n",
    "print(act_name)"
   ]
  },
  {
   "cell_type": "code",
   "execution_count": 4,
   "metadata": {},
   "outputs": [
    {
     "name": "stdout",
     "output_type": "stream",
     "text": [
      "swish\n",
      "_________________________________________________________________\n",
      "Layer (type)                 Output Shape              Param #   \n",
      "=================================================================\n",
      "conv2d_1 (Conv2D)            (None, 32, 32, 32)        896       \n",
      "_________________________________________________________________\n",
      "activation_1 (Activation)    (None, 32, 32, 32)        0         \n",
      "_________________________________________________________________\n",
      "batch_normalization_1 (Batch (None, 32, 32, 32)        128       \n",
      "_________________________________________________________________\n",
      "conv2d_2 (Conv2D)            (None, 32, 32, 32)        9248      \n",
      "_________________________________________________________________\n",
      "activation_2 (Activation)    (None, 32, 32, 32)        0         \n",
      "_________________________________________________________________\n",
      "batch_normalization_2 (Batch (None, 32, 32, 32)        128       \n",
      "_________________________________________________________________\n",
      "max_pooling2d_1 (MaxPooling2 (None, 16, 16, 32)        0         \n",
      "_________________________________________________________________\n",
      "dropout_1 (Dropout)          (None, 16, 16, 32)        0         \n",
      "_________________________________________________________________\n",
      "conv2d_3 (Conv2D)            (None, 16, 16, 64)        18496     \n",
      "_________________________________________________________________\n",
      "activation_3 (Activation)    (None, 16, 16, 64)        0         \n",
      "_________________________________________________________________\n",
      "batch_normalization_3 (Batch (None, 16, 16, 64)        256       \n",
      "_________________________________________________________________\n",
      "conv2d_4 (Conv2D)            (None, 16, 16, 64)        36928     \n",
      "_________________________________________________________________\n",
      "activation_4 (Activation)    (None, 16, 16, 64)        0         \n",
      "_________________________________________________________________\n",
      "batch_normalization_4 (Batch (None, 16, 16, 64)        256       \n",
      "_________________________________________________________________\n",
      "max_pooling2d_2 (MaxPooling2 (None, 8, 8, 64)          0         \n",
      "_________________________________________________________________\n",
      "dropout_2 (Dropout)          (None, 8, 8, 64)          0         \n",
      "_________________________________________________________________\n",
      "conv2d_5 (Conv2D)            (None, 8, 8, 128)         73856     \n",
      "_________________________________________________________________\n",
      "activation_5 (Activation)    (None, 8, 8, 128)         0         \n",
      "_________________________________________________________________\n",
      "batch_normalization_5 (Batch (None, 8, 8, 128)         512       \n",
      "_________________________________________________________________\n",
      "conv2d_6 (Conv2D)            (None, 8, 8, 128)         147584    \n",
      "_________________________________________________________________\n",
      "activation_6 (Activation)    (None, 8, 8, 128)         0         \n",
      "_________________________________________________________________\n",
      "batch_normalization_6 (Batch (None, 8, 8, 128)         512       \n",
      "_________________________________________________________________\n",
      "max_pooling2d_3 (MaxPooling2 (None, 4, 4, 128)         0         \n",
      "_________________________________________________________________\n",
      "dropout_3 (Dropout)          (None, 4, 4, 128)         0         \n",
      "_________________________________________________________________\n",
      "flatten_1 (Flatten)          (None, 2048)              0         \n",
      "_________________________________________________________________\n",
      "dense_1 (Dense)              (None, 10)                20490     \n",
      "=================================================================\n",
      "Total params: 309,290\n",
      "Trainable params: 308,394\n",
      "Non-trainable params: 896\n",
      "_________________________________________________________________\n"
     ]
    }
   ],
   "source": [
    "baseMapNum = 32\n",
    "weight_decay = 1e-4\n",
    "\n",
    "model = Sequential()\n",
    "model.add(Conv2D(baseMapNum, (3,3), padding='same', kernel_regularizer=regularizers.l2(weight_decay), input_shape=x_train.shape[1:]))\n",
    "model.add(Activation(act))\n",
    "model.add(BatchNormalization())\n",
    "model.add(Conv2D(baseMapNum, (3,3), padding='same', kernel_regularizer=regularizers.l2(weight_decay)))\n",
    "model.add(Activation(act))\n",
    "model.add(BatchNormalization())\n",
    "model.add(MaxPooling2D(pool_size=(2,2)))\n",
    "model.add(Dropout(0.2))\n",
    "\n",
    "model.add(Conv2D(2*baseMapNum, (3,3), padding='same', kernel_regularizer=regularizers.l2(weight_decay)))\n",
    "model.add(Activation(act))\n",
    "model.add(BatchNormalization())\n",
    "model.add(Conv2D(2*baseMapNum, (3,3), padding='same', kernel_regularizer=regularizers.l2(weight_decay)))\n",
    "model.add(Activation(act))\n",
    "model.add(BatchNormalization())\n",
    "model.add(MaxPooling2D(pool_size=(2,2)))\n",
    "model.add(Dropout(0.3))\n",
    "\n",
    "model.add(Conv2D(4*baseMapNum, (3,3), padding='same', kernel_regularizer=regularizers.l2(weight_decay)))\n",
    "model.add(Activation(act))\n",
    "model.add(BatchNormalization())\n",
    "model.add(Conv2D(4*baseMapNum, (3,3), padding='same', kernel_regularizer=regularizers.l2(weight_decay)))\n",
    "model.add(Activation(act))\n",
    "model.add(BatchNormalization())\n",
    "model.add(MaxPooling2D(pool_size=(2,2)))\n",
    "model.add(Dropout(0.4))\n",
    "\n",
    "model.add(Flatten())\n",
    "model.add(Dense(num_classes, activation='softmax'))\n",
    "\n",
    "model.summary()"
   ]
  },
  {
   "cell_type": "code",
   "execution_count": 4,
   "metadata": {
    "collapsed": true
   },
   "outputs": [],
   "source": [
    "#data augmentation\n",
    "datagen = ImageDataGenerator(\n",
    "    featurewise_center=False,\n",
    "    samplewise_center=False,\n",
    "    featurewise_std_normalization=False,\n",
    "    samplewise_std_normalization=False,\n",
    "    zca_whitening=False,\n",
    "    rotation_range=15,\n",
    "    width_shift_range=0.1,\n",
    "    height_shift_range=0.1,\n",
    "    horizontal_flip=True,\n",
    "    vertical_flip=False\n",
    "    )\n",
    "datagen.fit(x_train)"
   ]
  },
  {
   "cell_type": "code",
   "execution_count": 6,
   "metadata": {
    "scrolled": false
   },
   "outputs": [
    {
     "name": "stdout",
     "output_type": "stream",
     "text": [
      "Epoch 1/75\n",
      "390/390 [==============================] - 155s - loss: 1.9323 - acc: 0.4188 - val_loss: 1.7221 - val_acc: 0.4713\n",
      "Epoch 2/75\n",
      "390/390 [==============================] - 152s - loss: 1.3531 - acc: 0.5720 - val_loss: 1.0408 - val_acc: 0.6731\n",
      "Epoch 3/75\n",
      "390/390 [==============================] - 151s - loss: 1.2038 - acc: 0.6329 - val_loss: 1.0127 - val_acc: 0.7021\n",
      "Epoch 4/75\n",
      "390/390 [==============================] - 151s - loss: 1.1117 - acc: 0.6674 - val_loss: 0.8938 - val_acc: 0.7361\n",
      "Epoch 5/75\n",
      "390/390 [==============================] - 150s - loss: 1.0206 - acc: 0.6943 - val_loss: 0.8497 - val_acc: 0.7431\n",
      "Epoch 6/75\n",
      "390/390 [==============================] - 150s - loss: 1.0421 - acc: 0.7026 - val_loss: 0.7800 - val_acc: 0.7689\n",
      "Epoch 7/75\n",
      "390/390 [==============================] - 150s - loss: 0.9491 - acc: 0.7197 - val_loss: 0.7157 - val_acc: 0.7880\n",
      "Epoch 8/75\n",
      "390/390 [==============================] - 150s - loss: 0.9149 - acc: 0.7342 - val_loss: 0.6919 - val_acc: 0.7979\n",
      "Epoch 9/75\n",
      "390/390 [==============================] - 150s - loss: 0.8905 - acc: 0.7425 - val_loss: 0.7152 - val_acc: 0.7876\n",
      "Epoch 10/75\n",
      "390/390 [==============================] - 150s - loss: 0.9066 - acc: 0.7482 - val_loss: 0.7060 - val_acc: 0.7886\n",
      "Epoch 11/75\n",
      "390/390 [==============================] - 150s - loss: 0.8906 - acc: 0.7500 - val_loss: 0.6977 - val_acc: 0.7940\n",
      "Epoch 12/75\n",
      "390/390 [==============================] - 150s - loss: 0.8434 - acc: 0.7608 - val_loss: 0.6704 - val_acc: 0.8075\n",
      "Epoch 13/75\n",
      "390/390 [==============================] - 150s - loss: 0.8397 - acc: 0.7625 - val_loss: 0.6891 - val_acc: 0.8040\n",
      "Epoch 14/75\n",
      "390/390 [==============================] - 150s - loss: 0.8529 - acc: 0.7657 - val_loss: 0.6334 - val_acc: 0.8192\n",
      "Epoch 15/75\n",
      "390/390 [==============================] - 150s - loss: 0.8129 - acc: 0.7716 - val_loss: 0.6424 - val_acc: 0.8234\n",
      "Epoch 16/75\n",
      "390/390 [==============================] - 150s - loss: 0.8083 - acc: 0.7776 - val_loss: 0.6375 - val_acc: 0.8201\n",
      "Epoch 17/75\n",
      "390/390 [==============================] - 150s - loss: 0.7985 - acc: 0.7793 - val_loss: 0.6148 - val_acc: 0.8299\n",
      "Epoch 18/75\n",
      "390/390 [==============================] - 150s - loss: 0.8096 - acc: 0.7821 - val_loss: 0.6841 - val_acc: 0.8270\n",
      "Epoch 19/75\n",
      "390/390 [==============================] - 150s - loss: 0.8071 - acc: 0.7828 - val_loss: 0.6095 - val_acc: 0.8311\n",
      "Epoch 20/75\n",
      "390/390 [==============================] - 150s - loss: 0.7789 - acc: 0.7878 - val_loss: 0.6088 - val_acc: 0.8349\n",
      "Epoch 21/75\n",
      "390/390 [==============================] - 150s - loss: 0.7714 - acc: 0.7911 - val_loss: 0.6047 - val_acc: 0.8374\n",
      "Epoch 22/75\n",
      "390/390 [==============================] - 150s - loss: 0.7610 - acc: 0.7922 - val_loss: 0.6215 - val_acc: 0.8332\n",
      "Epoch 23/75\n",
      "390/390 [==============================] - 150s - loss: 0.7529 - acc: 0.7954 - val_loss: 0.6546 - val_acc: 0.8343\n",
      "Epoch 24/75\n",
      "390/390 [==============================] - 150s - loss: 0.7669 - acc: 0.7989 - val_loss: 0.5924 - val_acc: 0.8447\n",
      "Epoch 25/75\n",
      "390/390 [==============================] - 150s - loss: 0.7635 - acc: 0.7961 - val_loss: 0.6493 - val_acc: 0.8330\n",
      "Epoch 26/75\n",
      "390/390 [==============================] - 150s - loss: 0.7494 - acc: 0.7989 - val_loss: 0.5658 - val_acc: 0.8501\n",
      "Epoch 27/75\n",
      "390/390 [==============================] - 150s - loss: 0.7387 - acc: 0.8037 - val_loss: 0.6756 - val_acc: 0.8396\n",
      "Epoch 28/75\n",
      "390/390 [==============================] - 150s - loss: 0.7636 - acc: 0.8004 - val_loss: 0.6288 - val_acc: 0.8356\n",
      "Epoch 29/75\n",
      "390/390 [==============================] - 150s - loss: 0.7251 - acc: 0.8075 - val_loss: 0.5925 - val_acc: 0.8408\n",
      "Epoch 30/75\n",
      "390/390 [==============================] - 150s - loss: 0.7318 - acc: 0.8048 - val_loss: 0.5549 - val_acc: 0.8538\n",
      "Epoch 31/75\n",
      "390/390 [==============================] - 150s - loss: 0.7184 - acc: 0.8104 - val_loss: 0.5666 - val_acc: 0.8489\n",
      "Epoch 32/75\n",
      "390/390 [==============================] - 150s - loss: 0.7176 - acc: 0.8117 - val_loss: 0.5341 - val_acc: 0.8603\n",
      "Epoch 33/75\n",
      "390/390 [==============================] - 150s - loss: 0.7158 - acc: 0.8111 - val_loss: 0.5566 - val_acc: 0.8533\n",
      "Epoch 34/75\n",
      "390/390 [==============================] - 150s - loss: 0.7253 - acc: 0.8118 - val_loss: 0.5726 - val_acc: 0.8570\n",
      "Epoch 35/75\n",
      "390/390 [==============================] - 150s - loss: 0.7276 - acc: 0.8130 - val_loss: 0.6332 - val_acc: 0.8459\n",
      "Epoch 36/75\n",
      "390/390 [==============================] - 150s - loss: 0.7042 - acc: 0.8141 - val_loss: 0.5495 - val_acc: 0.8588\n",
      "Epoch 37/75\n",
      "390/390 [==============================] - 150s - loss: 0.7172 - acc: 0.8163 - val_loss: 0.5840 - val_acc: 0.8501\n",
      "Epoch 38/75\n",
      "390/390 [==============================] - 150s - loss: 0.7106 - acc: 0.8174 - val_loss: 0.5592 - val_acc: 0.8536\n",
      "Epoch 39/75\n",
      "390/390 [==============================] - 150s - loss: 0.7105 - acc: 0.8180 - val_loss: 0.5646 - val_acc: 0.8576\n",
      "Epoch 40/75\n",
      "390/390 [==============================] - 150s - loss: 0.7161 - acc: 0.8182 - val_loss: 0.5560 - val_acc: 0.8545\n",
      "Epoch 41/75\n",
      "390/390 [==============================] - 150s - loss: 0.7252 - acc: 0.8190 - val_loss: 0.5467 - val_acc: 0.8635\n",
      "Epoch 42/75\n",
      "390/390 [==============================] - 150s - loss: 0.8242 - acc: 0.8063 - val_loss: 0.7443 - val_acc: 0.8391\n",
      "Epoch 43/75\n",
      "390/390 [==============================] - 150s - loss: 0.8171 - acc: 0.8100 - val_loss: 0.5844 - val_acc: 0.8450\n",
      "Epoch 44/75\n",
      "390/390 [==============================] - 150s - loss: 0.7425 - acc: 0.8133 - val_loss: 0.6179 - val_acc: 0.8512\n",
      "Epoch 45/75\n",
      "390/390 [==============================] - 150s - loss: 0.7017 - acc: 0.8210 - val_loss: 0.5795 - val_acc: 0.8579\n",
      "Epoch 46/75\n",
      "390/390 [==============================] - 150s - loss: 0.6937 - acc: 0.8236 - val_loss: 0.5435 - val_acc: 0.8635\n",
      "Epoch 47/75\n",
      "390/390 [==============================] - 150s - loss: 0.6855 - acc: 0.8254 - val_loss: 0.5777 - val_acc: 0.8536\n",
      "Epoch 48/75\n",
      "390/390 [==============================] - 150s - loss: 0.6820 - acc: 0.8256 - val_loss: 0.5549 - val_acc: 0.8609\n",
      "Epoch 49/75\n",
      "390/390 [==============================] - 150s - loss: 0.6844 - acc: 0.8244 - val_loss: 0.5324 - val_acc: 0.8655\n",
      "Epoch 50/75\n",
      "390/390 [==============================] - 150s - loss: 0.6818 - acc: 0.8287 - val_loss: 0.5598 - val_acc: 0.8580\n",
      "Epoch 51/75\n",
      "390/390 [==============================] - 151s - loss: 0.6855 - acc: 0.8289 - val_loss: 0.5524 - val_acc: 0.8638\n",
      "Epoch 52/75\n",
      "390/390 [==============================] - 152s - loss: 0.6868 - acc: 0.8277 - val_loss: 0.5328 - val_acc: 0.8669\n",
      "Epoch 53/75\n",
      "390/390 [==============================] - 152s - loss: 0.6909 - acc: 0.8274 - val_loss: 0.5629 - val_acc: 0.8612\n",
      "Epoch 54/75\n",
      "390/390 [==============================] - 152s - loss: 0.6840 - acc: 0.8278 - val_loss: 0.5242 - val_acc: 0.8684\n",
      "Epoch 55/75\n",
      "390/390 [==============================] - 152s - loss: 0.6844 - acc: 0.8276 - val_loss: 0.5421 - val_acc: 0.8666\n",
      "Epoch 56/75\n",
      "390/390 [==============================] - 151s - loss: 0.6708 - acc: 0.8284 - val_loss: 0.5606 - val_acc: 0.8605\n",
      "Epoch 57/75\n",
      "390/390 [==============================] - 151s - loss: 0.6679 - acc: 0.8320 - val_loss: 0.5449 - val_acc: 0.8649\n",
      "Epoch 58/75\n",
      "390/390 [==============================] - 151s - loss: 0.6719 - acc: 0.8315 - val_loss: 0.5896 - val_acc: 0.8604\n",
      "Epoch 59/75\n",
      "390/390 [==============================] - 152s - loss: 0.6704 - acc: 0.8308 - val_loss: 0.5630 - val_acc: 0.8671\n",
      "Epoch 60/75\n",
      "390/390 [==============================] - 153s - loss: 0.6733 - acc: 0.8309 - val_loss: 0.5394 - val_acc: 0.8629\n",
      "Epoch 61/75\n",
      "390/390 [==============================] - 152s - loss: 0.6840 - acc: 0.8307 - val_loss: 0.5446 - val_acc: 0.8672\n",
      "Epoch 62/75\n",
      "390/390 [==============================] - 152s - loss: 0.6518 - acc: 0.8349 - val_loss: 0.5231 - val_acc: 0.8747\n",
      "Epoch 63/75\n",
      "390/390 [==============================] - 153s - loss: 0.6539 - acc: 0.8361 - val_loss: 0.5726 - val_acc: 0.8621\n",
      "Epoch 64/75\n",
      "390/390 [==============================] - 152s - loss: 0.6667 - acc: 0.8338 - val_loss: 0.5364 - val_acc: 0.8700\n",
      "Epoch 65/75\n",
      "390/390 [==============================] - 151s - loss: 0.6613 - acc: 0.8342 - val_loss: 0.5305 - val_acc: 0.8709\n",
      "Epoch 66/75\n"
     ]
    },
    {
     "name": "stdout",
     "output_type": "stream",
     "text": [
      "390/390 [==============================] - 151s - loss: 0.6695 - acc: 0.8327 - val_loss: 0.5424 - val_acc: 0.8671\n",
      "Epoch 67/75\n",
      "390/390 [==============================] - 151s - loss: 0.6550 - acc: 0.8350 - val_loss: 0.5180 - val_acc: 0.8712\n",
      "Epoch 68/75\n",
      "390/390 [==============================] - 150s - loss: 0.6588 - acc: 0.8339 - val_loss: 0.5597 - val_acc: 0.8631\n",
      "Epoch 69/75\n",
      "390/390 [==============================] - 150s - loss: 0.6581 - acc: 0.8379 - val_loss: 0.5244 - val_acc: 0.8684\n",
      "Epoch 70/75\n",
      "390/390 [==============================] - 150s - loss: 0.6521 - acc: 0.8370 - val_loss: 0.5658 - val_acc: 0.8605\n",
      "Epoch 71/75\n",
      "390/390 [==============================] - 150s - loss: 0.6470 - acc: 0.8365 - val_loss: 0.5517 - val_acc: 0.8634\n",
      "Epoch 72/75\n",
      "390/390 [==============================] - 150s - loss: 0.6532 - acc: 0.8369 - val_loss: 0.5375 - val_acc: 0.8651\n",
      "Epoch 73/75\n",
      "390/390 [==============================] - 150s - loss: 0.6559 - acc: 0.8363 - val_loss: 0.5371 - val_acc: 0.8720\n",
      "Epoch 74/75\n",
      "390/390 [==============================] - 150s - loss: 0.6457 - acc: 0.8395 - val_loss: 0.5274 - val_acc: 0.8723\n",
      "Epoch 75/75\n",
      "390/390 [==============================] - 150s - loss: 0.6595 - acc: 0.8371 - val_loss: 0.5465 - val_acc: 0.8682\n"
     ]
    }
   ],
   "source": [
    "#training\n",
    "batch_size = 128\n",
    "epochs=25\n",
    "opt_rms = keras.optimizers.rmsprop(lr=0.001,decay=1e-6)\n",
    "model.compile(loss='categorical_crossentropy',\n",
    "        optimizer=opt_rms,\n",
    "        metrics=['accuracy'])\n",
    "model.fit_generator(datagen.flow(x_train, y_train, batch_size=batch_size),steps_per_epoch=x_train.shape[0] // batch_size,epochs=3*epochs,verbose=1,validation_data=(x_test,y_test))\n",
    "model.save_weights('cifar10_normal_rms_ep75'+act_name+'.h5')"
   ]
  },
  {
   "cell_type": "code",
   "execution_count": 7,
   "metadata": {},
   "outputs": [
    {
     "name": "stdout",
     "output_type": "stream",
     "text": [
      "Epoch 1/25\n",
      "390/390 [==============================] - 151s - loss: 0.6043 - acc: 0.8498 - val_loss: 0.4878 - val_acc: 0.8841\n",
      "Epoch 2/25\n",
      "390/390 [==============================] - 150s - loss: 0.5879 - acc: 0.8557 - val_loss: 0.4923 - val_acc: 0.8858\n",
      "Epoch 3/25\n",
      "390/390 [==============================] - 150s - loss: 0.5832 - acc: 0.8567 - val_loss: 0.4915 - val_acc: 0.8853\n",
      "Epoch 4/25\n",
      "390/390 [==============================] - 150s - loss: 0.5801 - acc: 0.8596 - val_loss: 0.4907 - val_acc: 0.8898\n",
      "Epoch 5/25\n",
      "390/390 [==============================] - 150s - loss: 0.5700 - acc: 0.8584 - val_loss: 0.5023 - val_acc: 0.8825\n",
      "Epoch 6/25\n",
      "390/390 [==============================] - 150s - loss: 0.5676 - acc: 0.8604 - val_loss: 0.4728 - val_acc: 0.8867\n",
      "Epoch 7/25\n",
      "390/390 [==============================] - 150s - loss: 0.5685 - acc: 0.8608 - val_loss: 0.4883 - val_acc: 0.8866\n",
      "Epoch 8/25\n",
      "390/390 [==============================] - 150s - loss: 0.5606 - acc: 0.8600 - val_loss: 0.4678 - val_acc: 0.8853\n",
      "Epoch 9/25\n",
      "390/390 [==============================] - 150s - loss: 0.5614 - acc: 0.8615 - val_loss: 0.4719 - val_acc: 0.8861\n",
      "Epoch 10/25\n",
      "390/390 [==============================] - 150s - loss: 0.5604 - acc: 0.8600 - val_loss: 0.4678 - val_acc: 0.8878\n",
      "Epoch 11/25\n",
      "390/390 [==============================] - 150s - loss: 0.5607 - acc: 0.8598 - val_loss: 0.4714 - val_acc: 0.8851\n",
      "Epoch 12/25\n",
      "390/390 [==============================] - 150s - loss: 0.5545 - acc: 0.8646 - val_loss: 0.4894 - val_acc: 0.8876\n",
      "Epoch 13/25\n",
      "390/390 [==============================] - 150s - loss: 0.5494 - acc: 0.8621 - val_loss: 0.4662 - val_acc: 0.8915\n",
      "Epoch 14/25\n",
      "390/390 [==============================] - 150s - loss: 0.5522 - acc: 0.8613 - val_loss: 0.4586 - val_acc: 0.8922\n",
      "Epoch 15/25\n",
      "390/390 [==============================] - 150s - loss: 0.5471 - acc: 0.8629 - val_loss: 0.4615 - val_acc: 0.8848\n",
      "Epoch 16/25\n",
      "390/390 [==============================] - 150s - loss: 0.5600 - acc: 0.8616 - val_loss: 0.4630 - val_acc: 0.8886\n",
      "Epoch 17/25\n",
      "390/390 [==============================] - 150s - loss: 0.5440 - acc: 0.8646 - val_loss: 0.4659 - val_acc: 0.8877\n",
      "Epoch 18/25\n",
      "390/390 [==============================] - 150s - loss: 0.5400 - acc: 0.8640 - val_loss: 0.4476 - val_acc: 0.8908\n",
      "Epoch 19/25\n",
      "390/390 [==============================] - 150s - loss: 0.5493 - acc: 0.8631 - val_loss: 0.4625 - val_acc: 0.8872\n",
      "Epoch 20/25\n",
      "390/390 [==============================] - 150s - loss: 0.5381 - acc: 0.8619 - val_loss: 0.4476 - val_acc: 0.8919\n",
      "Epoch 21/25\n",
      "390/390 [==============================] - 150s - loss: 0.5370 - acc: 0.8644 - val_loss: 0.4760 - val_acc: 0.8853\n",
      "Epoch 22/25\n",
      "390/390 [==============================] - 150s - loss: 0.5445 - acc: 0.8635 - val_loss: 0.4594 - val_acc: 0.8862\n",
      "Epoch 23/25\n",
      "390/390 [==============================] - 150s - loss: 0.5350 - acc: 0.8655 - val_loss: 0.4536 - val_acc: 0.8907\n",
      "Epoch 24/25\n",
      "390/390 [==============================] - 150s - loss: 0.5225 - acc: 0.8682 - val_loss: 0.4424 - val_acc: 0.8913\n",
      "Epoch 25/25\n",
      "390/390 [==============================] - 150s - loss: 0.5337 - acc: 0.8663 - val_loss: 0.4447 - val_acc: 0.8914\n"
     ]
    }
   ],
   "source": [
    "opt_rms = keras.optimizers.rmsprop(lr=0.0005,decay=1e-6)\n",
    "model.compile(loss='categorical_crossentropy',\n",
    "        optimizer=opt_rms,\n",
    "        metrics=['accuracy'])\n",
    "model.fit_generator(datagen.flow(x_train, y_train, batch_size=batch_size),steps_per_epoch=x_train.shape[0] // batch_size,epochs=epochs,verbose=1,validation_data=(x_test,y_test))\n",
    "model.save_weights('cifar10_normal_rms_ep100'+act_name+'.h5')"
   ]
  },
  {
   "cell_type": "code",
   "execution_count": 8,
   "metadata": {},
   "outputs": [
    {
     "name": "stdout",
     "output_type": "stream",
     "text": [
      "Epoch 1/25\n",
      "390/390 [==============================] - 151s - loss: 0.5076 - acc: 0.8729 - val_loss: 0.4521 - val_acc: 0.8930\n",
      "Epoch 2/25\n",
      "390/390 [==============================] - 150s - loss: 0.5077 - acc: 0.8730 - val_loss: 0.4312 - val_acc: 0.8975\n",
      "Epoch 3/25\n",
      "390/390 [==============================] - 150s - loss: 0.5029 - acc: 0.8758 - val_loss: 0.4359 - val_acc: 0.8955\n",
      "Epoch 4/25\n",
      "390/390 [==============================] - 150s - loss: 0.4987 - acc: 0.8739 - val_loss: 0.4276 - val_acc: 0.8954\n",
      "Epoch 5/25\n",
      "390/390 [==============================] - 150s - loss: 0.4902 - acc: 0.8760 - val_loss: 0.4383 - val_acc: 0.8934\n",
      "Epoch 6/25\n",
      "390/390 [==============================] - 150s - loss: 0.4975 - acc: 0.8759 - val_loss: 0.4396 - val_acc: 0.8930\n",
      "Epoch 7/25\n",
      "390/390 [==============================] - 150s - loss: 0.4911 - acc: 0.8757 - val_loss: 0.4271 - val_acc: 0.8966\n",
      "Epoch 8/25\n",
      "390/390 [==============================] - 150s - loss: 0.4867 - acc: 0.8784 - val_loss: 0.4479 - val_acc: 0.8920\n",
      "Epoch 9/25\n",
      "390/390 [==============================] - 150s - loss: 0.4876 - acc: 0.8748 - val_loss: 0.4289 - val_acc: 0.8970\n",
      "Epoch 10/25\n",
      "390/390 [==============================] - 150s - loss: 0.4832 - acc: 0.8788 - val_loss: 0.4314 - val_acc: 0.8947\n",
      "Epoch 11/25\n",
      "390/390 [==============================] - 150s - loss: 0.4853 - acc: 0.8775 - val_loss: 0.4264 - val_acc: 0.8963\n",
      "Epoch 12/25\n",
      "390/390 [==============================] - 150s - loss: 0.4852 - acc: 0.8780 - val_loss: 0.4303 - val_acc: 0.8948\n",
      "Epoch 13/25\n",
      "390/390 [==============================] - 150s - loss: 0.4786 - acc: 0.8773 - val_loss: 0.4236 - val_acc: 0.8953\n",
      "Epoch 14/25\n",
      "390/390 [==============================] - 150s - loss: 0.4775 - acc: 0.8784 - val_loss: 0.4142 - val_acc: 0.8976\n",
      "Epoch 15/25\n",
      "390/390 [==============================] - 150s - loss: 0.4902 - acc: 0.8767 - val_loss: 0.4287 - val_acc: 0.8939\n",
      "Epoch 16/25\n",
      "390/390 [==============================] - 150s - loss: 0.4818 - acc: 0.8796 - val_loss: 0.4300 - val_acc: 0.8941\n",
      "Epoch 17/25\n",
      "390/390 [==============================] - 150s - loss: 0.4863 - acc: 0.8778 - val_loss: 0.4295 - val_acc: 0.8961\n",
      "Epoch 18/25\n",
      "390/390 [==============================] - 150s - loss: 0.4757 - acc: 0.8797 - val_loss: 0.4144 - val_acc: 0.8975\n",
      "Epoch 19/25\n",
      "390/390 [==============================] - 150s - loss: 0.4734 - acc: 0.8787 - val_loss: 0.4161 - val_acc: 0.8977\n",
      "Epoch 20/25\n",
      "390/390 [==============================] - 150s - loss: 0.4739 - acc: 0.8788 - val_loss: 0.4098 - val_acc: 0.8968\n",
      "Epoch 21/25\n",
      "390/390 [==============================] - 150s - loss: 0.4753 - acc: 0.8801 - val_loss: 0.4267 - val_acc: 0.8971\n",
      "Epoch 22/25\n",
      "390/390 [==============================] - 150s - loss: 0.4762 - acc: 0.8787 - val_loss: 0.4095 - val_acc: 0.8995\n",
      "Epoch 23/25\n",
      "390/390 [==============================] - 150s - loss: 0.4783 - acc: 0.8789 - val_loss: 0.4154 - val_acc: 0.8959\n",
      "Epoch 24/25\n",
      "390/390 [==============================] - 150s - loss: 0.4787 - acc: 0.8764 - val_loss: 0.4078 - val_acc: 0.8996\n",
      "Epoch 25/25\n",
      "390/390 [==============================] - 150s - loss: 0.4680 - acc: 0.8803 - val_loss: 0.4174 - val_acc: 0.8970\n"
     ]
    }
   ],
   "source": [
    "opt_rms = keras.optimizers.rmsprop(lr=0.0003,decay=1e-6)\n",
    "model.compile(loss='categorical_crossentropy',\n",
    "        optimizer=opt_rms,\n",
    "        metrics=['accuracy'])\n",
    "model.fit_generator(datagen.flow(x_train, y_train, batch_size=batch_size),steps_per_epoch=x_train.shape[0] // batch_size,epochs=epochs,verbose=1,validation_data=(x_test,y_test))\n",
    "model.save_weights('cifar10_normal_rms_ep125'+act_name+'.h5')"
   ]
  },
  {
   "cell_type": "code",
   "execution_count": 9,
   "metadata": {},
   "outputs": [
    {
     "name": "stdout",
     "output_type": "stream",
     "text": [
      " 9984/10000 [============================>.] - ETA: 0s\n",
      "Test result: 89.700 loss: 0.417\n"
     ]
    }
   ],
   "source": [
    "#testing - no kaggle eval\n",
    "scores = model.evaluate(x_test, y_test, batch_size=128, verbose=1)\n",
    "print('\\nTest result: %.3f loss: %.3f' % (scores[1]*100,scores[0]))"
   ]
  },
  {
   "cell_type": "code",
   "execution_count": 5,
   "metadata": {
    "collapsed": true
   },
   "outputs": [],
   "source": [
    "baseMapNum = 32\n",
    "weight_decay = 1e-4\n",
    "\n",
    "model = Sequential()\n",
    "model.add(Conv2D(baseMapNum, (3,3), padding='same', kernel_regularizer=regularizers.l2(weight_decay), input_shape=x_train.shape[1:]))\n",
    "model.add(Activation(act))\n",
    "model.add(BatchNormalization())\n",
    "model.add(Conv2D(baseMapNum, (3,3), padding='same', kernel_regularizer=regularizers.l2(weight_decay)))\n",
    "model.add(Activation(act))\n",
    "model.add(BatchNormalization())\n",
    "model.add(MaxPooling2D(pool_size=(2,2)))\n",
    "model.add(Dropout(0.2))\n",
    "\n",
    "model.add(Conv2D(2*baseMapNum, (3,3), padding='same', kernel_regularizer=regularizers.l2(weight_decay)))\n",
    "model.add(Activation(act))\n",
    "model.add(BatchNormalization())\n",
    "model.add(Conv2D(2*baseMapNum, (3,3), padding='same', kernel_regularizer=regularizers.l2(weight_decay)))\n",
    "model.add(Activation(act))\n",
    "model.add(BatchNormalization())\n",
    "model.add(MaxPooling2D(pool_size=(2,2)))\n",
    "model.add(Dropout(0.3))\n",
    "\n",
    "model.add(Conv2D(4*baseMapNum, (3,3), padding='same', kernel_regularizer=regularizers.l2(weight_decay)))\n",
    "model.add(Activation(act))\n",
    "model.add(BatchNormalization())\n",
    "model.add(Conv2D(4*baseMapNum, (3,3), padding='same', kernel_regularizer=regularizers.l2(weight_decay)))\n",
    "model.add(Activation(act))\n",
    "model.add(BatchNormalization())\n",
    "model.add(MaxPooling2D(pool_size=(2,2)))\n",
    "model.add(Dropout(0.4))\n",
    "\n",
    "model.add(Flatten())\n",
    "model.add(Dense(num_classes, activation='softmax'))\n",
    "\n",
    "model.load_weights(\"models/cifar10_normal_rms_ep125swish.h5\")"
   ]
  },
  {
   "cell_type": "code",
   "execution_count": 6,
   "metadata": {},
   "outputs": [
    {
     "name": "stdout",
     "output_type": "stream",
     "text": [
      "Epoch 1/25\n",
      "390/390 [==============================] - 155s - loss: 0.4517 - acc: 0.8858 - val_loss: 0.4082 - val_acc: 0.8968\n",
      "Epoch 2/25\n",
      "390/390 [==============================] - 152s - loss: 0.4524 - acc: 0.8869 - val_loss: 0.4164 - val_acc: 0.8978\n",
      "Epoch 3/25\n",
      "390/390 [==============================] - 151s - loss: 0.4515 - acc: 0.8845 - val_loss: 0.4022 - val_acc: 0.9004\n",
      "Epoch 4/25\n",
      "390/390 [==============================] - 152s - loss: 0.4446 - acc: 0.8875 - val_loss: 0.4072 - val_acc: 0.9022\n",
      "Epoch 5/25\n",
      "390/390 [==============================] - 152s - loss: 0.4456 - acc: 0.8877 - val_loss: 0.4003 - val_acc: 0.8999\n",
      "Epoch 6/25\n",
      "390/390 [==============================] - 152s - loss: 0.4394 - acc: 0.8897 - val_loss: 0.4042 - val_acc: 0.9012\n",
      "Epoch 7/25\n",
      "390/390 [==============================] - 152s - loss: 0.4327 - acc: 0.8895 - val_loss: 0.4058 - val_acc: 0.9012\n",
      "Epoch 8/25\n",
      "390/390 [==============================] - 152s - loss: 0.4473 - acc: 0.8884 - val_loss: 0.4046 - val_acc: 0.9008\n",
      "Epoch 9/25\n",
      "390/390 [==============================] - 151s - loss: 0.4374 - acc: 0.8887 - val_loss: 0.4071 - val_acc: 0.9021\n",
      "Epoch 10/25\n",
      "390/390 [==============================] - 151s - loss: 0.4436 - acc: 0.8873 - val_loss: 0.4057 - val_acc: 0.9005\n",
      "Epoch 11/25\n",
      "390/390 [==============================] - 151s - loss: 0.4360 - acc: 0.8900 - val_loss: 0.4109 - val_acc: 0.8995\n",
      "Epoch 12/25\n",
      "390/390 [==============================] - 151s - loss: 0.4322 - acc: 0.8892 - val_loss: 0.3945 - val_acc: 0.9031\n",
      "Epoch 13/25\n",
      "390/390 [==============================] - 151s - loss: 0.4357 - acc: 0.8899 - val_loss: 0.3990 - val_acc: 0.9006\n",
      "Epoch 14/25\n",
      "390/390 [==============================] - 151s - loss: 0.4314 - acc: 0.8906 - val_loss: 0.3932 - val_acc: 0.9041\n",
      "Epoch 15/25\n",
      "390/390 [==============================] - 150s - loss: 0.4351 - acc: 0.8899 - val_loss: 0.3921 - val_acc: 0.9038\n",
      "Epoch 16/25\n",
      "390/390 [==============================] - 150s - loss: 0.4294 - acc: 0.8926 - val_loss: 0.3951 - val_acc: 0.9049\n",
      "Epoch 17/25\n",
      "390/390 [==============================] - 150s - loss: 0.4312 - acc: 0.8916 - val_loss: 0.3977 - val_acc: 0.9040\n",
      "Epoch 18/25\n",
      "390/390 [==============================] - 150s - loss: 0.4299 - acc: 0.8893 - val_loss: 0.3998 - val_acc: 0.9026\n",
      "Epoch 19/25\n",
      "390/390 [==============================] - 150s - loss: 0.4321 - acc: 0.8898 - val_loss: 0.3897 - val_acc: 0.9051\n",
      "Epoch 20/25\n",
      "390/390 [==============================] - 150s - loss: 0.4307 - acc: 0.8901 - val_loss: 0.4032 - val_acc: 0.9000\n",
      "Epoch 21/25\n",
      "390/390 [==============================] - 150s - loss: 0.4278 - acc: 0.8920 - val_loss: 0.3986 - val_acc: 0.9014\n",
      "Epoch 22/25\n",
      "390/390 [==============================] - 150s - loss: 0.4244 - acc: 0.8932 - val_loss: 0.3963 - val_acc: 0.9032\n",
      "Epoch 23/25\n",
      "390/390 [==============================] - 150s - loss: 0.4220 - acc: 0.8902 - val_loss: 0.3926 - val_acc: 0.9038\n",
      "Epoch 24/25\n",
      "390/390 [==============================] - 150s - loss: 0.4186 - acc: 0.8931 - val_loss: 0.3997 - val_acc: 0.9022\n",
      "Epoch 25/25\n",
      "390/390 [==============================] - 150s - loss: 0.4236 - acc: 0.8921 - val_loss: 0.3945 - val_acc: 0.9041\n"
     ]
    }
   ],
   "source": [
    "# Continue for 25 epochs more\n",
    "batch_size = 128\n",
    "epochs=25\n",
    "\n",
    "opt_rms = keras.optimizers.rmsprop(lr=0.00015,decay=1e-6)\n",
    "model.compile(loss='categorical_crossentropy',\n",
    "        optimizer=opt_rms,\n",
    "        metrics=['accuracy'])\n",
    "his = model.fit_generator(datagen.flow(x_train, y_train, batch_size=batch_size),steps_per_epoch=x_train.shape[0] // batch_size,epochs=epochs,verbose=1,validation_data=(x_test,y_test))\n",
    "model.save_weights('cifar10_normal_rms_ep150'+act_name+'.h5')"
   ]
  },
  {
   "cell_type": "code",
   "execution_count": 7,
   "metadata": {},
   "outputs": [
    {
     "name": "stdout",
     "output_type": "stream",
     "text": [
      "{'acc': [0.88575721153846154, 0.88689043950606206, 0.88454443373127856, 0.8874719280977833, 0.88767244145011226, 0.88979788256028081, 0.88949711262739961, 0.88847449472557094, 0.88875521334616614, 0.8872313121782498, 0.88999839589348728, 0.88923644528084544, 0.88987808792415934, 0.89057988450433112, 0.88987808794328183, 0.8925649662755184, 0.89158245103650646, 0.88939685591299034, 0.88979788254115844, 0.89007860118087612, 0.89200352903432789, 0.89316650629426031, 0.89019890918844891, 0.89318655754917897, 0.89212383704190079], 'val_loss': [0.40820774867534637, 0.4163949291706085, 0.40224477882385257, 0.40715273625850679, 0.40033424901962278, 0.40424356536865236, 0.40581725521087647, 0.40460287899971009, 0.4070775022983551, 0.40572789745330812, 0.41089151208400726, 0.39454497537612915, 0.39895141930580141, 0.39320371990203856, 0.39213998556137086, 0.3951376909971237, 0.39769589865207672, 0.39982340493202212, 0.38965615992546082, 0.40321386351585387, 0.39857374296188353, 0.39632703878879549, 0.39264542243480682, 0.39971734919548035, 0.39449085388183591], 'loss': [0.45170089503129324, 0.45242712822410208, 0.45127664025027975, 0.44461759900029441, 0.4455711426339472, 0.43926074157206341, 0.4324865291085731, 0.44706422922356526, 0.4373730288834613, 0.44371251824539287, 0.43546706279348324, 0.43223810655817529, 0.43572011276395956, 0.43142172668390943, 0.4352546547386254, 0.42948929840722144, 0.43125307254008005, 0.42992811077559723, 0.43158346450898677, 0.43072422237437546, 0.42762085721781135, 0.42442363563699143, 0.42201707727984811, 0.41846466806403787, 0.42349197536008953], 'val_acc': [0.89680000000000004, 0.89780000000000004, 0.90039999999999998, 0.9022, 0.89990000000000003, 0.9012, 0.9012, 0.90080000000000005, 0.90210000000000001, 0.90049999999999997, 0.89949999999999997, 0.90310000000000001, 0.90059999999999996, 0.90410000000000001, 0.90380000000000005, 0.90490000000000004, 0.90400000000000003, 0.90259999999999996, 0.90510000000000002, 0.90000000000000002, 0.90139999999999998, 0.9032, 0.90380000000000005, 0.9022, 0.90410000000000001]}\n"
     ]
    }
   ],
   "source": [
    "print(his.history)"
   ]
  },
  {
   "cell_type": "code",
   "execution_count": 8,
   "metadata": {},
   "outputs": [
    {
     "name": "stdout",
     "output_type": "stream",
     "text": [
      "Epoch 1/25\n",
      "390/390 [==============================] - 151s - loss: 0.4114 - acc: 0.8959 - val_loss: 0.3906 - val_acc: 0.9049\n",
      "Epoch 2/25\n",
      "390/390 [==============================] - 150s - loss: 0.4133 - acc: 0.8946 - val_loss: 0.3883 - val_acc: 0.9044\n",
      "Epoch 3/25\n",
      "390/390 [==============================] - 150s - loss: 0.4113 - acc: 0.8964 - val_loss: 0.3908 - val_acc: 0.9048\n",
      "Epoch 4/25\n",
      "390/390 [==============================] - 150s - loss: 0.4032 - acc: 0.8952 - val_loss: 0.3930 - val_acc: 0.9031\n",
      "Epoch 5/25\n",
      "390/390 [==============================] - 150s - loss: 0.4060 - acc: 0.8962 - val_loss: 0.3904 - val_acc: 0.9038\n",
      "Epoch 6/25\n",
      "390/390 [==============================] - 150s - loss: 0.4012 - acc: 0.8980 - val_loss: 0.3919 - val_acc: 0.9043\n",
      "Epoch 7/25\n",
      "390/390 [==============================] - 150s - loss: 0.4078 - acc: 0.8950 - val_loss: 0.3987 - val_acc: 0.9032\n",
      "Epoch 8/25\n",
      "390/390 [==============================] - 150s - loss: 0.4117 - acc: 0.8940 - val_loss: 0.3881 - val_acc: 0.9046\n",
      "Epoch 9/25\n",
      "390/390 [==============================] - 150s - loss: 0.4144 - acc: 0.8948 - val_loss: 0.3885 - val_acc: 0.9047\n",
      "Epoch 10/25\n",
      "390/390 [==============================] - 150s - loss: 0.4005 - acc: 0.8979 - val_loss: 0.3907 - val_acc: 0.9041\n",
      "Epoch 11/25\n",
      "390/390 [==============================] - 150s - loss: 0.4043 - acc: 0.8963 - val_loss: 0.3875 - val_acc: 0.9051\n",
      "Epoch 12/25\n",
      "390/390 [==============================] - 150s - loss: 0.4088 - acc: 0.8943 - val_loss: 0.3895 - val_acc: 0.9038\n",
      "Epoch 13/25\n",
      "390/390 [==============================] - 150s - loss: 0.4020 - acc: 0.8987 - val_loss: 0.3878 - val_acc: 0.9048\n",
      "Epoch 14/25\n",
      "390/390 [==============================] - 150s - loss: 0.4035 - acc: 0.8970 - val_loss: 0.3927 - val_acc: 0.9036\n",
      "Epoch 15/25\n",
      "390/390 [==============================] - 150s - loss: 0.4024 - acc: 0.8979 - val_loss: 0.3892 - val_acc: 0.9042\n",
      "Epoch 16/25\n",
      "390/390 [==============================] - 150s - loss: 0.4024 - acc: 0.8960 - val_loss: 0.3824 - val_acc: 0.9039\n",
      "Epoch 17/25\n",
      "390/390 [==============================] - 150s - loss: 0.4031 - acc: 0.8958 - val_loss: 0.3844 - val_acc: 0.9036\n",
      "Epoch 18/25\n",
      "390/390 [==============================] - 150s - loss: 0.4114 - acc: 0.8957 - val_loss: 0.3849 - val_acc: 0.9022\n",
      "Epoch 19/25\n",
      "390/390 [==============================] - 150s - loss: 0.4007 - acc: 0.8975 - val_loss: 0.3842 - val_acc: 0.9050\n",
      "Epoch 20/25\n",
      "390/390 [==============================] - 150s - loss: 0.4028 - acc: 0.8977 - val_loss: 0.3799 - val_acc: 0.9053\n",
      "Epoch 21/25\n",
      "390/390 [==============================] - 150s - loss: 0.4010 - acc: 0.8976 - val_loss: 0.3865 - val_acc: 0.9034\n",
      "Epoch 22/25\n",
      "390/390 [==============================] - 150s - loss: 0.4039 - acc: 0.8969 - val_loss: 0.3808 - val_acc: 0.9059\n",
      "Epoch 23/25\n",
      "390/390 [==============================] - 150s - loss: 0.4045 - acc: 0.8980 - val_loss: 0.3820 - val_acc: 0.9040\n",
      "Epoch 24/25\n",
      "390/390 [==============================] - 150s - loss: 0.3973 - acc: 0.8989 - val_loss: 0.3894 - val_acc: 0.9032\n",
      "Epoch 25/25\n",
      "390/390 [==============================] - 150s - loss: 0.3930 - acc: 0.8972 - val_loss: 0.3798 - val_acc: 0.9047\n"
     ]
    }
   ],
   "source": [
    "# Continue for 25 epochs more\n",
    "batch_size = 128\n",
    "epochs=25\n",
    "\n",
    "opt_rms = keras.optimizers.rmsprop(lr=0.000075,decay=1e-6)\n",
    "model.compile(loss='categorical_crossentropy',\n",
    "        optimizer=opt_rms,\n",
    "        metrics=['accuracy'])\n",
    "his = model.fit_generator(datagen.flow(x_train, y_train, batch_size=batch_size),steps_per_epoch=x_train.shape[0] // batch_size,epochs=epochs,verbose=1,validation_data=(x_test,y_test))\n",
    "model.save_weights('cifar10_normal_rms_ep175'+act_name+'.h5')"
   ]
  },
  {
   "cell_type": "code",
   "execution_count": 9,
   "metadata": {},
   "outputs": [
    {
     "name": "stdout",
     "output_type": "stream",
     "text": [
      "{'acc': [0.89585336538461535, 0.8945901508051346, 0.89643487327558546, 0.89525184470336716, 0.89623435999974632, 0.89801892847597198, 0.89495107477048597, 0.89402871354482172, 0.8948107154315047, 0.89795877442437944, 0.89637471931960511, 0.89430943216541692, 0.89864051973051007, 0.89699631051677597, 0.89791867176156259, 0.89601379533513137, 0.89585338468386422, 0.89567292272031096, 0.89755774783445619, 0.8976981071351926, 0.89759785049727303, 0.89689605389797877, 0.89807908245107471, 0.89884103306371665, 0.89719682386910493], 'val_loss': [0.39062755880355837, 0.3882546559333801, 0.39080445771217348, 0.39295363612174988, 0.39036970536708832, 0.39192653381824494, 0.39867873466014864, 0.38806623706817628, 0.38853516824245454, 0.39072244238853454, 0.38749761795997617, 0.38951491680145262, 0.38776952061653136, 0.39271495082378388, 0.38921054899692537, 0.3823967484712601, 0.38439375302791595, 0.38494933381080626, 0.38422538604736328, 0.37994479603767395, 0.3864920220375061, 0.38080679481029511, 0.38199425306320189, 0.38942540490627287, 0.37981227989196775], 'loss': [0.41142565802885933, 0.41313026928159724, 0.41131724832644628, 0.40323427865472328, 0.40598595904393725, 0.40129054434069233, 0.40783730534586266, 0.41171192836983295, 0.41421194138877238, 0.40041923804049084, 0.40425596647932621, 0.40877877250863531, 0.40209980167025439, 0.40355027885554806, 0.40250895249564411, 0.40249568788065221, 0.40309018625217174, 0.41128417908820275, 0.40051012785724621, 0.40292104274598611, 0.40105536674741832, 0.40405847007432044, 0.404382820327503, 0.39726838730526615, 0.3930885904409735], 'val_acc': [0.90490000000000004, 0.90439999999999998, 0.90480000000000005, 0.90310000000000001, 0.90380000000000005, 0.90429999999999999, 0.9032, 0.90459999999999996, 0.90469999999999995, 0.90410000000000001, 0.90510000000000002, 0.90380000000000005, 0.90480000000000005, 0.90359999999999996, 0.9042, 0.90390000000000004, 0.90359999999999996, 0.9022, 0.90500000000000003, 0.90529999999999999, 0.90339999999999998, 0.90590000000000004, 0.90400000000000003, 0.9032, 0.90469999999999995]}\n"
     ]
    }
   ],
   "source": [
    "print(his.history)"
   ]
  },
  {
   "cell_type": "code",
   "execution_count": 10,
   "metadata": {},
   "outputs": [
    {
     "name": "stdout",
     "output_type": "stream",
     "text": [
      "Epoch 1/5\n",
      "390/390 [==============================] - 151s - loss: 0.3981 - acc: 0.8982 - val_loss: 0.3786 - val_acc: 0.9057\n",
      "Epoch 2/5\n",
      "390/390 [==============================] - 150s - loss: 0.3949 - acc: 0.9000 - val_loss: 0.3826 - val_acc: 0.9049\n",
      "Epoch 3/5\n",
      "390/390 [==============================] - 150s - loss: 0.3918 - acc: 0.8996 - val_loss: 0.3828 - val_acc: 0.9046\n",
      "Epoch 4/5\n",
      "390/390 [==============================] - 150s - loss: 0.3915 - acc: 0.9004 - val_loss: 0.3818 - val_acc: 0.9042\n",
      "Epoch 5/5\n",
      "390/390 [==============================] - 150s - loss: 0.3914 - acc: 0.8997 - val_loss: 0.3815 - val_acc: 0.9054\n"
     ]
    }
   ],
   "source": [
    "# Continue for 5 epochs more\n",
    "batch_size = 128\n",
    "epochs=25\n",
    "\n",
    "opt_rms = keras.optimizers.rmsprop(lr=0.000035,decay=1e-6)\n",
    "model.compile(loss='categorical_crossentropy',\n",
    "        optimizer=opt_rms,\n",
    "        metrics=['accuracy'])\n",
    "his = model.fit_generator(datagen.flow(x_train, y_train, batch_size=batch_size),steps_per_epoch=x_train.shape[0] // batch_size,epochs=epochs/5,verbose=1,validation_data=(x_test,y_test))\n",
    "model.save_weights('cifar10_normal_rms_ep180'+act_name+'.h5')"
   ]
  },
  {
   "cell_type": "code",
   "execution_count": 11,
   "metadata": {},
   "outputs": [
    {
     "name": "stdout",
     "output_type": "stream",
     "text": [
      "{'acc': [0.89819711538461533, 0.90000401022803678, 0.89964308632005285, 0.90036493426987785, 0.89974334295797243], 'val_loss': [0.37863976311683656, 0.3826482698440552, 0.38281142292022707, 0.38175358018875122, 0.38150989553928377], 'loss': [0.398070319990317, 0.39480810997040178, 0.39129868284570585, 0.39154716197940298, 0.39120571573919544], 'val_acc': [0.90569999999999995, 0.90490000000000004, 0.90459999999999996, 0.9042, 0.90539999999999998]}\n"
     ]
    }
   ],
   "source": [
    "print(his.history)"
   ]
  },
  {
   "cell_type": "code",
   "execution_count": 12,
   "metadata": {},
   "outputs": [
    {
     "name": "stdout",
     "output_type": "stream",
     "text": [
      "Epoch 1/5\n",
      "390/390 [==============================] - 151s - loss: 0.3919 - acc: 0.9002 - val_loss: 0.3806 - val_acc: 0.9057\n",
      "Epoch 2/5\n",
      "390/390 [==============================] - 150s - loss: 0.3929 - acc: 0.9010 - val_loss: 0.3808 - val_acc: 0.9054\n",
      "Epoch 3/5\n",
      "390/390 [==============================] - 14068s - loss: 0.3887 - acc: 0.9009 - val_loss: 0.3818 - val_acc: 0.9053\n",
      "Epoch 4/5\n",
      "390/390 [==============================] - 152s - loss: 0.3778 - acc: 0.9024 - val_loss: 0.3796 - val_acc: 0.9054\n",
      "Epoch 5/5\n",
      "390/390 [==============================] - 151s - loss: 0.3897 - acc: 0.8999 - val_loss: 0.3781 - val_acc: 0.9064\n"
     ]
    }
   ],
   "source": [
    "# Continue for 5 epochs more\n",
    "batch_size = 128\n",
    "epochs=25\n",
    "\n",
    "opt_rms = keras.optimizers.rmsprop(lr=0.000017,decay=1e-6)\n",
    "model.compile(loss='categorical_crossentropy',\n",
    "        optimizer=opt_rms,\n",
    "        metrics=['accuracy'])\n",
    "his = model.fit_generator(datagen.flow(x_train, y_train, batch_size=batch_size),steps_per_epoch=x_train.shape[0] // batch_size,epochs=epochs/5,verbose=1,validation_data=(x_test,y_test))\n",
    "model.save_weights('cifar10_normal_rms_ep185'+act_name+'.h5')"
   ]
  },
  {
   "cell_type": "code",
   "execution_count": 13,
   "metadata": {},
   "outputs": [
    {
     "name": "stdout",
     "output_type": "stream",
     "text": [
      "{'acc': [0.90020032051282051, 0.90094642286159921, 0.90094642280423187, 0.90239011868475949, 0.90002406159769011], 'val_loss': [0.38060365440845489, 0.38079213035106657, 0.38181369011402128, 0.37961667525768278, 0.37812995083332063], 'loss': [0.39189759615140085, 0.39298692853319978, 0.38876978467395762, 0.37785286450370748, 0.38948825888041699], 'val_acc': [0.90569999999999995, 0.90539999999999998, 0.90529999999999999, 0.90539999999999998, 0.90639999999999998]}\n"
     ]
    }
   ],
   "source": [
    "print(his.history)"
   ]
  },
  {
   "cell_type": "code",
   "execution_count": 14,
   "metadata": {},
   "outputs": [
    {
     "name": "stdout",
     "output_type": "stream",
     "text": [
      "Epoch 1/5\n",
      "390/390 [==============================] - 152s - loss: 0.3867 - acc: 0.9009 - val_loss: 0.3798 - val_acc: 0.9056\n",
      "Epoch 2/5\n",
      "390/390 [==============================] - 151s - loss: 0.3844 - acc: 0.9032 - val_loss: 0.3805 - val_acc: 0.9057\n",
      "Epoch 3/5\n",
      "390/390 [==============================] - 151s - loss: 0.3890 - acc: 0.9014 - val_loss: 0.3811 - val_acc: 0.9060\n",
      "Epoch 4/5\n",
      "390/390 [==============================] - 150s - loss: 0.3892 - acc: 0.8993 - val_loss: 0.3805 - val_acc: 0.9060\n",
      "Epoch 5/5\n",
      "390/390 [==============================] - 150s - loss: 0.3823 - acc: 0.9017 - val_loss: 0.3792 - val_acc: 0.9070\n"
     ]
    }
   ],
   "source": [
    "# Continue for 5 epochs more\n",
    "batch_size = 128\n",
    "epochs=25\n",
    "\n",
    "opt_rms = keras.optimizers.rmsprop(lr=0.000012,decay=1e-6)\n",
    "model.compile(loss='categorical_crossentropy',\n",
    "        optimizer=opt_rms,\n",
    "        metrics=['accuracy'])\n",
    "his = model.fit_generator(datagen.flow(x_train, y_train, batch_size=batch_size),steps_per_epoch=x_train.shape[0] // batch_size,epochs=epochs/5,verbose=1,validation_data=(x_test,y_test))\n",
    "model.save_weights('cifar10_normal_rms_ep190'+act_name+'.h5')"
   ]
  },
  {
   "cell_type": "code",
   "execution_count": 15,
   "metadata": {},
   "outputs": [
    {
     "name": "stdout",
     "output_type": "stream",
     "text": [
      "{'acc': [0.90088141025641022, 0.90319217199846302, 0.90146775745909524, 0.89930221370523233, 0.90162816807211765], 'val_loss': [0.37982043609619143, 0.38047481172084807, 0.3811149765968323, 0.3805003794193268, 0.37922024688720701], 'loss': [0.38665701750761422, 0.38440108700826608, 0.38870178570837632, 0.389246430043651, 0.3824876476489163], 'val_acc': [0.90559999999999996, 0.90569999999999995, 0.90600000000000003, 0.90600000000000003, 0.90700000000000003]}\n"
     ]
    }
   ],
   "source": [
    "print(his.history)"
   ]
  }
 ],
 "metadata": {
  "kernelspec": {
   "display_name": "Python 3",
   "language": "python",
   "name": "python3"
  },
  "language_info": {
   "codemirror_mode": {
    "name": "ipython",
    "version": 3
   },
   "file_extension": ".py",
   "mimetype": "text/x-python",
   "name": "python",
   "nbconvert_exporter": "python",
   "pygments_lexer": "ipython3",
   "version": "3.5.3"
  }
 },
 "nbformat": 4,
 "nbformat_minor": 2
}
