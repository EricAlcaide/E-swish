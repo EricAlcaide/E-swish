{
 "cells": [
  {
   "cell_type": "code",
   "execution_count": 1,
   "metadata": {},
   "outputs": [
    {
     "name": "stderr",
     "output_type": "stream",
     "text": [
      "Using TensorFlow backend.\n"
     ]
    }
   ],
   "source": [
    "import keras\n",
    "import keras.backend as K\n",
    "from keras.models import Sequential\n",
    "from keras.utils import np_utils\n",
    "from keras.preprocessing.image import ImageDataGenerator\n",
    "from keras.layers import Dense, Activation, Flatten, Dropout, BatchNormalization\n",
    "from keras.layers import Conv2D, MaxPooling2D\n",
    "from keras.datasets import cifar10\n",
    "from keras import regularizers, optimizers\n",
    "import numpy as np\n",
    "\n",
    "\n",
    "(x_train, y_train), (x_test, y_test) = cifar10.load_data()\n",
    "x_train = x_train.astype('float32')\n",
    "x_test = x_test.astype('float32')\n",
    "\n",
    "#z-score\n",
    "mean = np.mean(x_train,axis=(0,1,2,3))\n",
    "std = np.std(x_train,axis=(0,1,2,3))\n",
    "x_train = (x_train-mean)/(std+1e-7)\n",
    "x_test = (x_test-mean)/(std+1e-7)\n",
    "\n",
    "num_classes = 10\n",
    "y_train = np_utils.to_categorical(y_train,num_classes)\n",
    "y_test = np_utils.to_categorical(y_test,num_classes)"
   ]
  },
  {
   "cell_type": "code",
   "execution_count": 2,
   "metadata": {},
   "outputs": [
    {
     "name": "stdout",
     "output_type": "stream",
     "text": [
      "relu\n"
     ]
    }
   ],
   "source": [
    "act, act_name = \"relu\", \"relu\"\n",
    "print(act_name)"
   ]
  },
  {
   "cell_type": "code",
   "execution_count": 4,
   "metadata": {},
   "outputs": [
    {
     "name": "stdout",
     "output_type": "stream",
     "text": [
      "relu\n",
      "_________________________________________________________________\n",
      "Layer (type)                 Output Shape              Param #   \n",
      "=================================================================\n",
      "conv2d_1 (Conv2D)            (None, 32, 32, 32)        896       \n",
      "_________________________________________________________________\n",
      "activation_1 (Activation)    (None, 32, 32, 32)        0         \n",
      "_________________________________________________________________\n",
      "batch_normalization_1 (Batch (None, 32, 32, 32)        128       \n",
      "_________________________________________________________________\n",
      "conv2d_2 (Conv2D)            (None, 32, 32, 32)        9248      \n",
      "_________________________________________________________________\n",
      "activation_2 (Activation)    (None, 32, 32, 32)        0         \n",
      "_________________________________________________________________\n",
      "batch_normalization_2 (Batch (None, 32, 32, 32)        128       \n",
      "_________________________________________________________________\n",
      "max_pooling2d_1 (MaxPooling2 (None, 16, 16, 32)        0         \n",
      "_________________________________________________________________\n",
      "dropout_1 (Dropout)          (None, 16, 16, 32)        0         \n",
      "_________________________________________________________________\n",
      "conv2d_3 (Conv2D)            (None, 16, 16, 64)        18496     \n",
      "_________________________________________________________________\n",
      "activation_3 (Activation)    (None, 16, 16, 64)        0         \n",
      "_________________________________________________________________\n",
      "batch_normalization_3 (Batch (None, 16, 16, 64)        256       \n",
      "_________________________________________________________________\n",
      "conv2d_4 (Conv2D)            (None, 16, 16, 64)        36928     \n",
      "_________________________________________________________________\n",
      "activation_4 (Activation)    (None, 16, 16, 64)        0         \n",
      "_________________________________________________________________\n",
      "batch_normalization_4 (Batch (None, 16, 16, 64)        256       \n",
      "_________________________________________________________________\n",
      "max_pooling2d_2 (MaxPooling2 (None, 8, 8, 64)          0         \n",
      "_________________________________________________________________\n",
      "dropout_2 (Dropout)          (None, 8, 8, 64)          0         \n",
      "_________________________________________________________________\n",
      "conv2d_5 (Conv2D)            (None, 8, 8, 128)         73856     \n",
      "_________________________________________________________________\n",
      "activation_5 (Activation)    (None, 8, 8, 128)         0         \n",
      "_________________________________________________________________\n",
      "batch_normalization_5 (Batch (None, 8, 8, 128)         512       \n",
      "_________________________________________________________________\n",
      "conv2d_6 (Conv2D)            (None, 8, 8, 128)         147584    \n",
      "_________________________________________________________________\n",
      "activation_6 (Activation)    (None, 8, 8, 128)         0         \n",
      "_________________________________________________________________\n",
      "batch_normalization_6 (Batch (None, 8, 8, 128)         512       \n",
      "_________________________________________________________________\n",
      "max_pooling2d_3 (MaxPooling2 (None, 4, 4, 128)         0         \n",
      "_________________________________________________________________\n",
      "dropout_3 (Dropout)          (None, 4, 4, 128)         0         \n",
      "_________________________________________________________________\n",
      "flatten_1 (Flatten)          (None, 2048)              0         \n",
      "_________________________________________________________________\n",
      "dense_1 (Dense)              (None, 10)                20490     \n",
      "=================================================================\n",
      "Total params: 309,290\n",
      "Trainable params: 308,394\n",
      "Non-trainable params: 896\n",
      "_________________________________________________________________\n"
     ]
    }
   ],
   "source": [
    "baseMapNum = 32\n",
    "weight_decay = 1e-4\n",
    "\n",
    "act, act_name = activations[3], names[3]\n",
    "print(act_name)\n",
    "\n",
    "\n",
    "model = Sequential()\n",
    "model.add(Conv2D(baseMapNum, (3,3), padding='same', kernel_regularizer=regularizers.l2(weight_decay), input_shape=x_train.shape[1:]))\n",
    "model.add(Activation(act))\n",
    "model.add(BatchNormalization())\n",
    "model.add(Conv2D(baseMapNum, (3,3), padding='same', kernel_regularizer=regularizers.l2(weight_decay)))\n",
    "model.add(Activation(act))\n",
    "model.add(BatchNormalization())\n",
    "model.add(MaxPooling2D(pool_size=(2,2)))\n",
    "model.add(Dropout(0.2))\n",
    "\n",
    "model.add(Conv2D(2*baseMapNum, (3,3), padding='same', kernel_regularizer=regularizers.l2(weight_decay)))\n",
    "model.add(Activation(act))\n",
    "model.add(BatchNormalization())\n",
    "model.add(Conv2D(2*baseMapNum, (3,3), padding='same', kernel_regularizer=regularizers.l2(weight_decay)))\n",
    "model.add(Activation(act))\n",
    "model.add(BatchNormalization())\n",
    "model.add(MaxPooling2D(pool_size=(2,2)))\n",
    "model.add(Dropout(0.3))\n",
    "\n",
    "model.add(Conv2D(4*baseMapNum, (3,3), padding='same', kernel_regularizer=regularizers.l2(weight_decay)))\n",
    "model.add(Activation(act))\n",
    "model.add(BatchNormalization())\n",
    "model.add(Conv2D(4*baseMapNum, (3,3), padding='same', kernel_regularizer=regularizers.l2(weight_decay)))\n",
    "model.add(Activation(act))\n",
    "model.add(BatchNormalization())\n",
    "model.add(MaxPooling2D(pool_size=(2,2)))\n",
    "model.add(Dropout(0.4))\n",
    "\n",
    "model.add(Flatten())\n",
    "model.add(Dense(num_classes, activation='softmax'))\n",
    "\n",
    "model.summary()"
   ]
  },
  {
   "cell_type": "code",
   "execution_count": 3,
   "metadata": {
    "collapsed": true
   },
   "outputs": [],
   "source": [
    "#data augmentation\n",
    "datagen = ImageDataGenerator(\n",
    "    featurewise_center=False,\n",
    "    samplewise_center=False,\n",
    "    featurewise_std_normalization=False,\n",
    "    samplewise_std_normalization=False,\n",
    "    zca_whitening=False,\n",
    "    rotation_range=15,\n",
    "    width_shift_range=0.1,\n",
    "    height_shift_range=0.1,\n",
    "    horizontal_flip=True,\n",
    "    vertical_flip=False\n",
    "    )\n",
    "datagen.fit(x_train)"
   ]
  },
  {
   "cell_type": "code",
   "execution_count": 6,
   "metadata": {
    "scrolled": false
   },
   "outputs": [
    {
     "name": "stdout",
     "output_type": "stream",
     "text": [
      "Epoch 1/75\n",
      "390/390 [==============================] - 148s - loss: 1.9521 - acc: 0.4123 - val_loss: 1.4238 - val_acc: 0.5036\n",
      "Epoch 2/75\n",
      "390/390 [==============================] - 143s - loss: 1.3625 - acc: 0.5678 - val_loss: 1.1092 - val_acc: 0.6505\n",
      "Epoch 3/75\n",
      "390/390 [==============================] - 143s - loss: 1.2461 - acc: 0.6244 - val_loss: 1.3889 - val_acc: 0.6417\n",
      "Epoch 4/75\n",
      "390/390 [==============================] - 142s - loss: 1.1942 - acc: 0.6501 - val_loss: 0.9129 - val_acc: 0.7195\n",
      "Epoch 5/75\n",
      "390/390 [==============================] - 142s - loss: 1.1308 - acc: 0.6699 - val_loss: 0.9396 - val_acc: 0.7028\n",
      "Epoch 6/75\n",
      "390/390 [==============================] - 143s - loss: 1.1085 - acc: 0.6817 - val_loss: 0.7849 - val_acc: 0.7551\n",
      "Epoch 7/75\n",
      "390/390 [==============================] - 143s - loss: 1.0347 - acc: 0.7017 - val_loss: 0.7559 - val_acc: 0.7657\n",
      "Epoch 8/75\n",
      "390/390 [==============================] - 143s - loss: 1.0564 - acc: 0.7066 - val_loss: 0.7671 - val_acc: 0.7661\n",
      "Epoch 9/75\n",
      "390/390 [==============================] - 142s - loss: 1.0277 - acc: 0.7125 - val_loss: 0.7859 - val_acc: 0.7666\n",
      "Epoch 10/75\n",
      "390/390 [==============================] - 142s - loss: 0.9700 - acc: 0.7316 - val_loss: 0.9968 - val_acc: 0.7513\n",
      "Epoch 11/75\n",
      "390/390 [==============================] - 142s - loss: 0.9995 - acc: 0.7278 - val_loss: 0.8029 - val_acc: 0.7697\n",
      "Epoch 12/75\n",
      "390/390 [==============================] - 142s - loss: 0.9951 - acc: 0.7345 - val_loss: 0.7205 - val_acc: 0.7890\n",
      "Epoch 13/75\n",
      "390/390 [==============================] - 143s - loss: 0.9526 - acc: 0.7436 - val_loss: 0.7169 - val_acc: 0.7938\n",
      "Epoch 14/75\n",
      "390/390 [==============================] - 143s - loss: 0.9107 - acc: 0.7460 - val_loss: 0.6902 - val_acc: 0.8117\n",
      "Epoch 15/75\n",
      "390/390 [==============================] - 143s - loss: 0.9000 - acc: 0.7551 - val_loss: 0.6723 - val_acc: 0.8071\n",
      "Epoch 16/75\n",
      "390/390 [==============================] - 143s - loss: 0.8802 - acc: 0.7587 - val_loss: 0.6849 - val_acc: 0.8040\n",
      "Epoch 17/75\n",
      "390/390 [==============================] - 143s - loss: 0.8460 - acc: 0.7664 - val_loss: 0.6437 - val_acc: 0.8184\n",
      "Epoch 18/75\n",
      "390/390 [==============================] - 143s - loss: 0.8419 - acc: 0.7680 - val_loss: 0.6515 - val_acc: 0.8164\n",
      "Epoch 19/75\n",
      "390/390 [==============================] - 143s - loss: 0.8216 - acc: 0.7739 - val_loss: 0.7354 - val_acc: 0.8172\n",
      "Epoch 20/75\n",
      "390/390 [==============================] - 142s - loss: 0.8059 - acc: 0.7777 - val_loss: 0.7064 - val_acc: 0.8201\n",
      "Epoch 21/75\n",
      "390/390 [==============================] - 142s - loss: 0.8179 - acc: 0.7798 - val_loss: 0.7115 - val_acc: 0.8235\n",
      "Epoch 22/75\n",
      "390/390 [==============================] - 142s - loss: 0.7968 - acc: 0.7796 - val_loss: 0.6032 - val_acc: 0.8333\n",
      "Epoch 23/75\n",
      "390/390 [==============================] - 142s - loss: 0.7858 - acc: 0.7839 - val_loss: 0.6272 - val_acc: 0.8309\n",
      "Epoch 24/75\n",
      "390/390 [==============================] - 143s - loss: 0.7652 - acc: 0.7894 - val_loss: 0.5912 - val_acc: 0.8414\n",
      "Epoch 25/75\n",
      "390/390 [==============================] - 143s - loss: 0.7762 - acc: 0.7881 - val_loss: 0.6093 - val_acc: 0.8380\n",
      "Epoch 26/75\n",
      "390/390 [==============================] - 142s - loss: 0.7607 - acc: 0.7929 - val_loss: 0.6111 - val_acc: 0.8383\n",
      "Epoch 27/75\n",
      "390/390 [==============================] - 142s - loss: 0.7541 - acc: 0.7957 - val_loss: 0.6115 - val_acc: 0.8330\n",
      "Epoch 28/75\n",
      "390/390 [==============================] - 143s - loss: 0.7522 - acc: 0.7992 - val_loss: 0.6798 - val_acc: 0.8208\n",
      "Epoch 29/75\n",
      "390/390 [==============================] - 142s - loss: 0.7514 - acc: 0.8009 - val_loss: 0.6305 - val_acc: 0.8325\n",
      "Epoch 30/75\n",
      "390/390 [==============================] - 142s - loss: 0.7426 - acc: 0.8016 - val_loss: 0.5912 - val_acc: 0.8429\n",
      "Epoch 31/75\n",
      "390/390 [==============================] - 143s - loss: 0.7338 - acc: 0.8050 - val_loss: 0.5912 - val_acc: 0.8405\n",
      "Epoch 32/75\n",
      "390/390 [==============================] - 143s - loss: 0.7433 - acc: 0.8011 - val_loss: 0.6487 - val_acc: 0.8316\n",
      "Epoch 33/75\n",
      "390/390 [==============================] - 143s - loss: 0.7389 - acc: 0.8044 - val_loss: 0.5935 - val_acc: 0.8419\n",
      "Epoch 34/75\n",
      "390/390 [==============================] - 143s - loss: 0.7348 - acc: 0.8057 - val_loss: 0.5970 - val_acc: 0.8402\n",
      "Epoch 35/75\n",
      "390/390 [==============================] - 143s - loss: 0.7294 - acc: 0.8067 - val_loss: 0.5863 - val_acc: 0.8458\n",
      "Epoch 36/75\n",
      "390/390 [==============================] - 143s - loss: 0.7246 - acc: 0.8109 - val_loss: 0.5980 - val_acc: 0.8425\n",
      "Epoch 37/75\n",
      "390/390 [==============================] - 142s - loss: 0.7236 - acc: 0.8089 - val_loss: 0.5787 - val_acc: 0.8491\n",
      "Epoch 38/75\n",
      "390/390 [==============================] - 143s - loss: 0.7328 - acc: 0.8102 - val_loss: 0.6236 - val_acc: 0.8339\n",
      "Epoch 39/75\n",
      "390/390 [==============================] - 142s - loss: 0.7211 - acc: 0.8109 - val_loss: 0.6070 - val_acc: 0.8568\n",
      "Epoch 40/75\n",
      "390/390 [==============================] - 143s - loss: 0.7143 - acc: 0.8115 - val_loss: 0.6032 - val_acc: 0.8511\n",
      "Epoch 41/75\n",
      "390/390 [==============================] - 143s - loss: 0.7099 - acc: 0.8138 - val_loss: 0.5973 - val_acc: 0.8505\n",
      "Epoch 42/75\n",
      "390/390 [==============================] - 143s - loss: 0.7106 - acc: 0.8113 - val_loss: 0.5849 - val_acc: 0.8484\n",
      "Epoch 43/75\n",
      "390/390 [==============================] - 143s - loss: 0.7061 - acc: 0.8141 - val_loss: 0.5824 - val_acc: 0.8493\n",
      "Epoch 44/75\n",
      "390/390 [==============================] - 143s - loss: 0.6891 - acc: 0.8190 - val_loss: 0.5996 - val_acc: 0.8448\n",
      "Epoch 45/75\n",
      "390/390 [==============================] - 143s - loss: 0.6951 - acc: 0.8176 - val_loss: 0.5603 - val_acc: 0.8554\n",
      "Epoch 46/75\n",
      "390/390 [==============================] - 143s - loss: 0.6806 - acc: 0.8208 - val_loss: 0.5862 - val_acc: 0.8505\n",
      "Epoch 47/75\n",
      "390/390 [==============================] - 142s - loss: 0.6919 - acc: 0.8195 - val_loss: 0.5723 - val_acc: 0.8539\n",
      "Epoch 48/75\n",
      "390/390 [==============================] - 142s - loss: 0.6825 - acc: 0.8237 - val_loss: 0.5648 - val_acc: 0.8525\n",
      "Epoch 49/75\n",
      "390/390 [==============================] - 142s - loss: 0.6806 - acc: 0.8242 - val_loss: 0.5574 - val_acc: 0.8599\n",
      "Epoch 50/75\n",
      "390/390 [==============================] - 143s - loss: 0.6858 - acc: 0.8214 - val_loss: 0.5951 - val_acc: 0.8490\n",
      "Epoch 51/75\n",
      "390/390 [==============================] - 142s - loss: 0.6773 - acc: 0.8240 - val_loss: 0.5494 - val_acc: 0.8601\n",
      "Epoch 52/75\n",
      "390/390 [==============================] - 142s - loss: 0.6793 - acc: 0.8263 - val_loss: 0.5668 - val_acc: 0.8553\n",
      "Epoch 53/75\n",
      "390/390 [==============================] - 143s - loss: 0.6633 - acc: 0.8269 - val_loss: 0.5589 - val_acc: 0.8593\n",
      "Epoch 54/75\n",
      "390/390 [==============================] - 143s - loss: 0.6594 - acc: 0.8279 - val_loss: 0.5570 - val_acc: 0.8608\n",
      "Epoch 55/75\n",
      "390/390 [==============================] - 142s - loss: 0.6778 - acc: 0.8246 - val_loss: 0.5465 - val_acc: 0.8635\n",
      "Epoch 56/75\n",
      "390/390 [==============================] - 142s - loss: 0.6679 - acc: 0.8272 - val_loss: 0.5319 - val_acc: 0.8651\n",
      "Epoch 57/75\n",
      "390/390 [==============================] - 142s - loss: 0.6636 - acc: 0.8269 - val_loss: 0.5896 - val_acc: 0.8507\n",
      "Epoch 58/75\n",
      "390/390 [==============================] - 142s - loss: 0.6676 - acc: 0.8302 - val_loss: 0.5467 - val_acc: 0.8637\n",
      "Epoch 59/75\n",
      "390/390 [==============================] - 142s - loss: 0.6571 - acc: 0.8295 - val_loss: 0.5495 - val_acc: 0.8615\n",
      "Epoch 60/75\n",
      "390/390 [==============================] - 142s - loss: 0.6517 - acc: 0.8312 - val_loss: 0.5565 - val_acc: 0.8610\n",
      "Epoch 61/75\n",
      "390/390 [==============================] - 142s - loss: 0.6493 - acc: 0.8331 - val_loss: 0.5657 - val_acc: 0.8596\n",
      "Epoch 62/75\n",
      "390/390 [==============================] - 142s - loss: 0.6601 - acc: 0.8292 - val_loss: 0.5391 - val_acc: 0.8673\n",
      "Epoch 63/75\n",
      "390/390 [==============================] - 143s - loss: 0.6551 - acc: 0.8311 - val_loss: 0.5511 - val_acc: 0.8637\n",
      "Epoch 64/75\n",
      "390/390 [==============================] - 143s - loss: 0.6448 - acc: 0.8323 - val_loss: 0.5523 - val_acc: 0.8606\n",
      "Epoch 65/75\n",
      "390/390 [==============================] - 142s - loss: 0.6403 - acc: 0.8340 - val_loss: 0.5443 - val_acc: 0.8687\n",
      "Epoch 66/75\n"
     ]
    },
    {
     "name": "stdout",
     "output_type": "stream",
     "text": [
      "390/390 [==============================] - 142s - loss: 0.6409 - acc: 0.8338 - val_loss: 0.5420 - val_acc: 0.8654\n",
      "Epoch 67/75\n",
      "390/390 [==============================] - 142s - loss: 0.6370 - acc: 0.8370 - val_loss: 0.5516 - val_acc: 0.8673\n",
      "Epoch 68/75\n",
      "390/390 [==============================] - 143s - loss: 0.6430 - acc: 0.8338 - val_loss: 0.5433 - val_acc: 0.8667\n",
      "Epoch 69/75\n",
      "390/390 [==============================] - 142s - loss: 0.6279 - acc: 0.8385 - val_loss: 0.5544 - val_acc: 0.8691\n",
      "Epoch 70/75\n",
      "390/390 [==============================] - 142s - loss: 0.6452 - acc: 0.8353 - val_loss: 0.5369 - val_acc: 0.8657\n",
      "Epoch 71/75\n",
      "390/390 [==============================] - 143s - loss: 0.6315 - acc: 0.8380 - val_loss: 0.5711 - val_acc: 0.8565\n",
      "Epoch 72/75\n",
      "390/390 [==============================] - 142s - loss: 0.6306 - acc: 0.8386 - val_loss: 0.5519 - val_acc: 0.8592\n",
      "Epoch 73/75\n",
      "390/390 [==============================] - 142s - loss: 0.6337 - acc: 0.8370 - val_loss: 0.5468 - val_acc: 0.8642\n",
      "Epoch 74/75\n",
      "390/390 [==============================] - 142s - loss: 0.6251 - acc: 0.8373 - val_loss: 0.5502 - val_acc: 0.8620\n",
      "Epoch 75/75\n",
      "390/390 [==============================] - 142s - loss: 0.6337 - acc: 0.8361 - val_loss: 0.5276 - val_acc: 0.8699\n"
     ]
    }
   ],
   "source": [
    "#training\n",
    "batch_size = 128\n",
    "epochs=25\n",
    "opt_rms = keras.optimizers.rmsprop(lr=0.001,decay=1e-6)\n",
    "model.compile(loss='categorical_crossentropy',\n",
    "        optimizer=opt_rms,\n",
    "        metrics=['accuracy'])\n",
    "model.fit_generator(datagen.flow(x_train, y_train, batch_size=batch_size),steps_per_epoch=x_train.shape[0] // batch_size,epochs=3*epochs,verbose=1,validation_data=(x_test,y_test))\n",
    "model.save_weights('cifar10_normal_rms_ep75'+act_name+'.h5')"
   ]
  },
  {
   "cell_type": "code",
   "execution_count": 7,
   "metadata": {},
   "outputs": [
    {
     "name": "stdout",
     "output_type": "stream",
     "text": [
      "Epoch 1/25\n",
      "390/390 [==============================] - 145s - loss: 0.5859 - acc: 0.8509 - val_loss: 0.4887 - val_acc: 0.8847\n",
      "Epoch 2/25\n",
      "390/390 [==============================] - 145s - loss: 0.5720 - acc: 0.8523 - val_loss: 0.4691 - val_acc: 0.8867\n",
      "Epoch 3/25\n",
      "390/390 [==============================] - 142s - loss: 0.5620 - acc: 0.8577 - val_loss: 0.4926 - val_acc: 0.8810\n",
      "Epoch 4/25\n",
      "390/390 [==============================] - 142s - loss: 0.5546 - acc: 0.8589 - val_loss: 0.4842 - val_acc: 0.8850\n",
      "Epoch 5/25\n",
      "390/390 [==============================] - 142s - loss: 0.5574 - acc: 0.8584 - val_loss: 0.4627 - val_acc: 0.8910\n",
      "Epoch 6/25\n",
      "390/390 [==============================] - 142s - loss: 0.5548 - acc: 0.8590 - val_loss: 0.4836 - val_acc: 0.8837\n",
      "Epoch 7/25\n",
      "390/390 [==============================] - 142s - loss: 0.5452 - acc: 0.8579 - val_loss: 0.4590 - val_acc: 0.8911\n",
      "Epoch 8/25\n",
      "390/390 [==============================] - 142s - loss: 0.5433 - acc: 0.8595 - val_loss: 0.4612 - val_acc: 0.8892\n",
      "Epoch 9/25\n",
      "390/390 [==============================] - 142s - loss: 0.5386 - acc: 0.8602 - val_loss: 0.4606 - val_acc: 0.8901\n",
      "Epoch 10/25\n",
      "390/390 [==============================] - 144s - loss: 0.5367 - acc: 0.8619 - val_loss: 0.4718 - val_acc: 0.8870\n",
      "Epoch 11/25\n",
      "390/390 [==============================] - 148s - loss: 0.5280 - acc: 0.8634 - val_loss: 0.4740 - val_acc: 0.8863\n",
      "Epoch 12/25\n",
      "390/390 [==============================] - 142s - loss: 0.5329 - acc: 0.8625 - val_loss: 0.4583 - val_acc: 0.8881\n",
      "Epoch 13/25\n",
      "390/390 [==============================] - 143s - loss: 0.5313 - acc: 0.8622 - val_loss: 0.4539 - val_acc: 0.8898\n",
      "Epoch 14/25\n",
      "390/390 [==============================] - 143s - loss: 0.5241 - acc: 0.8651 - val_loss: 0.4400 - val_acc: 0.8934\n",
      "Epoch 15/25\n",
      "390/390 [==============================] - 143s - loss: 0.5223 - acc: 0.8635 - val_loss: 0.4689 - val_acc: 0.8853\n",
      "Epoch 16/25\n",
      "390/390 [==============================] - 142s - loss: 0.5282 - acc: 0.8642 - val_loss: 0.4528 - val_acc: 0.8874\n",
      "Epoch 17/25\n",
      "390/390 [==============================] - 142s - loss: 0.5226 - acc: 0.8639 - val_loss: 0.4462 - val_acc: 0.8904\n",
      "Epoch 18/25\n",
      "390/390 [==============================] - 142s - loss: 0.5182 - acc: 0.8655 - val_loss: 0.4588 - val_acc: 0.8837\n",
      "Epoch 19/25\n",
      "390/390 [==============================] - 149s - loss: 0.5132 - acc: 0.8656 - val_loss: 0.4469 - val_acc: 0.8897\n",
      "Epoch 20/25\n",
      "390/390 [==============================] - 143s - loss: 0.5131 - acc: 0.8660 - val_loss: 0.4555 - val_acc: 0.8887\n",
      "Epoch 21/25\n",
      "390/390 [==============================] - 143s - loss: 0.5134 - acc: 0.8639 - val_loss: 0.4332 - val_acc: 0.8906\n",
      "Epoch 22/25\n",
      "390/390 [==============================] - 143s - loss: 0.5100 - acc: 0.8657 - val_loss: 0.4460 - val_acc: 0.8880\n",
      "Epoch 23/25\n",
      "390/390 [==============================] - 142s - loss: 0.5127 - acc: 0.8647 - val_loss: 0.4451 - val_acc: 0.8883\n",
      "Epoch 24/25\n",
      "390/390 [==============================] - 142s - loss: 0.5084 - acc: 0.8665 - val_loss: 0.4667 - val_acc: 0.8863\n",
      "Epoch 25/25\n",
      "390/390 [==============================] - 142s - loss: 0.5090 - acc: 0.8660 - val_loss: 0.4381 - val_acc: 0.8889\n"
     ]
    }
   ],
   "source": [
    "opt_rms = keras.optimizers.rmsprop(lr=0.0005,decay=1e-6)\n",
    "model.compile(loss='categorical_crossentropy',\n",
    "        optimizer=opt_rms,\n",
    "        metrics=['accuracy'])\n",
    "model.fit_generator(datagen.flow(x_train, y_train, batch_size=batch_size),steps_per_epoch=x_train.shape[0] // batch_size,epochs=epochs,verbose=1,validation_data=(x_test,y_test))\n",
    "model.save_weights('cifar10_normal_rms_ep100'+act_name+'.h5')"
   ]
  },
  {
   "cell_type": "code",
   "execution_count": 8,
   "metadata": {},
   "outputs": [
    {
     "name": "stdout",
     "output_type": "stream",
     "text": [
      "Epoch 1/25\n",
      "390/390 [==============================] - 143s - loss: 0.4817 - acc: 0.8753 - val_loss: 0.4213 - val_acc: 0.8949\n",
      "Epoch 2/25\n",
      "390/390 [==============================] - 142s - loss: 0.4748 - acc: 0.8758 - val_loss: 0.4332 - val_acc: 0.8945\n",
      "Epoch 3/25\n",
      "390/390 [==============================] - 143s - loss: 0.4674 - acc: 0.8776 - val_loss: 0.4215 - val_acc: 0.8944\n",
      "Epoch 4/25\n",
      "390/390 [==============================] - 154s - loss: 0.4725 - acc: 0.8770 - val_loss: 0.4211 - val_acc: 0.8950\n",
      "Epoch 5/25\n",
      "390/390 [==============================] - 148s - loss: 0.4647 - acc: 0.8782 - val_loss: 0.4157 - val_acc: 0.8954\n",
      "Epoch 6/25\n",
      "390/390 [==============================] - 143s - loss: 0.4689 - acc: 0.8768 - val_loss: 0.4240 - val_acc: 0.8955\n",
      "Epoch 7/25\n",
      "390/390 [==============================] - 143s - loss: 0.4647 - acc: 0.8786 - val_loss: 0.4261 - val_acc: 0.8942\n",
      "Epoch 8/25\n",
      "390/390 [==============================] - 142s - loss: 0.4605 - acc: 0.8774 - val_loss: 0.4337 - val_acc: 0.8908\n",
      "Epoch 9/25\n",
      "390/390 [==============================] - 144s - loss: 0.4554 - acc: 0.8802 - val_loss: 0.4194 - val_acc: 0.8952\n",
      "Epoch 10/25\n",
      "390/390 [==============================] - 145s - loss: 0.4592 - acc: 0.8795 - val_loss: 0.4107 - val_acc: 0.8988\n",
      "Epoch 11/25\n",
      "390/390 [==============================] - 143s - loss: 0.4575 - acc: 0.8794 - val_loss: 0.4140 - val_acc: 0.8944\n",
      "Epoch 12/25\n",
      "390/390 [==============================] - 143s - loss: 0.4546 - acc: 0.8795 - val_loss: 0.4214 - val_acc: 0.8977\n",
      "Epoch 13/25\n",
      "390/390 [==============================] - 143s - loss: 0.4522 - acc: 0.8817 - val_loss: 0.4247 - val_acc: 0.8954\n",
      "Epoch 14/25\n",
      "390/390 [==============================] - 143s - loss: 0.4473 - acc: 0.8824 - val_loss: 0.4181 - val_acc: 0.8986\n",
      "Epoch 15/25\n",
      "390/390 [==============================] - 142s - loss: 0.4516 - acc: 0.8789 - val_loss: 0.4059 - val_acc: 0.8982\n",
      "Epoch 16/25\n",
      "390/390 [==============================] - 142s - loss: 0.4443 - acc: 0.8829 - val_loss: 0.4131 - val_acc: 0.8979\n",
      "Epoch 17/25\n",
      "390/390 [==============================] - 142s - loss: 0.4471 - acc: 0.8806 - val_loss: 0.4150 - val_acc: 0.8968\n",
      "Epoch 18/25\n",
      "390/390 [==============================] - 142s - loss: 0.4432 - acc: 0.8826 - val_loss: 0.4152 - val_acc: 0.8967\n",
      "Epoch 19/25\n",
      "390/390 [==============================] - 155s - loss: 0.4423 - acc: 0.8830 - val_loss: 0.4086 - val_acc: 0.8959\n",
      "Epoch 20/25\n",
      "390/390 [==============================] - 142s - loss: 0.4446 - acc: 0.8799 - val_loss: 0.4220 - val_acc: 0.8930\n",
      "Epoch 21/25\n",
      "390/390 [==============================] - 144s - loss: 0.4460 - acc: 0.8795 - val_loss: 0.4125 - val_acc: 0.8950\n",
      "Epoch 22/25\n",
      "390/390 [==============================] - 159s - loss: 0.4436 - acc: 0.8813 - val_loss: 0.3983 - val_acc: 0.8989\n",
      "Epoch 23/25\n",
      "390/390 [==============================] - 607s - loss: 0.4377 - acc: 0.8820 - val_loss: 0.4063 - val_acc: 0.8999\n",
      "Epoch 24/25\n",
      "390/390 [==============================] - 609s - loss: 0.4409 - acc: 0.8823 - val_loss: 0.4059 - val_acc: 0.8963\n",
      "Epoch 25/25\n",
      "390/390 [==============================] - 359s - loss: 0.4304 - acc: 0.8842 - val_loss: 0.4022 - val_acc: 0.9012\n"
     ]
    }
   ],
   "source": [
    "opt_rms = keras.optimizers.rmsprop(lr=0.0003,decay=1e-6)\n",
    "model.compile(loss='categorical_crossentropy',\n",
    "        optimizer=opt_rms,\n",
    "        metrics=['accuracy'])\n",
    "model.fit_generator(datagen.flow(x_train, y_train, batch_size=batch_size),steps_per_epoch=x_train.shape[0] // batch_size,epochs=epochs,verbose=1,validation_data=(x_test,y_test))\n",
    "model.save_weights('cifar10_normal_rms_ep125'+act_name+'.h5')"
   ]
  },
  {
   "cell_type": "code",
   "execution_count": 9,
   "metadata": {},
   "outputs": [
    {
     "name": "stdout",
     "output_type": "stream",
     "text": [
      " 9984/10000 [============================>.] - ETA: 0s\n",
      "Test result: 90.120 loss: 0.402\n"
     ]
    }
   ],
   "source": [
    "#testing - no kaggle eval\n",
    "scores = model.evaluate(x_test, y_test, batch_size=128, verbose=1)\n",
    "print('\\nTest result: %.3f loss: %.3f' % (scores[1]*100,scores[0]))"
   ]
  },
  {
   "cell_type": "code",
   "execution_count": 4,
   "metadata": {
    "collapsed": true
   },
   "outputs": [],
   "source": [
    "baseMapNum = 32\n",
    "weight_decay = 1e-4\n",
    "\n",
    "model = Sequential()\n",
    "model.add(Conv2D(baseMapNum, (3,3), padding='same', kernel_regularizer=regularizers.l2(weight_decay), input_shape=x_train.shape[1:]))\n",
    "model.add(Activation(act))\n",
    "model.add(BatchNormalization())\n",
    "model.add(Conv2D(baseMapNum, (3,3), padding='same', kernel_regularizer=regularizers.l2(weight_decay)))\n",
    "model.add(Activation(act))\n",
    "model.add(BatchNormalization())\n",
    "model.add(MaxPooling2D(pool_size=(2,2)))\n",
    "model.add(Dropout(0.2))\n",
    "\n",
    "model.add(Conv2D(2*baseMapNum, (3,3), padding='same', kernel_regularizer=regularizers.l2(weight_decay)))\n",
    "model.add(Activation(act))\n",
    "model.add(BatchNormalization())\n",
    "model.add(Conv2D(2*baseMapNum, (3,3), padding='same', kernel_regularizer=regularizers.l2(weight_decay)))\n",
    "model.add(Activation(act))\n",
    "model.add(BatchNormalization())\n",
    "model.add(MaxPooling2D(pool_size=(2,2)))\n",
    "model.add(Dropout(0.3))\n",
    "\n",
    "model.add(Conv2D(4*baseMapNum, (3,3), padding='same', kernel_regularizer=regularizers.l2(weight_decay)))\n",
    "model.add(Activation(act))\n",
    "model.add(BatchNormalization())\n",
    "model.add(Conv2D(4*baseMapNum, (3,3), padding='same', kernel_regularizer=regularizers.l2(weight_decay)))\n",
    "model.add(Activation(act))\n",
    "model.add(BatchNormalization())\n",
    "model.add(MaxPooling2D(pool_size=(2,2)))\n",
    "model.add(Dropout(0.4))\n",
    "\n",
    "model.add(Flatten())\n",
    "model.add(Dense(num_classes, activation='softmax'))\n",
    "\n",
    "model.load_weights(\"models/cifar10_normal_rms_ep125relu.h5\")"
   ]
  },
  {
   "cell_type": "code",
   "execution_count": 5,
   "metadata": {
    "scrolled": false
   },
   "outputs": [
    {
     "name": "stdout",
     "output_type": "stream",
     "text": [
      "Epoch 1/25\n",
      "390/390 [==============================] - 146s - loss: 0.4297 - acc: 0.8862 - val_loss: 0.3948 - val_acc: 0.9031\n",
      "Epoch 2/25\n",
      "390/390 [==============================] - 143s - loss: 0.4185 - acc: 0.8904 - val_loss: 0.3927 - val_acc: 0.9020\n",
      "Epoch 3/25\n",
      "390/390 [==============================] - 143s - loss: 0.4128 - acc: 0.8912 - val_loss: 0.3882 - val_acc: 0.9030\n",
      "Epoch 4/25\n",
      "390/390 [==============================] - 143s - loss: 0.4185 - acc: 0.8885 - val_loss: 0.3931 - val_acc: 0.9027\n",
      "Epoch 5/25\n",
      "390/390 [==============================] - 143s - loss: 0.4164 - acc: 0.8912 - val_loss: 0.3895 - val_acc: 0.9031\n",
      "Epoch 6/25\n",
      "390/390 [==============================] - 143s - loss: 0.4121 - acc: 0.8900 - val_loss: 0.3906 - val_acc: 0.9027\n",
      "Epoch 7/25\n",
      "390/390 [==============================] - 143s - loss: 0.4106 - acc: 0.8925 - val_loss: 0.3937 - val_acc: 0.9028\n",
      "Epoch 8/25\n",
      "390/390 [==============================] - 143s - loss: 0.4066 - acc: 0.8931 - val_loss: 0.3902 - val_acc: 0.9025\n",
      "Epoch 9/25\n",
      "390/390 [==============================] - 143s - loss: 0.4143 - acc: 0.8885 - val_loss: 0.3846 - val_acc: 0.9050\n",
      "Epoch 10/25\n",
      "390/390 [==============================] - 143s - loss: 0.4062 - acc: 0.8927 - val_loss: 0.3855 - val_acc: 0.9050\n",
      "Epoch 11/25\n",
      "390/390 [==============================] - 143s - loss: 0.4113 - acc: 0.8883 - val_loss: 0.3867 - val_acc: 0.9045\n",
      "Epoch 12/25\n",
      "390/390 [==============================] - 143s - loss: 0.4072 - acc: 0.8903 - val_loss: 0.3903 - val_acc: 0.9047\n",
      "Epoch 13/25\n",
      "390/390 [==============================] - 142s - loss: 0.4059 - acc: 0.8931 - val_loss: 0.3875 - val_acc: 0.9022\n",
      "Epoch 14/25\n",
      "390/390 [==============================] - 142s - loss: 0.4024 - acc: 0.8917 - val_loss: 0.3882 - val_acc: 0.9010\n",
      "Epoch 15/25\n",
      "390/390 [==============================] - 142s - loss: 0.4055 - acc: 0.8923 - val_loss: 0.3843 - val_acc: 0.9036\n",
      "Epoch 16/25\n",
      "390/390 [==============================] - 142s - loss: 0.4030 - acc: 0.8926 - val_loss: 0.3843 - val_acc: 0.9028\n",
      "Epoch 17/25\n",
      "390/390 [==============================] - 142s - loss: 0.3993 - acc: 0.8932 - val_loss: 0.3832 - val_acc: 0.9034\n",
      "Epoch 18/25\n",
      "390/390 [==============================] - 142s - loss: 0.3957 - acc: 0.8939 - val_loss: 0.3884 - val_acc: 0.9044\n",
      "Epoch 19/25\n",
      "390/390 [==============================] - 142s - loss: 0.3893 - acc: 0.8961 - val_loss: 0.3762 - val_acc: 0.9068\n",
      "Epoch 20/25\n",
      "390/390 [==============================] - 142s - loss: 0.3914 - acc: 0.8958 - val_loss: 0.3801 - val_acc: 0.9052\n",
      "Epoch 21/25\n",
      "390/390 [==============================] - 142s - loss: 0.3971 - acc: 0.8940 - val_loss: 0.3854 - val_acc: 0.9042\n",
      "Epoch 22/25\n",
      "390/390 [==============================] - 142s - loss: 0.3950 - acc: 0.8938 - val_loss: 0.3837 - val_acc: 0.9026\n",
      "Epoch 23/25\n",
      "390/390 [==============================] - 142s - loss: 0.3948 - acc: 0.8948 - val_loss: 0.3791 - val_acc: 0.9040\n",
      "Epoch 24/25\n",
      "390/390 [==============================] - 142s - loss: 0.3894 - acc: 0.8936 - val_loss: 0.3741 - val_acc: 0.9048\n",
      "Epoch 25/25\n",
      "390/390 [==============================] - 143s - loss: 0.3912 - acc: 0.8950 - val_loss: 0.3804 - val_acc: 0.9066\n"
     ]
    }
   ],
   "source": [
    "# Continue for 25 epochs more\n",
    "batch_size = 128\n",
    "epochs=25\n",
    "\n",
    "opt_rms = keras.optimizers.rmsprop(lr=0.00015,decay=1e-6)\n",
    "model.compile(loss='categorical_crossentropy',\n",
    "        optimizer=opt_rms,\n",
    "        metrics=['accuracy'])\n",
    "his = model.fit_generator(datagen.flow(x_train, y_train, batch_size=batch_size),steps_per_epoch=x_train.shape[0] // batch_size,epochs=epochs,verbose=1,validation_data=(x_test,y_test))\n",
    "model.save_weights('cifar10_normal_rms_ep150'+act_name+'.h5')"
   ]
  },
  {
   "cell_type": "code",
   "execution_count": 7,
   "metadata": {},
   "outputs": [
    {
     "name": "stdout",
     "output_type": "stream",
     "text": [
      "{'val_acc': [0.90310000000000001, 0.90200000000000002, 0.90300000000000002, 0.90269999999999995, 0.90310000000000001, 0.90269999999999995, 0.90280000000000005, 0.90249999999999997, 0.90500000000000003, 0.90500000000000003, 0.90449999999999997, 0.90469999999999995, 0.9022, 0.90100000000000002, 0.90359999999999996, 0.90280000000000005, 0.90339999999999998, 0.90439999999999998, 0.90680000000000005, 0.9052, 0.9042, 0.90259999999999996, 0.90400000000000003, 0.90480000000000005, 0.90659999999999996], 'acc': [0.88621794871794868, 0.89033926848918532, 0.89118142448482818, 0.88847449466820361, 0.89122152709027758, 0.88995829319242559, 0.89250481231953804, 0.89304619826756493, 0.88853464873891863, 0.89268527428309119, 0.88825393009920095, 0.89029916584549096, 0.89310635226179014, 0.89170275906320184, 0.8923444016491483, 0.8925649662755184, 0.89320660889970982, 0.8938683028553096, 0.89605389799794821, 0.89579323067051653, 0.89402871348745439, 0.8937680461600227, 0.89483076674379058, 0.89362768685928629, 0.89497112612101681], 'val_loss': [0.3947992395401001, 0.39269926867485044, 0.38823446607589723, 0.39311710166931152, 0.38947563996315004, 0.39058800015449524, 0.39374840025901792, 0.39015047430992128, 0.38464100613594054, 0.38552197751998901, 0.38665112943649294, 0.39030851502418518, 0.38749768862724304, 0.38815176057815554, 0.38431846046447754, 0.38425315728187559, 0.38323334870338438, 0.38844756865501406, 0.37617416734695436, 0.38012900619506834, 0.3853927801132202, 0.38367394080162048, 0.37913676085472109, 0.37413051567077638, 0.38039466896057128], 'loss': [0.42968598665335239, 0.41858989868479202, 0.41278957725909798, 0.41856682304392118, 0.4164182689658793, 0.41209601449553385, 0.4104381299646076, 0.40670015451844627, 0.41421153287609153, 0.40612963211050696, 0.41137815108848452, 0.40717958795898113, 0.40584590299641204, 0.40239201214093984, 0.40544696855437956, 0.40302787152742553, 0.39926557041606653, 0.39569606439096638, 0.38932274828402325, 0.39148149509096436, 0.39709239547016301, 0.39500928275050512, 0.39480660896405295, 0.38942263011256206, 0.39112935418649708]}\n"
     ]
    }
   ],
   "source": [
    "print(his.history)"
   ]
  },
  {
   "cell_type": "code",
   "execution_count": 8,
   "metadata": {},
   "outputs": [
    {
     "name": "stdout",
     "output_type": "stream",
     "text": [
      "Epoch 1/25\n",
      "390/390 [==============================] - 144s - loss: 0.3835 - acc: 0.8977 - val_loss: 0.3778 - val_acc: 0.9064\n",
      "Epoch 2/25\n",
      "390/390 [==============================] - 143s - loss: 0.3854 - acc: 0.8969 - val_loss: 0.3731 - val_acc: 0.9087\n",
      "Epoch 3/25\n",
      "390/390 [==============================] - 143s - loss: 0.3776 - acc: 0.8985 - val_loss: 0.3724 - val_acc: 0.9079\n",
      "Epoch 4/25\n",
      "390/390 [==============================] - 143s - loss: 0.3797 - acc: 0.8977 - val_loss: 0.3732 - val_acc: 0.9087\n",
      "Epoch 5/25\n",
      "390/390 [==============================] - 143s - loss: 0.3753 - acc: 0.8998 - val_loss: 0.3745 - val_acc: 0.9081\n",
      "Epoch 6/25\n",
      "390/390 [==============================] - 143s - loss: 0.3741 - acc: 0.9004 - val_loss: 0.3737 - val_acc: 0.9072\n",
      "Epoch 7/25\n",
      "390/390 [==============================] - 143s - loss: 0.3769 - acc: 0.9004 - val_loss: 0.3710 - val_acc: 0.9071\n",
      "Epoch 8/25\n",
      "390/390 [==============================] - 143s - loss: 0.3798 - acc: 0.9002 - val_loss: 0.3718 - val_acc: 0.9095\n",
      "Epoch 9/25\n",
      "390/390 [==============================] - 143s - loss: 0.3748 - acc: 0.9005 - val_loss: 0.3718 - val_acc: 0.9092\n",
      "Epoch 10/25\n",
      "390/390 [==============================] - 142s - loss: 0.3742 - acc: 0.8991 - val_loss: 0.3747 - val_acc: 0.9069\n",
      "Epoch 11/25\n",
      "390/390 [==============================] - 142s - loss: 0.3761 - acc: 0.8994 - val_loss: 0.3745 - val_acc: 0.9079\n",
      "Epoch 12/25\n",
      "390/390 [==============================] - 142s - loss: 0.3722 - acc: 0.9020 - val_loss: 0.3703 - val_acc: 0.9086\n",
      "Epoch 13/25\n",
      "390/390 [==============================] - 142s - loss: 0.3731 - acc: 0.8999 - val_loss: 0.3749 - val_acc: 0.9079\n",
      "Epoch 14/25\n",
      "390/390 [==============================] - 143s - loss: 0.3769 - acc: 0.8986 - val_loss: 0.3705 - val_acc: 0.9083\n",
      "Epoch 15/25\n",
      "390/390 [==============================] - 143s - loss: 0.3739 - acc: 0.9006 - val_loss: 0.3726 - val_acc: 0.9080\n",
      "Epoch 16/25\n",
      "390/390 [==============================] - 144s - loss: 0.3718 - acc: 0.8995 - val_loss: 0.3706 - val_acc: 0.9066\n",
      "Epoch 17/25\n",
      "390/390 [==============================] - 143s - loss: 0.3722 - acc: 0.9005 - val_loss: 0.3702 - val_acc: 0.9077\n",
      "Epoch 18/25\n",
      "390/390 [==============================] - 143s - loss: 0.3735 - acc: 0.9006 - val_loss: 0.3677 - val_acc: 0.9095\n",
      "Epoch 19/25\n",
      "390/390 [==============================] - 143s - loss: 0.3679 - acc: 0.9024 - val_loss: 0.3701 - val_acc: 0.9085\n",
      "Epoch 20/25\n",
      "390/390 [==============================] - 143s - loss: 0.3680 - acc: 0.9016 - val_loss: 0.3695 - val_acc: 0.9073\n",
      "Epoch 21/25\n",
      "390/390 [==============================] - 143s - loss: 0.3723 - acc: 0.9008 - val_loss: 0.3762 - val_acc: 0.9080\n",
      "Epoch 22/25\n",
      "390/390 [==============================] - 143s - loss: 0.3693 - acc: 0.9009 - val_loss: 0.3726 - val_acc: 0.9100\n",
      "Epoch 23/25\n",
      "390/390 [==============================] - 143s - loss: 0.3726 - acc: 0.9009 - val_loss: 0.3669 - val_acc: 0.9092\n",
      "Epoch 24/25\n",
      "390/390 [==============================] - 143s - loss: 0.3654 - acc: 0.9017 - val_loss: 0.3680 - val_acc: 0.9067\n",
      "Epoch 25/25\n",
      "390/390 [==============================] - 143s - loss: 0.3676 - acc: 0.9021 - val_loss: 0.3686 - val_acc: 0.9088\n"
     ]
    }
   ],
   "source": [
    "# Continue for 25 epochs more\n",
    "batch_size = 128\n",
    "epochs=25\n",
    "\n",
    "opt_rms = keras.optimizers.rmsprop(lr=0.000075,decay=1e-6)\n",
    "model.compile(loss='categorical_crossentropy',\n",
    "        optimizer=opt_rms,\n",
    "        metrics=['accuracy'])\n",
    "his = model.fit_generator(datagen.flow(x_train, y_train, batch_size=batch_size),steps_per_epoch=x_train.shape[0] // batch_size,epochs=epochs,verbose=1,validation_data=(x_test,y_test))\n",
    "model.save_weights('cifar10_normal_rms_ep175'+act_name+'.h5')"
   ]
  },
  {
   "cell_type": "code",
   "execution_count": 9,
   "metadata": {},
   "outputs": [
    {
     "name": "stdout",
     "output_type": "stream",
     "text": [
      "{'val_acc': [0.90639999999999998, 0.90869999999999995, 0.90790000000000004, 0.90869999999999995, 0.90810000000000002, 0.90720000000000001, 0.90710000000000002, 0.90949999999999998, 0.90920000000000001, 0.90690000000000004, 0.90790000000000004, 0.90859999999999996, 0.90790000000000004, 0.9083, 0.90800000000000003, 0.90659999999999996, 0.90769999999999995, 0.90949999999999998, 0.90849999999999997, 0.9073, 0.90800000000000003, 0.91000000000000003, 0.90920000000000001, 0.90669999999999995, 0.90880000000000005], 'acc': [0.8977163461538461, 0.89693615652255076, 0.89848010906012044, 0.8976981071351926, 0.89970324027603321, 0.90034488293846948, 0.900364934231633, 0.90018447222983489, 0.90048524220096093, 0.89904154637780065, 0.89948267566878559, 0.90200914342624472, 0.89992380492152557, 0.89860041702944837, 0.90060555024677869, 0.89950272701931644, 0.90056544758396195, 0.90064565287135068, 0.90237006741071846, 0.90156801407789244, 0.90082611489227116, 0.90094642286159921, 0.90088626881000666, 0.9016682707349345, 0.90212945143381751], 'val_loss': [0.37781272039413455, 0.37310860857963563, 0.37241178817749021, 0.37322571964263918, 0.37445712871551512, 0.37371757249832155, 0.3710427281856537, 0.37184273023605346, 0.37184751152992246, 0.37471357445716857, 0.37447067608833312, 0.37033714470863344, 0.3749239544868469, 0.37045239200592039, 0.37264595680236817, 0.37064884061813352, 0.37021619663238525, 0.36773828887939453, 0.37010626578330996, 0.36950553631782534, 0.37619942326545713, 0.37258226642608644, 0.36691180839538573, 0.36800107393264769, 0.3686238067150116], 'loss': [0.38347722899455289, 0.38517490058974801, 0.37757701844330738, 0.37967880514328167, 0.37545718399423567, 0.37407430604860342, 0.37703364601799183, 0.37975217281988044, 0.37473960793052763, 0.37429184210120697, 0.37598661920142395, 0.37218487176674853, 0.37306190241710246, 0.37680178261124481, 0.37396550061880951, 0.37184106601825845, 0.37200584679717702, 0.37336972073786606, 0.36790292323075469, 0.36803113753534794, 0.37238609226690028, 0.36911458021790544, 0.37266215137040193, 0.36534844254277093, 0.36766263170428942]}\n"
     ]
    }
   ],
   "source": [
    "print(his.history)"
   ]
  },
  {
   "cell_type": "code",
   "execution_count": 10,
   "metadata": {},
   "outputs": [
    {
     "name": "stdout",
     "output_type": "stream",
     "text": [
      "Epoch 1/5\n",
      "390/390 [==============================] - 144s - loss: 0.3635 - acc: 0.9026 - val_loss: 0.3669 - val_acc: 0.9107\n",
      "Epoch 2/5\n",
      "390/390 [==============================] - 143s - loss: 0.3648 - acc: 0.9013 - val_loss: 0.3656 - val_acc: 0.9105\n",
      "Epoch 3/5\n",
      "390/390 [==============================] - 143s - loss: 0.3617 - acc: 0.9034 - val_loss: 0.3671 - val_acc: 0.9106\n",
      "Epoch 4/5\n",
      "390/390 [==============================] - 143s - loss: 0.3628 - acc: 0.9040 - val_loss: 0.3641 - val_acc: 0.9111\n",
      "Epoch 5/5\n",
      "390/390 [==============================] - 144s - loss: 0.3654 - acc: 0.9026 - val_loss: 0.3646 - val_acc: 0.9104\n"
     ]
    }
   ],
   "source": [
    "# Continue for 5 epochs more\n",
    "batch_size = 128\n",
    "epochs=25\n",
    "\n",
    "opt_rms = keras.optimizers.rmsprop(lr=0.000035,decay=1e-6)\n",
    "model.compile(loss='categorical_crossentropy',\n",
    "        optimizer=opt_rms,\n",
    "        metrics=['accuracy'])\n",
    "his = model.fit_generator(datagen.flow(x_train, y_train, batch_size=batch_size),steps_per_epoch=x_train.shape[0] // batch_size,epochs=epochs/5,verbose=1,validation_data=(x_test,y_test))\n",
    "model.save_weights('cifar10_normal_rms_ep180'+act_name+'.h5')"
   ]
  },
  {
   "cell_type": "code",
   "execution_count": 11,
   "metadata": {},
   "outputs": [
    {
     "name": "stdout",
     "output_type": "stream",
     "text": [
      "{'val_acc': [0.91069999999999995, 0.91049999999999998, 0.91059999999999997, 0.91110000000000002, 0.91039999999999999], 'acc': [0.90264423076923073, 0.9012672441067664, 0.90339268525517979, 0.9040142765862077, 0.90259063205621082], 'val_loss': [0.36693520574569705, 0.36561110734939573, 0.36710445284843446, 0.3641400626182556, 0.36457973694801332], 'loss': [0.36354731019490805, 0.36479970775508791, 0.3616125239157929, 0.36273352475284115, 0.36533849384488681]}\n"
     ]
    }
   ],
   "source": [
    "print(his.history)"
   ]
  },
  {
   "cell_type": "code",
   "execution_count": 12,
   "metadata": {},
   "outputs": [
    {
     "name": "stdout",
     "output_type": "stream",
     "text": [
      "Epoch 1/5\n",
      "390/390 [==============================] - 145s - loss: 0.3602 - acc: 0.9056 - val_loss: 0.3633 - val_acc: 0.9111\n",
      "Epoch 2/5\n",
      "390/390 [==============================] - 143s - loss: 0.3603 - acc: 0.9050 - val_loss: 0.3650 - val_acc: 0.9112\n",
      "Epoch 3/5\n",
      "390/390 [==============================] - 143s - loss: 0.3634 - acc: 0.9016 - val_loss: 0.3641 - val_acc: 0.9114\n",
      "Epoch 4/5\n",
      "390/390 [==============================] - 144s - loss: 0.3565 - acc: 0.9059 - val_loss: 0.3619 - val_acc: 0.9108\n",
      "Epoch 5/5\n",
      "390/390 [==============================] - 144s - loss: 0.3604 - acc: 0.9034 - val_loss: 0.3642 - val_acc: 0.9110\n"
     ]
    }
   ],
   "source": [
    "# Continue for 5 epochs more\n",
    "batch_size = 128\n",
    "epochs=25\n",
    "\n",
    "opt_rms = keras.optimizers.rmsprop(lr=0.000017,decay=1e-6)\n",
    "model.compile(loss='categorical_crossentropy',\n",
    "        optimizer=opt_rms,\n",
    "        metrics=['accuracy'])\n",
    "his = model.fit_generator(datagen.flow(x_train, y_train, batch_size=batch_size),steps_per_epoch=x_train.shape[0] // batch_size,epochs=epochs/5,verbose=1,validation_data=(x_test,y_test))\n",
    "model.save_weights('cifar10_normal_rms_ep185'+act_name+'.h5')"
   ]
  },
  {
   "cell_type": "code",
   "execution_count": 13,
   "metadata": {},
   "outputs": [
    {
     "name": "stdout",
     "output_type": "stream",
     "text": [
      "{'val_acc': [0.91110000000000002, 0.91120000000000001, 0.91139999999999999, 0.91080000000000005, 0.91100000000000003], 'acc': [0.90556891025641029, 0.90499679176785219, 0.90160811675983166, 0.90595925565633328, 0.90337263392377132], 'val_loss': [0.36325090560913087, 0.3649802083492279, 0.36405324535369871, 0.36188883452415466, 0.36420677628517151], 'loss': [0.36020834465057422, 0.36033351676831998, 0.36339769352503531, 0.35645840020374031, 0.3604654489245826]}\n"
     ]
    }
   ],
   "source": [
    "print(his.history)"
   ]
  },
  {
   "cell_type": "code",
   "execution_count": 14,
   "metadata": {},
   "outputs": [
    {
     "name": "stdout",
     "output_type": "stream",
     "text": [
      "Epoch 1/5\n",
      "390/390 [==============================] - 145s - loss: 0.3582 - acc: 0.9034 - val_loss: 0.3641 - val_acc: 0.9115\n",
      "Epoch 2/5\n",
      "390/390 [==============================] - 143s - loss: 0.3558 - acc: 0.9050 - val_loss: 0.3639 - val_acc: 0.9100\n",
      "Epoch 3/5\n",
      "390/390 [==============================] - 143s - loss: 0.3587 - acc: 0.9053 - val_loss: 0.3626 - val_acc: 0.9122\n",
      "Epoch 4/5\n",
      "390/390 [==============================] - 142s - loss: 0.3611 - acc: 0.9030 - val_loss: 0.3633 - val_acc: 0.9122\n",
      "Epoch 5/5\n",
      "390/390 [==============================] - 143s - loss: 0.3574 - acc: 0.9057 - val_loss: 0.3625 - val_acc: 0.9120\n"
     ]
    }
   ],
   "source": [
    "# Continue for 5 epochs more\n",
    "batch_size = 128\n",
    "epochs=25\n",
    "\n",
    "opt_rms = keras.optimizers.rmsprop(lr=0.000012,decay=1e-6)\n",
    "model.compile(loss='categorical_crossentropy',\n",
    "        optimizer=opt_rms,\n",
    "        metrics=['accuracy'])\n",
    "his = model.fit_generator(datagen.flow(x_train, y_train, batch_size=batch_size),steps_per_epoch=x_train.shape[0] // batch_size,epochs=epochs/5,verbose=1,validation_data=(x_test,y_test))\n",
    "model.save_weights('cifar10_normal_rms_ep190'+act_name+'.h5')"
   ]
  },
  {
   "cell_type": "code",
   "execution_count": 15,
   "metadata": {},
   "outputs": [
    {
     "name": "stdout",
     "output_type": "stream",
     "text": [
      "{'val_acc': [0.91149999999999998, 0.91000000000000003, 0.91220000000000001, 0.91220000000000001, 0.91200000000000003], 'acc': [0.90342548076923079, 0.90503689446891389, 0.90525745911440636, 0.90307186399089012, 0.90575874238049403], 'val_loss': [0.36410191831588745, 0.36391601028442383, 0.36261468706130984, 0.36325166683197019, 0.36246949920654298], 'loss': [0.35817433095131163, 0.35578855486837074, 0.35871736513600733, 0.3609324035294208, 0.35735944506255413]}\n"
     ]
    }
   ],
   "source": [
    "print(his.history)"
   ]
  },
  {
   "cell_type": "code",
   "execution_count": null,
   "metadata": {
    "collapsed": true
   },
   "outputs": [],
   "source": []
  }
 ],
 "metadata": {
  "kernelspec": {
   "display_name": "Python 3",
   "language": "python",
   "name": "python3"
  },
  "language_info": {
   "codemirror_mode": {
    "name": "ipython",
    "version": 3
   },
   "file_extension": ".py",
   "mimetype": "text/x-python",
   "name": "python",
   "nbconvert_exporter": "python",
   "pygments_lexer": "ipython3",
   "version": "3.5.3"
  }
 },
 "nbformat": 4,
 "nbformat_minor": 2
}
