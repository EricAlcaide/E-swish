{
 "cells": [
  {
   "cell_type": "code",
   "execution_count": 1,
   "metadata": {},
   "outputs": [
    {
     "name": "stderr",
     "output_type": "stream",
     "text": [
      "Using TensorFlow backend.\n"
     ]
    }
   ],
   "source": [
    "\"\"\" Resuming training for modified ELU Network\n",
    "    with added BatchNorm from elu_network_cifar10.ipynb\n",
    "    from the same directory. Look at the end of the\n",
    "    above mentioned notebook to see transference from\n",
    "    non-batchNorm to BatchNorm.\n",
    "\"\"\"\n",
    "import keras\n",
    "import keras.backend as K\n",
    "from keras.models import Sequential\n",
    "from keras.utils import np_utils\n",
    "from keras.preprocessing.image import ImageDataGenerator\n",
    "from keras.layers import Dense, Activation, Flatten, Dropout, BatchNormalization\n",
    "from keras.layers import Conv2D, MaxPooling2D\n",
    "from keras.datasets import cifar10\n",
    "from keras import regularizers, optimizers\n",
    "import numpy as np\n",
    "from keras.models import load_model"
   ]
  },
  {
   "cell_type": "code",
   "execution_count": 2,
   "metadata": {
    "collapsed": true
   },
   "outputs": [],
   "source": [
    "(x_train, y_train), (x_test, y_test) = cifar10.load_data()\n",
    "# Create Validation set\n",
    "x_train, x_val = x_train[:45000], x_train[45000:]\n",
    "y_train, y_val = y_train[:45000], y_train[45000:]\n",
    "\n",
    "x_train = x_train.astype('float32')\n",
    "x_val = x_val.astype('float32')\n",
    "x_test = x_test.astype('float32')\n",
    "\n",
    "#z-score\n",
    "mean = np.mean(x_train,axis=(0,1,2,3))\n",
    "std = np.std(x_train,axis=(0,1,2,3))\n",
    "x_train = (x_train-mean)/(std+1e-7)\n",
    "x_val = (x_val-mean)/(std+1e-7)\n",
    "x_test = (x_test-mean)/(std+1e-7)\n",
    "\n",
    "num_classes = 10\n",
    "y_train = np_utils.to_categorical(y_train,num_classes)\n",
    "y_val = np_utils.to_categorical(y_val,num_classes)\n",
    "y_test = np_utils.to_categorical(y_test,num_classes)"
   ]
  },
  {
   "cell_type": "code",
   "execution_count": 3,
   "metadata": {
    "collapsed": true
   },
   "outputs": [],
   "source": [
    "# e_swish_2 custom activation\n",
    "def e_swish_2(x):\n",
    "    return K.maximum(x*K.sigmoid(x), x*(2-K.sigmoid(x)))"
   ]
  },
  {
   "cell_type": "code",
   "execution_count": 4,
   "metadata": {
    "collapsed": true
   },
   "outputs": [],
   "source": [
    "#data augmentation\n",
    "datagen = ImageDataGenerator(\n",
    "    featurewise_center=False,\n",
    "    samplewise_center=False,\n",
    "    featurewise_std_normalization=False,\n",
    "    samplewise_std_normalization=False,\n",
    "    zca_whitening=False,\n",
    "    rotation_range=15,\n",
    "    width_shift_range=0.1,\n",
    "    height_shift_range=0.1,\n",
    "    horizontal_flip=True,\n",
    "    vertical_flip=False\n",
    "    )\n",
    "datagen.fit(x_train)"
   ]
  },
  {
   "cell_type": "code",
   "execution_count": 5,
   "metadata": {
    "collapsed": true
   },
   "outputs": [],
   "source": [
    "# Will create a model with the following structure\n",
    "# ELU NETWORK CIFAR-100 VERSION\n",
    "#     weight_decay = 0.0005\n",
    "    \n",
    "#     model = Sequential()\n",
    "#     # First stack\n",
    "#     model.add(Conv2D(128, (3,3), padding='same', kernel_regularizer=regularizers.l2(weight_decay), input_shape=x_train.shape[1:]))\n",
    "#     model.add(Activation(act))\n",
    "#     model.add(BatchNormalization())\n",
    "#     model.add(MaxPooling2D(pool_size=(2,2)))\n",
    "    \n",
    "#     # Second stack\n",
    "#     model.add(Conv2D(128, (1,1), padding='same', kernel_regularizer=regularizers.l2(weight_decay)))\n",
    "#     model.add(Activation(act))\n",
    "#     model.add(Conv2D(128, (2,2), padding='same', kernel_regularizer=regularizers.l2(weight_decay)))\n",
    "#     model.add(Activation(act))\n",
    "#     model.add(Conv2D(200, (2,2), padding='same', kernel_regularizer=regularizers.l2(weight_decay)))\n",
    "#     model.add(Activation(act))\n",
    "#     model.add(Conv2D(200, (2,2), padding='same', kernel_regularizer=regularizers.l2(weight_decay)))\n",
    "#     model.add(Activation(act))\n",
    "#     model.add(BatchNormalization())\n",
    "#     model.add(MaxPooling2D(pool_size=(2,2)))\n",
    "#     model.add(Dropout(0.1))\n",
    "\n",
    "#     # Third stack\n",
    "#     model.add(Conv2D(200, (1,1), padding='same', kernel_regularizer=regularizers.l2(weight_decay)))\n",
    "#     model.add(Activation(act))\n",
    "#     model.add(Conv2D(220, (2,2), padding='same', kernel_regularizer=regularizers.l2(weight_decay)))\n",
    "#     model.add(Activation(act))\n",
    "#     model.add(Conv2D(220, (2,2), padding='same', kernel_regularizer=regularizers.l2(weight_decay)))\n",
    "#     model.add(Activation(act))\n",
    "#     model.add(Conv2D(220, (2,2), padding='same', kernel_regularizer=regularizers.l2(weight_decay)))\n",
    "#     model.add(Activation(act))\n",
    "#     model.add(BatchNormalization())\n",
    "#     model.add(MaxPooling2D(pool_size=(2,2)))\n",
    "#     model.add(Dropout(0.2))\n",
    "    \n",
    "#     # Fourth stack\n",
    "#     model.add(Conv2D(220, (1,1), padding='same', kernel_regularizer=regularizers.l2(weight_decay)))\n",
    "#     model.add(Activation(act))\n",
    "#     model.add(Conv2D(220, (2,2), padding='same', kernel_regularizer=regularizers.l2(weight_decay)))\n",
    "#     model.add(Activation(act))\n",
    "#     model.add(Conv2D(220, (2,2), padding='same', kernel_regularizer=regularizers.l2(weight_decay)))\n",
    "#     model.add(Activation(act))\n",
    "#     model.add(BatchNormalization())\n",
    "#     model.add(MaxPooling2D(pool_size=(2,2)))\n",
    "#     model.add(Dropout(0.3))\n",
    "    \n",
    "#     # Fifth stack\n",
    "#     model.add(Conv2D(240, (3,3), padding='same', kernel_regularizer=regularizers.l2(weight_decay)))\n",
    "#     model.add(Activation(act))\n",
    "#     model.add(Conv2D(256, (2,2), padding='same', kernel_regularizer=regularizers.l2(weight_decay)))\n",
    "#     model.add(Activation(act))\n",
    "#     model.add(Conv2D(256, (2,2), padding='same', kernel_regularizer=regularizers.l2(weight_decay)))\n",
    "#     model.add(Activation(act))\n",
    "#     model.add(BatchNormalization())\n",
    "#     model.add(MaxPooling2D(pool_size=(2,2)))\n",
    "#     model.add(Dropout(0.4))\n",
    "    \n",
    "#     # Sixth stack\n",
    "#     model.add(Conv2D(256, (1,1), padding='same', kernel_regularizer=regularizers.l2(weight_decay)))\n",
    "#     model.add(Activation(act))\n",
    "#     model.add(Conv2D(264, (1,1), padding='same', kernel_regularizer=regularizers.l2(weight_decay)))\n",
    "#     model.add(Activation(act))\n",
    "#     model.add(Dropout(0.4))\n",
    "                     \n",
    "#     # Sixth Seventh stack\n",
    "#     model.add(Conv2D(364, (1,1), padding='same', kernel_regularizer=regularizers.l2(weight_decay)))\n",
    "#     model.add(Activation(act))\n",
    "#     model.add(Dropout(0.3))\n",
    "    \n",
    "#     # and last stack\n",
    "#     model.add(Conv2D(10, (1,1), padding='same', kernel_regularizer=regularizers.l2(weight_decay)))\n",
    "#     model.add(Activation(\"sigmoid\"))\n",
    "\n",
    "#     model.add(Flatten())"
   ]
  },
  {
   "cell_type": "code",
   "execution_count": 6,
   "metadata": {
    "collapsed": true
   },
   "outputs": [],
   "source": [
    "def schedule(x):\n",
    "    if x<30:\n",
    "        return 0.01\n",
    "    elif x<45:\n",
    "        return 0.005\n",
    "    elif x<60:\n",
    "        return 0.001\n",
    "    elif x<70:\n",
    "        return 0.0005\n",
    "    else:\n",
    "        # Start from epoch 80\n",
    "        if x<90:\n",
    "            return 0.0001\n",
    "        else:\n",
    "            return 0.0001/2"
   ]
  },
  {
   "cell_type": "code",
   "execution_count": 8,
   "metadata": {},
   "outputs": [],
   "source": [
    "# Load model. See elu_network_cifar10.ipynb for details of prior training\n",
    "model = load_model(\"elu_network_mod_e_swish_2_w_batchnorm.h5\", custom_objects={\"e_swish_2\": e_swish_2})"
   ]
  },
  {
   "cell_type": "code",
   "execution_count": null,
   "metadata": {},
   "outputs": [
    {
     "name": "stdout",
     "output_type": "stream",
     "text": [
      "Finished compiling\n",
      "Gonna fit the model\n",
      "Epoch 81/110\n"
     ]
    }
   ],
   "source": [
    "# training - start from epoch 80\n",
    "batch_size  = 100\n",
    "epochs = 30 + 80\n",
    "\n",
    "opt = keras.optimizers.SGD(lr=0.01, momentum=0.9, decay=0.0, nesterov=False)\n",
    "lr_1 = keras.callbacks.LearningRateScheduler(schedule)\n",
    "model.compile(loss=\"categorical_crossentropy\", optimizer=opt, metrics=[\"accuracy\"])\n",
    "print(\"Finished compiling\")\n",
    "\n",
    "####################\n",
    "# Network training #\n",
    "####################\n",
    "                     \n",
    "print(\"Gonna fit the model\")\n",
    "his = model.fit_generator(datagen.flow(x_train, y_train, batch_size=batch_size),steps_per_epoch=x_train.shape[0] // batch_size,\n",
    "                          epochs=epochs,verbose=1,validation_data=(x_val,y_val), callbacks=[lr_1], initial_epoch=80)\n",
    "print(his.history)\n",
    "print(model.evaluate(x_test, y_test))\n",
    "model.save('elu_network_mod_e_swish_2_80.h5')"
   ]
  },
  {
   "cell_type": "code",
   "execution_count": null,
   "metadata": {
    "collapsed": true
   },
   "outputs": [],
   "source": []
  },
  {
   "cell_type": "code",
   "execution_count": null,
   "metadata": {
    "collapsed": true
   },
   "outputs": [],
   "source": []
  },
  {
   "cell_type": "code",
   "execution_count": null,
   "metadata": {
    "collapsed": true
   },
   "outputs": [],
   "source": []
  },
  {
   "cell_type": "code",
   "execution_count": null,
   "metadata": {
    "collapsed": true
   },
   "outputs": [],
   "source": []
  },
  {
   "cell_type": "code",
   "execution_count": null,
   "metadata": {
    "collapsed": true
   },
   "outputs": [],
   "source": []
  },
  {
   "cell_type": "code",
   "execution_count": null,
   "metadata": {
    "collapsed": true
   },
   "outputs": [],
   "source": []
  }
 ],
 "metadata": {
  "kernelspec": {
   "display_name": "Python 3",
   "language": "python",
   "name": "python3"
  },
  "language_info": {
   "codemirror_mode": {
    "name": "ipython",
    "version": 3
   },
   "file_extension": ".py",
   "mimetype": "text/x-python",
   "name": "python",
   "nbconvert_exporter": "python",
   "pygments_lexer": "ipython3",
   "version": "3.5.3"
  }
 },
 "nbformat": 4,
 "nbformat_minor": 2
}
