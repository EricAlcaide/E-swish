{
 "cells": [
  {
   "cell_type": "code",
   "execution_count": null,
   "metadata": {},
   "outputs": [
    {
     "name": "stderr",
     "output_type": "stream",
     "text": [
      "Using TensorFlow backend.\n"
     ]
    }
   ],
   "source": [
    "# Repeating the MNIST experiment\n",
    "\"\"\" An attempt to obtain impressive results on MNIST.\n",
    "    Code extracted from: https://github.com/shahariarrabby/Mnist_cnn_Swish\n",
    "    Expected results > 99.5%\n",
    "\"\"\"\n",
    "\n",
    "import numpy as np\n",
    "import matplotlib.pyplot as plt\n",
    "import matplotlib.image as mpimg\n",
    "%matplotlib inline\n",
    "\n",
    "np.random.seed(2)\n",
    "\n",
    "import keras\n",
    "from keras.utils.np_utils import to_categorical # convert to one-hot-encoding\n",
    "from keras.models import Sequential\n",
    "from keras.layers import Dense, Dropout, Flatten, Conv2D, MaxPool2D, Activation\n",
    "\n",
    "# For adding new activation function\n",
    "from keras import backend as K\n",
    "from keras.datasets import mnist\n",
    "from keras.utils.generic_utils import get_custom_objects\n",
    "from keras.utils import np_utils\n",
    "import tensorflow as tf"
   ]
  },
  {
   "cell_type": "code",
   "execution_count": 2,
   "metadata": {},
   "outputs": [
    {
     "name": "stdout",
     "output_type": "stream",
     "text": [
      "X_train original shape (60000, 28, 28)\n",
      "y_train original shape (60000,)\n"
     ]
    }
   ],
   "source": [
    "(X_train, Y_train), (X_test, Y_test) = mnist.load_data()\n",
    "print(\"X_train original shape\", X_train.shape)\n",
    "print(\"y_train original shape\", Y_train.shape)"
   ]
  },
  {
   "cell_type": "code",
   "execution_count": 3,
   "metadata": {
    "collapsed": true
   },
   "outputs": [],
   "source": [
    "# Normalization\n",
    "nb_classes = 10\n",
    "# Normalize the data\n",
    "X_train = X_train / 255.0\n",
    "X_test = X_test / 255.0"
   ]
  },
  {
   "cell_type": "code",
   "execution_count": 4,
   "metadata": {
    "collapsed": true
   },
   "outputs": [],
   "source": [
    "# Encode labels to one hot vectors (ex : 2 -> [0,0,1,0,0,0,0,0,0,0])\n",
    "Y_train = np_utils.to_categorical(Y_train, nb_classes)\n",
    "Y_test = np_utils.to_categorical(Y_test, nb_classes)"
   ]
  },
  {
   "cell_type": "code",
   "execution_count": 5,
   "metadata": {
    "collapsed": true
   },
   "outputs": [],
   "source": [
    "# Set the random seed\n",
    "random_seed = 2"
   ]
  },
  {
   "cell_type": "code",
   "execution_count": 7,
   "metadata": {
    "collapsed": true
   },
   "outputs": [],
   "source": [
    "# Reshape image in 3 dimensions (height = 28px, width = 28px , canal = 1)\n",
    "X_train = X_train.reshape(-1,28,28,1)\n",
    "X_test = X_test.reshape(-1,28,28,1)"
   ]
  },
  {
   "cell_type": "code",
   "execution_count": 8,
   "metadata": {
    "collapsed": true
   },
   "outputs": [],
   "source": [
    "def e_swish_2(x):\n",
    "    sigmoid = K.sigmoid(x)\n",
    "    return K.maximum(x*sigmoid, x*(2-sigmoid))"
   ]
  },
  {
   "cell_type": "code",
   "execution_count": 25,
   "metadata": {},
   "outputs": [],
   "source": [
    "# Set the CNN model \n",
    "# my CNN architechture is In -> [[Conv2D->relu]*2 -> MaxPool2D -> Dropout]*2 -> Flatten -> Dense -> Dropout -> Out\n",
    "def create(act):\n",
    "    with tf.device(\"/cpu:0\"):\n",
    "        model = Sequential()\n",
    "        # First conv block\n",
    "        model.add(Conv2D(filters=32, kernel_size=(5,5), padding='Same', input_shape = (28,28,1)))\n",
    "        model.add(Activation(act))\n",
    "        model.add(Conv2D(filters=32, kernel_size=(5, 5), padding=\"Same\"))\n",
    "        model.add(Activation(act))\n",
    "        model.add(MaxPool2D(pool_size=(2,2)))\n",
    "        model.add(Dropout(0.25))\n",
    "        # Second conv block\n",
    "        model.add(Conv2D(filters=64, kernel_size=(3,3), padding='Same'))\n",
    "        model.add(Activation(act))\n",
    "        model.add(Conv2D(filters=64, kernel_size=(3,3), padding='Same'))\n",
    "        model.add(Activation(act))\n",
    "        model.add(MaxPool2D(pool_size=(2,2), strides=(2,2)))\n",
    "        model.add(Dropout(0.25))\n",
    "        # Classification\n",
    "        model.add(Flatten())\n",
    "        model.add(Dense(256))\n",
    "        model.add(Activation(act))\n",
    "        model.add(Dropout(0.5))\n",
    "        model.add(Dense(nb_classes))\n",
    "        model.add(Activation(\"sigmoid\"))\n",
    "    \n",
    "    return model"
   ]
  },
  {
   "cell_type": "code",
   "execution_count": 27,
   "metadata": {},
   "outputs": [
    {
     "name": "stdout",
     "output_type": "stream",
     "text": [
      "Epoch 1/1\n",
      "60000/60000 [==============================] - 387s 6ms/step - loss: 0.1769 - acc: 0.9503\n",
      "{'loss': [0.17691457835470015], 'acc': [0.95025000000000004]}\n",
      "10000/10000 [==============================] - 20s 2ms/step\n",
      "[0.031686499312717935, 0.98980000000000001]\n"
     ]
    }
   ],
   "source": [
    "opt = keras.optimizers.Adam()\n",
    "epochs = 1    # Turn epochs to 30 to get 0.9967 accuracy\n",
    "batch_size = 64\n",
    "model = create(e_swish_2)\n",
    "model.compile(optimizer = opt , loss = \"categorical_crossentropy\", metrics=[\"accuracy\"])\n",
    "with tf.device(\"/cpu:0\"):\n",
    "    his = model.fit(X_train, Y_train, epochs = epochs, verbose=1)\n",
    "print(his.history)\n",
    "scores = model.evaluate(X_test, Y_test)\n",
    "print(scores)"
   ]
  },
  {
   "cell_type": "code",
   "execution_count": null,
   "metadata": {
    "collapsed": true
   },
   "outputs": [],
   "source": []
  }
 ],
 "metadata": {
  "kernelspec": {
   "display_name": "Python 3",
   "language": "python",
   "name": "python3"
  },
  "language_info": {
   "codemirror_mode": {
    "name": "ipython",
    "version": 3
   },
   "file_extension": ".py",
   "mimetype": "text/x-python",
   "name": "python",
   "nbconvert_exporter": "python",
   "pygments_lexer": "ipython3",
   "version": "3.5.3"
  }
 },
 "nbformat": 4,
 "nbformat_minor": 2
}
