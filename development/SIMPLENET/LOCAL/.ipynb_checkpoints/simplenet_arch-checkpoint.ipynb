{
 "cells": [
  {
   "cell_type": "code",
   "execution_count": 1,
   "metadata": {},
   "outputs": [
    {
     "name": "stderr",
     "output_type": "stream",
     "text": [
      "Using TensorFlow backend.\n"
     ]
    }
   ],
   "source": [
    "import keras\n",
    "import keras.backend as K\n",
    "from keras.models import Sequential\n",
    "from keras.utils import np_utils\n",
    "from keras.preprocessing.image import ImageDataGenerator\n",
    "from keras.layers import Dense, Activation, Flatten, Dropout, BatchNormalization\n",
    "from keras.layers import Conv2D, MaxPooling2D\n",
    "from keras.datasets import cifar10\n",
    "from keras import regularizers, optimizers\n",
    "from keras.models import load_model\n",
    "import numpy as np\n",
    "\n",
    "\n",
    "(x_train, y_train), (x_test, y_test) = cifar10.load_data()\n",
    "x_train = x_train.astype('float32')\n",
    "x_test = x_test.astype('float32')\n",
    "\n",
    "#z-score\n",
    "mean = np.mean(x_train,axis=(0,1,2,3))\n",
    "std = np.std(x_train,axis=(0,1,2,3))\n",
    "x_train = (x_train-mean)/(std+1e-7)\n",
    "x_test = (x_test-mean)/(std+1e-7)\n",
    "\n",
    "num_classes = 10\n",
    "y_train = np_utils.to_categorical(y_train,num_classes)\n",
    "y_test = np_utils.to_categorical(y_test,num_classes)"
   ]
  },
  {
   "cell_type": "code",
   "execution_count": 2,
   "metadata": {
    "collapsed": true
   },
   "outputs": [],
   "source": [
    "# Custom activation function 2\n",
    "# positive part of swish mirrored across x=1\n",
    "def e_swish_2(x):\n",
    "    return K.maximum(x*K.sigmoid(x), x*(2-K.sigmoid(x)))"
   ]
  },
  {
   "cell_type": "code",
   "execution_count": 3,
   "metadata": {
    "collapsed": true
   },
   "outputs": [],
   "source": [
    "act, act_name = e_swish_2, \"e_swish_2\""
   ]
  },
  {
   "cell_type": "code",
   "execution_count": 4,
   "metadata": {
    "scrolled": false
   },
   "outputs": [
    {
     "name": "stdout",
     "output_type": "stream",
     "text": [
      "_________________________________________________________________\n",
      "Layer (type)                 Output Shape              Param #   \n",
      "=================================================================\n",
      "conv2d_1 (Conv2D)            (None, 32, 32, 64)        1792      \n",
      "_________________________________________________________________\n",
      "activation_1 (Activation)    (None, 32, 32, 64)        0         \n",
      "_________________________________________________________________\n",
      "batch_normalization_1 (Batch (None, 32, 32, 64)        256       \n",
      "_________________________________________________________________\n",
      "conv2d_2 (Conv2D)            (None, 32, 32, 128)       73856     \n",
      "_________________________________________________________________\n",
      "activation_2 (Activation)    (None, 32, 32, 128)       0         \n",
      "_________________________________________________________________\n",
      "conv2d_3 (Conv2D)            (None, 32, 32, 128)       147584    \n",
      "_________________________________________________________________\n",
      "activation_3 (Activation)    (None, 32, 32, 128)       0         \n",
      "_________________________________________________________________\n",
      "conv2d_4 (Conv2D)            (None, 32, 32, 128)       147584    \n",
      "_________________________________________________________________\n",
      "activation_4 (Activation)    (None, 32, 32, 128)       0         \n",
      "_________________________________________________________________\n",
      "max_pooling2d_1 (MaxPooling2 (None, 16, 16, 128)       0         \n",
      "_________________________________________________________________\n",
      "conv2d_5 (Conv2D)            (None, 16, 16, 128)       147584    \n",
      "_________________________________________________________________\n",
      "activation_5 (Activation)    (None, 16, 16, 128)       0         \n",
      "_________________________________________________________________\n",
      "conv2d_6 (Conv2D)            (None, 16, 16, 128)       147584    \n",
      "_________________________________________________________________\n",
      "activation_6 (Activation)    (None, 16, 16, 128)       0         \n",
      "_________________________________________________________________\n",
      "conv2d_7 (Conv2D)            (None, 16, 16, 128)       147584    \n",
      "_________________________________________________________________\n",
      "activation_7 (Activation)    (None, 16, 16, 128)       0         \n",
      "_________________________________________________________________\n",
      "batch_normalization_2 (Batch (None, 16, 16, 128)       512       \n",
      "_________________________________________________________________\n",
      "max_pooling2d_2 (MaxPooling2 (None, 8, 8, 128)         0         \n",
      "_________________________________________________________________\n",
      "conv2d_8 (Conv2D)            (None, 8, 8, 128)         147584    \n",
      "_________________________________________________________________\n",
      "activation_8 (Activation)    (None, 8, 8, 128)         0         \n",
      "_________________________________________________________________\n",
      "conv2d_9 (Conv2D)            (None, 8, 8, 128)         147584    \n",
      "_________________________________________________________________\n",
      "activation_9 (Activation)    (None, 8, 8, 128)         0         \n",
      "_________________________________________________________________\n",
      "max_pooling2d_3 (MaxPooling2 (None, 4, 4, 128)         0         \n",
      "_________________________________________________________________\n",
      "conv2d_10 (Conv2D)           (None, 4, 4, 128)         147584    \n",
      "_________________________________________________________________\n",
      "activation_10 (Activation)   (None, 4, 4, 128)         0         \n",
      "_________________________________________________________________\n",
      "batch_normalization_3 (Batch (None, 4, 4, 128)         512       \n",
      "_________________________________________________________________\n",
      "conv2d_11 (Conv2D)           (None, 4, 4, 128)         16512     \n",
      "_________________________________________________________________\n",
      "activation_11 (Activation)   (None, 4, 4, 128)         0         \n",
      "_________________________________________________________________\n",
      "conv2d_12 (Conv2D)           (None, 4, 4, 128)         16512     \n",
      "_________________________________________________________________\n",
      "activation_12 (Activation)   (None, 4, 4, 128)         0         \n",
      "_________________________________________________________________\n",
      "conv2d_13 (Conv2D)           (None, 4, 4, 128)         16512     \n",
      "_________________________________________________________________\n",
      "activation_13 (Activation)   (None, 4, 4, 128)         0         \n",
      "_________________________________________________________________\n",
      "conv2d_14 (Conv2D)           (None, 4, 4, 128)         16512     \n",
      "_________________________________________________________________\n",
      "activation_14 (Activation)   (None, 4, 4, 128)         0         \n",
      "_________________________________________________________________\n",
      "conv2d_15 (Conv2D)           (None, 4, 4, 128)         16512     \n",
      "_________________________________________________________________\n",
      "activation_15 (Activation)   (None, 4, 4, 128)         0         \n",
      "_________________________________________________________________\n",
      "conv2d_16 (Conv2D)           (None, 4, 4, 128)         16512     \n",
      "_________________________________________________________________\n",
      "activation_16 (Activation)   (None, 4, 4, 128)         0         \n",
      "_________________________________________________________________\n",
      "conv2d_17 (Conv2D)           (None, 4, 4, 128)         16512     \n",
      "_________________________________________________________________\n",
      "activation_17 (Activation)   (None, 4, 4, 128)         0         \n",
      "_________________________________________________________________\n",
      "conv2d_18 (Conv2D)           (None, 4, 4, 128)         16512     \n",
      "_________________________________________________________________\n",
      "activation_18 (Activation)   (None, 4, 4, 128)         0         \n",
      "_________________________________________________________________\n",
      "conv2d_19 (Conv2D)           (None, 4, 4, 128)         16512     \n",
      "_________________________________________________________________\n",
      "activation_19 (Activation)   (None, 4, 4, 128)         0         \n",
      "_________________________________________________________________\n",
      "conv2d_20 (Conv2D)           (None, 4, 4, 128)         16512     \n",
      "_________________________________________________________________\n",
      "activation_20 (Activation)   (None, 4, 4, 128)         0         \n",
      "_________________________________________________________________\n",
      "conv2d_21 (Conv2D)           (None, 4, 4, 128)         147584    \n",
      "_________________________________________________________________\n",
      "activation_21 (Activation)   (None, 4, 4, 128)         0         \n",
      "_________________________________________________________________\n",
      "flatten_1 (Flatten)          (None, 2048)              0         \n",
      "_________________________________________________________________\n",
      "dense_1 (Dense)              (None, 10)                20490     \n",
      "=================================================================\n",
      "Total params: 1,590,794\n",
      "Trainable params: 1,590,154\n",
      "Non-trainable params: 640\n",
      "_________________________________________________________________\n"
     ]
    }
   ],
   "source": [
    "# SimpleNet Architecture model 4 CIFAR10\n",
    "baseMapNum = 32\n",
    "weight_decay = 1e-2\n",
    "s = 2\n",
    "\n",
    "model = Sequential()\n",
    "\n",
    "# Block 1\n",
    "model.add(Conv2D(64, (3,3), padding='same', kernel_regularizer=regularizers.l2(weight_decay), input_shape=x_train.shape[1:]))\n",
    "model.add(Activation(act))\n",
    "model.add(BatchNormalization())\n",
    "\n",
    "# Block 2-4\n",
    "for i in range(3):   \n",
    "    model.add(Conv2D(128, (3,3), padding='same', kernel_regularizer=regularizers.l2(weight_decay)))\n",
    "    model.add(Activation(act))\n",
    "#   model.add(BatchNormalization())\n",
    "    \n",
    "model.add(MaxPooling2D(pool_size=(2,2), strides=s))\n",
    "\n",
    "# Block 5-7\n",
    "for i in range(3):   \n",
    "    model.add(Conv2D(128, (3,3), padding='same', kernel_regularizer=regularizers.l2(weight_decay)))\n",
    "    model.add(Activation(act))\n",
    "#     model.add(BatchNormalization())\n",
    "\n",
    "model.add(BatchNormalization())\n",
    "model.add(MaxPooling2D(pool_size=(2,2), strides=s))\n",
    "\n",
    "# Blocks 8-9\n",
    "for i in range(2):   \n",
    "    model.add(Conv2D(128, (3,3), padding='same', kernel_regularizer=regularizers.l2(weight_decay)))\n",
    "    model.add(Activation(act))\n",
    "#     model.add(BatchNormalization())\n",
    "    \n",
    "model.add(MaxPooling2D(pool_size=(2,2), strides=s))\n",
    "\n",
    "# Block 10\n",
    "model.add(Conv2D(128, (3,3), padding='same', kernel_regularizer=regularizers.l2(weight_decay)))\n",
    "model.add(Activation(act))\n",
    "model.add(BatchNormalization())\n",
    "\n",
    "# Blocks 11-12\n",
    "for i in range(10):   \n",
    "    model.add(Conv2D(128, (1,1), padding='same', kernel_regularizer=regularizers.l2(weight_decay)))\n",
    "    model.add(Activation(act))\n",
    "#     model.add(BatchNormalization())\n",
    "    \n",
    "# model.add(MaxPooling2D(pool_size=(2,2), strides=s))\n",
    "\n",
    "# Block 13\n",
    "model.add(Conv2D(128, (3,3), padding='same', kernel_regularizer=regularizers.l2(weight_decay)))\n",
    "model.add(Activation(act))\n",
    "\n",
    "# Final Classifier\n",
    "model.add(Flatten())\n",
    "model.add(Dense(num_classes, activation='softmax'))\n",
    "\n",
    "model.summary()"
   ]
  },
  {
   "cell_type": "code",
   "execution_count": 5,
   "metadata": {
    "collapsed": true
   },
   "outputs": [],
   "source": [
    "#data augmentation\n",
    "datagen = ImageDataGenerator(\n",
    "    featurewise_center=False,\n",
    "    samplewise_center=False,\n",
    "    featurewise_std_normalization=False,\n",
    "    samplewise_std_normalization=False,\n",
    "    zca_whitening=False,\n",
    "    rotation_range=15,\n",
    "    width_shift_range=0.1,\n",
    "    height_shift_range=0.1,\n",
    "    horizontal_flip=True,\n",
    "    vertical_flip=False\n",
    "    )\n",
    "datagen.fit(x_train)"
   ]
  },
  {
   "cell_type": "code",
   "execution_count": 6,
   "metadata": {
    "scrolled": false
   },
   "outputs": [
    {
     "name": "stdout",
     "output_type": "stream",
     "text": [
      "Epoch 1/25\n",
      "390/390 [==============================] - 1023s - loss: 5.6210 - acc: 0.2136 - val_loss: 2.9544 - val_acc: 0.1001\n",
      "Epoch 2/25\n",
      "390/390 [==============================] - 1012s - loss: 2.0952 - acc: 0.2543 - val_loss: 2.4487 - val_acc: 0.1609\n",
      "Epoch 3/25\n",
      "390/390 [==============================] - 1008s - loss: 2.0524 - acc: 0.2728 - val_loss: 3.2297 - val_acc: 0.1180\n",
      "Epoch 4/25\n",
      "390/390 [==============================] - 1008s - loss: 1.9997 - acc: 0.2949 - val_loss: 2.1879 - val_acc: 0.2427\n",
      "Epoch 5/25\n",
      "390/390 [==============================] - 1008s - loss: 1.9938 - acc: 0.3009 - val_loss: 2.1999 - val_acc: 0.2442\n",
      "Epoch 6/25\n",
      "390/390 [==============================] - 1008s - loss: 1.9595 - acc: 0.3096 - val_loss: 2.4382 - val_acc: 0.1743\n",
      "Epoch 7/25\n",
      "390/390 [==============================] - 1008s - loss: 1.9618 - acc: 0.3146 - val_loss: 1.8388 - val_acc: 0.3658\n",
      "Epoch 8/25\n",
      "390/390 [==============================] - 1008s - loss: 1.9689 - acc: 0.3171 - val_loss: 1.9592 - val_acc: 0.3105\n",
      "Epoch 9/25\n",
      "390/390 [==============================] - 1008s - loss: 1.9313 - acc: 0.3288 - val_loss: 3.0426 - val_acc: 0.1352\n",
      "Epoch 10/25\n",
      "390/390 [==============================] - 1008s - loss: 1.9221 - acc: 0.3350 - val_loss: 2.6394 - val_acc: 0.1751\n",
      "Epoch 11/25\n",
      "390/390 [==============================] - 1008s - loss: 1.8873 - acc: 0.3493 - val_loss: 1.8818 - val_acc: 0.3493\n",
      "Epoch 12/25\n",
      "390/390 [==============================] - 1008s - loss: 1.8698 - acc: 0.3567 - val_loss: 1.8252 - val_acc: 0.3811\n",
      "Epoch 13/25\n",
      "390/390 [==============================] - 1008s - loss: 1.8592 - acc: 0.3623 - val_loss: 1.8071 - val_acc: 0.3683\n",
      "Epoch 14/25\n",
      "390/390 [==============================] - 1008s - loss: 1.8362 - acc: 0.3736 - val_loss: 1.7761 - val_acc: 0.3962\n",
      "Epoch 15/25\n",
      "390/390 [==============================] - 1012s - loss: 1.8661 - acc: 0.3599 - val_loss: 2.1666 - val_acc: 0.2719\n",
      "Epoch 16/25\n",
      "390/390 [==============================] - 1009s - loss: 1.8331 - acc: 0.3749 - val_loss: 3.1352 - val_acc: 0.1374\n",
      "Epoch 17/25\n",
      "390/390 [==============================] - 1008s - loss: 1.8221 - acc: 0.3848 - val_loss: 2.0396 - val_acc: 0.3258\n",
      "Epoch 18/25\n",
      "390/390 [==============================] - 1008s - loss: 1.7984 - acc: 0.3912 - val_loss: 1.9519 - val_acc: 0.3677\n",
      "Epoch 19/25\n",
      "390/390 [==============================] - 1008s - loss: 1.7733 - acc: 0.3994 - val_loss: 1.7015 - val_acc: 0.4214\n",
      "Epoch 20/25\n",
      "390/390 [==============================] - 1008s - loss: 1.7769 - acc: 0.4008 - val_loss: 2.2898 - val_acc: 0.3022\n",
      "Epoch 21/25\n",
      "390/390 [==============================] - 1008s - loss: 1.8440 - acc: 0.3827 - val_loss: 1.8165 - val_acc: 0.3918\n",
      "Epoch 22/25\n",
      "390/390 [==============================] - 1008s - loss: 1.7582 - acc: 0.4048 - val_loss: 1.8071 - val_acc: 0.3895\n",
      "Epoch 23/25\n",
      "390/390 [==============================] - 1008s - loss: 1.7486 - acc: 0.4128 - val_loss: 2.4566 - val_acc: 0.2005\n",
      "Epoch 24/25\n",
      "390/390 [==============================] - 1008s - loss: 1.7189 - acc: 0.4261 - val_loss: 1.8923 - val_acc: 0.3697\n",
      "Epoch 25/25\n",
      "390/390 [==============================] - 1008s - loss: 1.6968 - acc: 0.4365 - val_loss: 1.6897 - val_acc: 0.4326\n"
     ]
    }
   ],
   "source": [
    "# training for 25 epochs\n",
    "batch_size = 128\n",
    "epochs=25\n",
    "opt_adm = keras.optimizers.rmsprop(lr=0.001,decay=1e-5)\n",
    "model.compile(loss='categorical_crossentropy', optimizer=opt_adm, metrics=['accuracy'])\n",
    "his = model.fit_generator(datagen.flow(x_train, y_train, batch_size=batch_size),steps_per_epoch=x_train.shape[0] // batch_size,epochs=epochs,verbose=1,validation_data=(x_test,y_test))\n",
    "\n",
    "# his = model.fit(x_train, y_train, batch_size=batch_size, epochs=3*epochs,verbose=1,validation_data=(x_test,y_test))"
   ]
  },
  {
   "cell_type": "code",
   "execution_count": 7,
   "metadata": {},
   "outputs": [
    {
     "name": "stdout",
     "output_type": "stream",
     "text": [
      "{'loss': [5.6209571040593662, 2.0951795005094636, 2.0523659269665155, 1.9997001000998835, 1.9939237371024927, 1.959269530734153, 1.9618728280182178, 1.9687960090490346, 1.9312500182275096, 1.9220927905149097, 1.8872283964077554, 1.8694508553775107, 1.8591746335844983, 1.8360458160005091, 1.8660785625253995, 1.8329346336001267, 1.8220010495239396, 1.7986127764588944, 1.7733096279775176, 1.7769499484414966, 1.8440589062250461, 1.7581470729373838, 1.7487582575253733, 1.7189426673388, 1.6968520753919829], 'val_acc': [0.10009999999999999, 0.16089999999999999, 0.11799999999999999, 0.2427, 0.2442, 0.17430000000000001, 0.36580000000000001, 0.3105, 0.13519999999999999, 0.17510000000000001, 0.3493, 0.38109999999999999, 0.36830000000000002, 0.3962, 0.27189999999999998, 0.13739999999999999, 0.32579999999999998, 0.36770000000000003, 0.4214, 0.30220000000000002, 0.39179999999999998, 0.38950000000000001, 0.20050000000000001, 0.36969999999999997, 0.43259999999999998], 'val_loss': [2.9543575412750243, 2.4486523712158204, 3.2297036155700685, 2.1878982799530031, 2.1998589855194091, 2.4382192874908446, 1.8388262512207032, 1.9591505836486816, 3.0425828556060792, 2.6393532833099367, 1.8818079570770263, 1.8251803867340088, 1.8070872903823854, 1.7761418264389037, 2.166635962295532, 3.1351906833648679, 2.0395750255584715, 1.9519317024230958, 1.7014998371124268, 2.2897938724517823, 1.8164564424514771, 1.8070546188354493, 2.456606204223633, 1.8923143115997314, 1.6897300949096681], 'acc': [0.21356169871794872, 0.25425088223945952, 0.27277831247994866, 0.29487487970157278, 0.30087022780224726, 0.30959255695534244, 0.31462544111972979, 0.31717196020859728, 0.3288618864292589, 0.33503769652217025, 0.34927414178389327, 0.35673323709650379, 0.36230750720891808, 0.37359640681097284, 0.35992139876175661, 0.3749598973467444, 0.38480510103958787, 0.3911012191113884, 0.39950272698107153, 0.40074590953795391, 0.38269971127038893, 0.40483638112614617, 0.41261629772216873, 0.42609079244773967, 0.43643727944491573]}\n"
     ]
    }
   ],
   "source": [
    "print(his.history)"
   ]
  },
  {
   "cell_type": "code",
   "execution_count": 9,
   "metadata": {},
   "outputs": [
    {
     "name": "stdout",
     "output_type": "stream",
     "text": [
      "Epoch 1/7\n",
      "390/390 [==============================] - 1017s - loss: 1.5929 - acc: 0.4675 - val_loss: 1.7741 - val_acc: 0.3935\n",
      "Epoch 2/7\n",
      "390/390 [==============================] - 1012s - loss: 1.5610 - acc: 0.4787 - val_loss: 1.5645 - val_acc: 0.4726\n",
      "Epoch 3/7\n",
      "390/390 [==============================] - 1007s - loss: 1.5345 - acc: 0.4933 - val_loss: 1.8084 - val_acc: 0.4312\n",
      "Epoch 4/7\n",
      "390/390 [==============================] - 1007s - loss: 1.4930 - acc: 0.5125 - val_loss: 1.5567 - val_acc: 0.5057\n",
      "Epoch 5/7\n",
      "390/390 [==============================] - 1007s - loss: 1.4575 - acc: 0.5276 - val_loss: 1.5259 - val_acc: 0.4959\n",
      "Epoch 6/7\n",
      "390/390 [==============================] - 1007s - loss: 1.4396 - acc: 0.5381 - val_loss: 1.3421 - val_acc: 0.5716\n",
      "Epoch 7/7\n",
      "390/390 [==============================] - 1007s - loss: 1.4207 - acc: 0.5435 - val_loss: 1.5715 - val_acc: 0.4881\n"
     ]
    }
   ],
   "source": [
    "# training for 7 epochs more (l_r reduced by 1/2)\n",
    "batch_size = 128\n",
    "epochs=7\n",
    "opt_adm = keras.optimizers.rmsprop(lr=0.0005,decay=1e-6)\n",
    "model.compile(loss='categorical_crossentropy', optimizer=opt_adm, metrics=['accuracy'])\n",
    "his = model.fit_generator(datagen.flow(x_train, y_train, batch_size=batch_size),steps_per_epoch=x_train.shape[0] // batch_size,epochs=epochs,verbose=1,validation_data=(x_test,y_test))"
   ]
  },
  {
   "cell_type": "code",
   "execution_count": null,
   "metadata": {
    "collapsed": true
   },
   "outputs": [],
   "source": [
    "# training for 7 epochs more (l_r reduced by 1/2)\n",
    "batch_size = 128\n",
    "epochs=7\n",
    "opt_adm = keras.optimizers.rmsprop(lr=0.00025,decay=1e-7)\n",
    "model.compile(loss='categorical_crossentropy', optimizer=opt_adm, metrics=['accuracy'])\n",
    "his = model.fit_generator(datagen.flow(x_train, y_train, batch_size=batch_size),steps_per_epoch=x_train.shape[0] // batch_size,epochs=epochs,verbose=1,validation_data=(x_test,y_test))"
   ]
  },
  {
   "cell_type": "code",
   "execution_count": 16,
   "metadata": {},
   "outputs": [
    {
     "name": "stdout",
     "output_type": "stream",
     "text": [
      "{'loss': [1.2293948320242074, 1.217166005092666, 1.2050382819816705, 1.1991175673196894, 1.1870351748318102, 1.1760069362850269, 1.1701783463478395], 'val_acc': [0.63929999999999998, 0.60999999999999999, 0.65720000000000001, 0.6573, 0.57589999999999997, 0.64980000000000004, 0.6321], 'val_loss': [1.180369277191162, 1.2532865208625794, 1.1286667691230774, 1.1405270289421081, 1.3990194765090942, 1.1604224590301513, 1.2130172470092773], 'acc': [0.61596554487179489, 0.62233317296092694, 0.62660410649355003, 0.6308750401217853, 0.63257940329149975, 0.63957731791478833, 0.64288578763542015]}\n"
     ]
    }
   ],
   "source": [
    "print(his.history)"
   ]
  },
  {
   "cell_type": "code",
   "execution_count": 17,
   "metadata": {
    "collapsed": true
   },
   "outputs": [],
   "source": [
    "model.save(\"e_swish_2_latest.h5\")"
   ]
  },
  {
   "cell_type": "code",
   "execution_count": null,
   "metadata": {
    "collapsed": true
   },
   "outputs": [],
   "source": [
    "model = model.load(\"e_swish_2_latest.h5\")"
   ]
  },
  {
   "cell_type": "code",
   "execution_count": null,
   "metadata": {
    "collapsed": true
   },
   "outputs": [],
   "source": [
    "# training for 7 epochs more (l_r reduced by 1/2)\n",
    "batch_size = 128\n",
    "epochs=7\n",
    "opt_adm = keras.optimizers.rmsprop(lr=0.00125,decay=1e-8)\n",
    "model.compile(loss='categorical_crossentropy', optimizer=opt_adm, metrics=['accuracy'])\n",
    "his = model.fit_generator(datagen.flow(x_train, y_train, batch_size=batch_size),steps_per_epoch=x_train.shape[0] // batch_size,epochs=epochs,verbose=1,validation_data=(x_test,y_test))"
   ]
  },
  {
   "cell_type": "code",
   "execution_count": null,
   "metadata": {
    "collapsed": true
   },
   "outputs": [],
   "source": [
    "print(his.history)"
   ]
  },
  {
   "cell_type": "code",
   "execution_count": null,
   "metadata": {
    "collapsed": true
   },
   "outputs": [],
   "source": [
    "# training for 7 epochs more (l_r reduced by 1/2)\n",
    "batch_size = 128\n",
    "epochs=7\n",
    "opt_adm = keras.optimizers.rmsprop(lr=0.00075,decay=1e-8)\n",
    "model.compile(loss='categorical_crossentropy', optimizer=opt_adm, metrics=['accuracy'])\n",
    "his = model.fit_generator(datagen.flow(x_train, y_train, batch_size=batch_size),steps_per_epoch=x_train.shape[0] // batch_size,epochs=epochs,verbose=1,validation_data=(x_test,y_test))"
   ]
  },
  {
   "cell_type": "code",
   "execution_count": null,
   "metadata": {
    "collapsed": true
   },
   "outputs": [],
   "source": [
    "print(his.history)"
   ]
  },
  {
   "cell_type": "code",
   "execution_count": null,
   "metadata": {
    "collapsed": true
   },
   "outputs": [],
   "source": []
  }
 ],
 "metadata": {
  "kernelspec": {
   "display_name": "Python 3",
   "language": "python",
   "name": "python3"
  },
  "language_info": {
   "codemirror_mode": {
    "name": "ipython",
    "version": 3
   },
   "file_extension": ".py",
   "mimetype": "text/x-python",
   "name": "python",
   "nbconvert_exporter": "python",
   "pygments_lexer": "ipython3",
   "version": "3.5.3"
  }
 },
 "nbformat": 4,
 "nbformat_minor": 2
}
